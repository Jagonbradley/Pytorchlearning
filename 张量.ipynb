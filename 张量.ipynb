{
 "cells": [
  {
   "cell_type": "code",
   "execution_count": null,
   "metadata": {},
   "outputs": [],
   "source": [
    "import torch\n",
    "torch.Tensor([1,2,3])"
   ]
  },
  {
   "cell_type": "markdown",
   "metadata": {},
   "source": [
    "快捷键：一个单元格运行时shift+enter，新建一个单元格式cmd+enter"
   ]
  },
  {
   "cell_type": "code",
   "execution_count": null,
   "metadata": {},
   "outputs": [],
   "source": [
    "import numpy as np\n",
    "array1 = np.arange(12).reshape(3,4)\n",
    "array1\n"
   ]
  },
  {
   "cell_type": "markdown",
   "metadata": {},
   "source": [
    "## 创建空数组"
   ]
  },
  {
   "cell_type": "code",
   "execution_count": null,
   "metadata": {},
   "outputs": [],
   "source": [
    "torch.empty(3,4)"
   ]
  },
  {
   "cell_type": "code",
   "execution_count": null,
   "metadata": {},
   "outputs": [],
   "source": [
    "array1.dtype"
   ]
  },
  {
   "cell_type": "markdown",
   "metadata": {},
   "source": [
    "## 转置"
   ]
  },
  {
   "cell_type": "code",
   "execution_count": null,
   "metadata": {},
   "outputs": [],
   "source": [
    "a = torch.tensor(np.arange(8).reshape(2,2,2))\n",
    "a\n",
    "a1 = a.transpose(0,1)\n",
    "a1\n"
   ]
  },
  {
   "cell_type": "markdown",
   "metadata": {},
   "source": [
    "### torch example 1"
   ]
  },
  {
   "cell_type": "code",
   "execution_count": null,
   "metadata": {},
   "outputs": [],
   "source": [
    "import torch\n",
    "x = torch.arange(12)\n",
    "x"
   ]
  },
  {
   "cell_type": "code",
   "execution_count": null,
   "metadata": {},
   "outputs": [],
   "source": [
    "conda list"
   ]
  },
  {
   "cell_type": "code",
   "execution_count": null,
   "metadata": {},
   "outputs": [],
   "source": [
    "pip install torch"
   ]
  },
  {
   "cell_type": "code",
   "execution_count": null,
   "metadata": {},
   "outputs": [],
   "source": [
    "pip install numpy"
   ]
  },
  {
   "cell_type": "code",
   "execution_count": null,
   "metadata": {},
   "outputs": [],
   "source": [
    "import torch\n",
    "x = torch.tensor([1.0, 2, 4, 8])\n",
    "y = torch.tensor([2, 2, 2, 2])\n",
    "x + y, x - y, x * y, x / y, x ** y  # **运算符是求幂运算"
   ]
  },
  {
   "cell_type": "code",
   "execution_count": null,
   "metadata": {},
   "outputs": [],
   "source": [
    "torch.exp(x)"
   ]
  },
  {
   "cell_type": "markdown",
   "metadata": {},
   "source": [
    "#### 我们也可以把多个张量连结（concatenate）在一起， 把它们端对端地叠起来形成一个更大的张量。 我们只需要提供张量列表，并给出沿哪个轴连结。 下面的例子分别演示了当我们沿行（轴-0，形状的第一个元素） 和按列（轴-1，形状的第二个元素）连结两个矩阵时，会发生什么情况。 "
   ]
  },
  {
   "cell_type": "code",
   "execution_count": null,
   "metadata": {},
   "outputs": [],
   "source": [
    "X = torch.arange(12, dtype=torch.float32).reshape((3,4))\n",
    "Y = torch.tensor([[2.0, 1, 4, 3], [1, 2, 3, 4], [4, 3, 2, 1]])\n",
    "torch.cat((X, Y), dim=0), torch.cat((X, Y), dim=1)"
   ]
  },
  {
   "cell_type": "code",
   "execution_count": null,
   "metadata": {},
   "outputs": [],
   "source": [
    "X == Y"
   ]
  },
  {
   "cell_type": "code",
   "execution_count": null,
   "metadata": {},
   "outputs": [],
   "source": [
    "X. sum()"
   ]
  },
  {
   "cell_type": "markdown",
   "metadata": {},
   "source": [
    "## 广播机制"
   ]
  },
  {
   "cell_type": "code",
   "execution_count": null,
   "metadata": {},
   "outputs": [],
   "source": [
    "a = torch.arange(3).reshape((3, 1))\n",
    "b = torch.arange(2).reshape((1, 2))\n",
    "a, b\n",
    "a+b"
   ]
  },
  {
   "cell_type": "code",
   "execution_count": null,
   "metadata": {},
   "outputs": [],
   "source": [
    "##索引和切片\n",
    "X[-1],X[1:3]"
   ]
  },
  {
   "cell_type": "code",
   "execution_count": null,
   "metadata": {},
   "outputs": [],
   "source": [
    "import os\n",
    "\n",
    "os.makedirs(os.path.join('..', 'data'), exist_ok=True)\n",
    "data_file = os.path.join('..', 'data', 'house_tiny.csv')\n",
    "with open(data_file, 'w') as f:\n",
    "    f.write('NumRooms,Alley,Price\\n')  # 列名\n",
    "    f.write('NA,Pave,127500\\n')  # 每行表示一个数据样本\n",
    "    f.write('2,NA,106000\\n')\n",
    "    f.write('4,NA,178100\\n')\n",
    "    f.write('NA,NA,140000\\n')"
   ]
  },
  {
   "cell_type": "code",
   "execution_count": null,
   "metadata": {},
   "outputs": [],
   "source": [
    "import pandas as pd\n",
    "data = pd.read_csv(data_file)\n",
    "print(data)"
   ]
  },
  {
   "cell_type": "code",
   "execution_count": null,
   "metadata": {},
   "outputs": [],
   "source": [
    "pip install pandas"
   ]
  },
  {
   "cell_type": "code",
   "execution_count": null,
   "metadata": {},
   "outputs": [],
   "source": [
    "inputs, outputs = data.iloc[:, 0:2], data.iloc[:, 2]\n",
    "inputs = inputs.fillna(inputs.mean())\n",
    "print(inputs)"
   ]
  },
  {
   "cell_type": "code",
   "execution_count": null,
   "metadata": {},
   "outputs": [],
   "source": [
    "inputs = pd.get_dummies(inputs, dummy_na=True)\n",
    "print(inputs)"
   ]
  },
  {
   "cell_type": "code",
   "execution_count": null,
   "metadata": {},
   "outputs": [],
   "source": [
    "from mxnet import np\n",
    "\n",
    "X, y = np.array(inputs.values), np.array(outputs.values)\n",
    "X, y"
   ]
  },
  {
   "cell_type": "code",
   "execution_count": null,
   "metadata": {},
   "outputs": [],
   "source": [
    "pip install mxnet"
   ]
  },
  {
   "cell_type": "code",
   "execution_count": null,
   "metadata": {},
   "outputs": [],
   "source": [
    "import torch\n",
    "\n",
    "x = torch.tensor(3.0)\n",
    "y = torch.tensor(2.0)\n",
    "\n",
    "x + y, x * y, x / y, x**y"
   ]
  },
  {
   "cell_type": "code",
   "execution_count": null,
   "metadata": {},
   "outputs": [],
   "source": [
    "x = torch.arange(4)\n",
    "print(x)\n",
    "print(x[3])\n",
    "print(len(x))\n",
    "print(x.shape)"
   ]
  },
  {
   "cell_type": "code",
   "execution_count": null,
   "metadata": {},
   "outputs": [],
   "source": [
    "A = torch.arange(20).reshape(5, 4)\n",
    "A"
   ]
  },
  {
   "cell_type": "code",
   "execution_count": null,
   "metadata": {},
   "outputs": [],
   "source": [
    "A.T"
   ]
  },
  {
   "cell_type": "code",
   "execution_count": null,
   "metadata": {},
   "outputs": [],
   "source": [
    "B = torch.tensor([[1, 2, 3], [2, 0, 4], [3, 4, 5]])\n",
    "B\n",
    "B == B.T"
   ]
  },
  {
   "cell_type": "code",
   "execution_count": null,
   "metadata": {},
   "outputs": [],
   "source": [
    "A = torch.arange(20, dtype=torch.float32).reshape(5, 4)\n",
    "B = A.clone()  # 通过分配新内存，将A的一个副本分配给B\n",
    "A, A + B"
   ]
  },
  {
   "cell_type": "code",
   "execution_count": null,
   "metadata": {},
   "outputs": [],
   "source": [
    "##hadamard product 对应相乘\n",
    "A*B"
   ]
  },
  {
   "cell_type": "code",
   "execution_count": null,
   "metadata": {},
   "outputs": [],
   "source": [
    "a = 2\n",
    "X = torch.arange(24).reshape(2, 3, 4)\n",
    "a + X, (a * X).shape"
   ]
  },
  {
   "cell_type": "code",
   "execution_count": null,
   "metadata": {},
   "outputs": [],
   "source": [
    "x = torch.arange(4, dtype=torch.float32)\n",
    "x, x.sum()"
   ]
  },
  {
   "cell_type": "code",
   "execution_count": null,
   "metadata": {},
   "outputs": [],
   "source": [
    "A.shape, A.sum(),A"
   ]
  },
  {
   "cell_type": "code",
   "execution_count": null,
   "metadata": {},
   "outputs": [],
   "source": [
    "##数据降维\n",
    "A_sum_axis0 = A.sum(axis=0)\n",
    "A_sum_axis0, A_sum_axis0.shape"
   ]
  },
  {
   "cell_type": "code",
   "execution_count": null,
   "metadata": {},
   "outputs": [],
   "source": [
    "A_sum_axis0 = A.sum(axis=-1)#-1=1 -2=0\n",
    "A_sum_axis0, A_sum_axis0.shape"
   ]
  },
  {
   "cell_type": "code",
   "execution_count": null,
   "metadata": {},
   "outputs": [],
   "source": [
    "A_sum_axis0 = A.sum(axis=[0,1])\n",
    "A_sum_axis0, A_sum_axis0.shape"
   ]
  },
  {
   "cell_type": "code",
   "execution_count": null,
   "metadata": {},
   "outputs": [],
   "source": [
    "A.mean(), A.sum() / A.numel()"
   ]
  },
  {
   "cell_type": "code",
   "execution_count": null,
   "metadata": {},
   "outputs": [],
   "source": [
    "A.mean(axis=0), A.sum(axis=0) / A.shape[0]"
   ]
  },
  {
   "cell_type": "code",
   "execution_count": null,
   "metadata": {},
   "outputs": [],
   "source": [
    "#非降维求和\n",
    "sum_A = A.sum(axis=1, keepdims=True)\n",
    "sum_A"
   ]
  },
  {
   "cell_type": "code",
   "execution_count": null,
   "metadata": {},
   "outputs": [],
   "source": [
    "A / sum_A"
   ]
  },
  {
   "cell_type": "code",
   "execution_count": null,
   "metadata": {},
   "outputs": [],
   "source": [
    "A.cumsum(axis=0)"
   ]
  },
  {
   "cell_type": "code",
   "execution_count": null,
   "metadata": {},
   "outputs": [],
   "source": [
    "y = torch.ones(4, dtype = torch.float32)\n",
    "x, y, torch.dot(x, y)"
   ]
  },
  {
   "cell_type": "code",
   "execution_count": null,
   "metadata": {},
   "outputs": [],
   "source": [
    "torch.sum(x * y)"
   ]
  },
  {
   "cell_type": "code",
   "execution_count": null,
   "metadata": {},
   "outputs": [],
   "source": [
    "A.shape, x.shape, torch.mv(A, x)"
   ]
  },
  {
   "cell_type": "code",
   "execution_count": null,
   "metadata": {},
   "outputs": [],
   "source": [
    "B = torch.ones(4, 3)\n",
    "torch.mm(A, B),A,B"
   ]
  },
  {
   "cell_type": "code",
   "execution_count": null,
   "metadata": {},
   "outputs": [],
   "source": [
    "\n",
    "A.shape, x.shape, torch.mv(A, x)"
   ]
  },
  {
   "cell_type": "code",
   "execution_count": null,
   "metadata": {},
   "outputs": [],
   "source": [
    "%matplotlib inline\n",
    "import numpy as np\n",
    "from IPython import display\n",
    "from d2l import torch as d2l\n",
    "\n",
    "\n",
    "def f(x):\n",
    "    return 3 * x ** 2 - 4 * x\n",
    "\n",
    "def numerical_lim(f, x, h):\n",
    "    return (f(x + h) - f(x)) / h\n",
    "\n",
    "h = 0.1\n",
    "for i in range(5):\n",
    "    print(f'h={h:.5f}, numerical limit={numerical_lim(f, 1, h):.5f}')\n",
    "    h *= 0.1"
   ]
  },
  {
   "cell_type": "code",
   "execution_count": 50,
   "metadata": {},
   "outputs": [],
   "source": [
    "pip install matplotlib"
   ]
  },
  {
   "cell_type": "code",
   "execution_count": 51,
   "metadata": {},
   "outputs": [
    {
     "name": "stdout",
     "output_type": "stream",
     "text": [
      "Requirement already satisfied: d2l in /Users/jagon/anaconda3/envs/d2l/lib/python3.8/site-packages (0.17.2)\n",
      "Requirement already satisfied: jupyter==1.0.0 in /Users/jagon/anaconda3/envs/d2l/lib/python3.8/site-packages (from d2l) (1.0.0)\n",
      "Requirement already satisfied: matplotlib==3.3.3 in /Users/jagon/anaconda3/envs/d2l/lib/python3.8/site-packages (from d2l) (3.3.3)\n",
      "Requirement already satisfied: numpy==1.18.5 in /Users/jagon/anaconda3/envs/d2l/lib/python3.8/site-packages (from d2l) (1.18.5)\n",
      "Requirement already satisfied: requests==2.25.1 in /Users/jagon/anaconda3/envs/d2l/lib/python3.8/site-packages (from d2l) (2.25.1)\n",
      "Requirement already satisfied: pandas==1.2.2 in /Users/jagon/anaconda3/envs/d2l/lib/python3.8/site-packages (from d2l) (1.2.2)\n",
      "Requirement already satisfied: qtconsole in /Users/jagon/anaconda3/envs/d2l/lib/python3.8/site-packages (from jupyter==1.0.0->d2l) (5.2.2)\n",
      "Requirement already satisfied: ipykernel in /Users/jagon/anaconda3/envs/d2l/lib/python3.8/site-packages (from jupyter==1.0.0->d2l) (6.6.1)\n",
      "Requirement already satisfied: ipywidgets in /Users/jagon/anaconda3/envs/d2l/lib/python3.8/site-packages (from jupyter==1.0.0->d2l) (7.6.5)\n",
      "Requirement already satisfied: notebook in /Users/jagon/anaconda3/envs/d2l/lib/python3.8/site-packages (from jupyter==1.0.0->d2l) (6.4.7)\n",
      "Requirement already satisfied: jupyter-console in /Users/jagon/anaconda3/envs/d2l/lib/python3.8/site-packages (from jupyter==1.0.0->d2l) (6.4.0)\n",
      "Requirement already satisfied: nbconvert in /Users/jagon/anaconda3/envs/d2l/lib/python3.8/site-packages (from jupyter==1.0.0->d2l) (6.4.0)\n",
      "Requirement already satisfied: kiwisolver>=1.0.1 in /Users/jagon/anaconda3/envs/d2l/lib/python3.8/site-packages (from matplotlib==3.3.3->d2l) (1.3.2)\n",
      "Requirement already satisfied: pyparsing!=2.0.4,!=2.1.2,!=2.1.6,>=2.0.3 in /Users/jagon/anaconda3/envs/d2l/lib/python3.8/site-packages (from matplotlib==3.3.3->d2l) (3.0.6)\n",
      "Requirement already satisfied: pillow>=6.2.0 in /Users/jagon/anaconda3/envs/d2l/lib/python3.8/site-packages (from matplotlib==3.3.3->d2l) (9.0.0)\n",
      "Requirement already satisfied: cycler>=0.10 in /Users/jagon/anaconda3/envs/d2l/lib/python3.8/site-packages (from matplotlib==3.3.3->d2l) (0.11.0)\n",
      "Requirement already satisfied: python-dateutil>=2.1 in /Users/jagon/anaconda3/envs/d2l/lib/python3.8/site-packages (from matplotlib==3.3.3->d2l) (2.8.2)\n",
      "Requirement already satisfied: pytz>=2017.3 in /Users/jagon/anaconda3/envs/d2l/lib/python3.8/site-packages (from pandas==1.2.2->d2l) (2021.3)\n",
      "Requirement already satisfied: urllib3<1.27,>=1.21.1 in /Users/jagon/anaconda3/envs/d2l/lib/python3.8/site-packages (from requests==2.25.1->d2l) (1.26.8)\n",
      "Requirement already satisfied: idna<3,>=2.5 in /Users/jagon/anaconda3/envs/d2l/lib/python3.8/site-packages (from requests==2.25.1->d2l) (2.10)\n",
      "Requirement already satisfied: certifi>=2017.4.17 in /Users/jagon/anaconda3/envs/d2l/lib/python3.8/site-packages (from requests==2.25.1->d2l) (2021.10.8)\n",
      "Requirement already satisfied: chardet<5,>=3.0.2 in /Users/jagon/anaconda3/envs/d2l/lib/python3.8/site-packages (from requests==2.25.1->d2l) (4.0.0)\n",
      "Requirement already satisfied: six>=1.5 in /Users/jagon/anaconda3/envs/d2l/lib/python3.8/site-packages (from python-dateutil>=2.1->matplotlib==3.3.3->d2l) (1.16.0)\n",
      "Requirement already satisfied: jupyter-client<8.0 in /Users/jagon/anaconda3/envs/d2l/lib/python3.8/site-packages (from ipykernel->jupyter==1.0.0->d2l) (7.1.0)\n",
      "Requirement already satisfied: appnope in /Users/jagon/anaconda3/envs/d2l/lib/python3.8/site-packages (from ipykernel->jupyter==1.0.0->d2l) (0.1.2)\n",
      "Requirement already satisfied: ipython>=7.23.1 in /Users/jagon/anaconda3/envs/d2l/lib/python3.8/site-packages (from ipykernel->jupyter==1.0.0->d2l) (7.31.0)\n",
      "Requirement already satisfied: traitlets<6.0,>=5.1.0 in /Users/jagon/anaconda3/envs/d2l/lib/python3.8/site-packages (from ipykernel->jupyter==1.0.0->d2l) (5.1.1)\n",
      "Requirement already satisfied: matplotlib-inline<0.2.0,>=0.1.0 in /Users/jagon/anaconda3/envs/d2l/lib/python3.8/site-packages (from ipykernel->jupyter==1.0.0->d2l) (0.1.3)\n",
      "Requirement already satisfied: nest-asyncio in /Users/jagon/anaconda3/envs/d2l/lib/python3.8/site-packages (from ipykernel->jupyter==1.0.0->d2l) (1.5.4)\n",
      "Requirement already satisfied: tornado<7.0,>=4.2 in /Users/jagon/anaconda3/envs/d2l/lib/python3.8/site-packages (from ipykernel->jupyter==1.0.0->d2l) (6.1)\n",
      "Requirement already satisfied: debugpy<2.0,>=1.0.0 in /Users/jagon/anaconda3/envs/d2l/lib/python3.8/site-packages (from ipykernel->jupyter==1.0.0->d2l) (1.5.1)\n",
      "Requirement already satisfied: pexpect>4.3 in /Users/jagon/anaconda3/envs/d2l/lib/python3.8/site-packages (from ipython>=7.23.1->ipykernel->jupyter==1.0.0->d2l) (4.8.0)\n",
      "Requirement already satisfied: pickleshare in /Users/jagon/anaconda3/envs/d2l/lib/python3.8/site-packages (from ipython>=7.23.1->ipykernel->jupyter==1.0.0->d2l) (0.7.5)\n",
      "Requirement already satisfied: setuptools>=18.5 in /Users/jagon/anaconda3/envs/d2l/lib/python3.8/site-packages (from ipython>=7.23.1->ipykernel->jupyter==1.0.0->d2l) (58.0.4)\n",
      "Requirement already satisfied: jedi>=0.16 in /Users/jagon/anaconda3/envs/d2l/lib/python3.8/site-packages (from ipython>=7.23.1->ipykernel->jupyter==1.0.0->d2l) (0.18.1)\n",
      "Requirement already satisfied: backcall in /Users/jagon/anaconda3/envs/d2l/lib/python3.8/site-packages (from ipython>=7.23.1->ipykernel->jupyter==1.0.0->d2l) (0.2.0)\n",
      "Requirement already satisfied: prompt-toolkit!=3.0.0,!=3.0.1,<3.1.0,>=2.0.0 in /Users/jagon/anaconda3/envs/d2l/lib/python3.8/site-packages (from ipython>=7.23.1->ipykernel->jupyter==1.0.0->d2l) (3.0.24)\n",
      "Requirement already satisfied: decorator in /Users/jagon/anaconda3/envs/d2l/lib/python3.8/site-packages (from ipython>=7.23.1->ipykernel->jupyter==1.0.0->d2l) (5.1.1)\n",
      "Requirement already satisfied: pygments in /Users/jagon/anaconda3/envs/d2l/lib/python3.8/site-packages (from ipython>=7.23.1->ipykernel->jupyter==1.0.0->d2l) (2.11.2)\n",
      "Requirement already satisfied: parso<0.9.0,>=0.8.0 in /Users/jagon/anaconda3/envs/d2l/lib/python3.8/site-packages (from jedi>=0.16->ipython>=7.23.1->ipykernel->jupyter==1.0.0->d2l) (0.8.3)\n",
      "Requirement already satisfied: pyzmq>=13 in /Users/jagon/anaconda3/envs/d2l/lib/python3.8/site-packages (from jupyter-client<8.0->ipykernel->jupyter==1.0.0->d2l) (22.3.0)\n",
      "Requirement already satisfied: entrypoints in /Users/jagon/anaconda3/envs/d2l/lib/python3.8/site-packages (from jupyter-client<8.0->ipykernel->jupyter==1.0.0->d2l) (0.3)\n",
      "Requirement already satisfied: jupyter-core>=4.6.0 in /Users/jagon/anaconda3/envs/d2l/lib/python3.8/site-packages (from jupyter-client<8.0->ipykernel->jupyter==1.0.0->d2l) (4.9.1)\n",
      "Requirement already satisfied: ptyprocess>=0.5 in /Users/jagon/anaconda3/envs/d2l/lib/python3.8/site-packages (from pexpect>4.3->ipython>=7.23.1->ipykernel->jupyter==1.0.0->d2l) (0.7.0)\n",
      "Requirement already satisfied: wcwidth in /Users/jagon/anaconda3/envs/d2l/lib/python3.8/site-packages (from prompt-toolkit!=3.0.0,!=3.0.1,<3.1.0,>=2.0.0->ipython>=7.23.1->ipykernel->jupyter==1.0.0->d2l) (0.2.5)\n",
      "Requirement already satisfied: widgetsnbextension~=3.5.0 in /Users/jagon/anaconda3/envs/d2l/lib/python3.8/site-packages (from ipywidgets->jupyter==1.0.0->d2l) (3.5.2)\n",
      "Requirement already satisfied: nbformat>=4.2.0 in /Users/jagon/anaconda3/envs/d2l/lib/python3.8/site-packages (from ipywidgets->jupyter==1.0.0->d2l) (5.1.3)\n",
      "Requirement already satisfied: ipython-genutils~=0.2.0 in /Users/jagon/anaconda3/envs/d2l/lib/python3.8/site-packages (from ipywidgets->jupyter==1.0.0->d2l) (0.2.0)\n",
      "Requirement already satisfied: jupyterlab-widgets>=1.0.0 in /Users/jagon/anaconda3/envs/d2l/lib/python3.8/site-packages (from ipywidgets->jupyter==1.0.0->d2l) (1.0.2)\n",
      "Requirement already satisfied: jsonschema!=2.5.0,>=2.4 in /Users/jagon/anaconda3/envs/d2l/lib/python3.8/site-packages (from nbformat>=4.2.0->ipywidgets->jupyter==1.0.0->d2l) (4.4.0)\n",
      "Requirement already satisfied: attrs>=17.4.0 in /Users/jagon/anaconda3/envs/d2l/lib/python3.8/site-packages (from jsonschema!=2.5.0,>=2.4->nbformat>=4.2.0->ipywidgets->jupyter==1.0.0->d2l) (21.4.0)\n",
      "Requirement already satisfied: importlib-resources>=1.4.0 in /Users/jagon/anaconda3/envs/d2l/lib/python3.8/site-packages (from jsonschema!=2.5.0,>=2.4->nbformat>=4.2.0->ipywidgets->jupyter==1.0.0->d2l) (5.4.0)\n",
      "Requirement already satisfied: pyrsistent!=0.17.0,!=0.17.1,!=0.17.2,>=0.14.0 in /Users/jagon/anaconda3/envs/d2l/lib/python3.8/site-packages (from jsonschema!=2.5.0,>=2.4->nbformat>=4.2.0->ipywidgets->jupyter==1.0.0->d2l) (0.18.0)\n",
      "Requirement already satisfied: zipp>=3.1.0 in /Users/jagon/anaconda3/envs/d2l/lib/python3.8/site-packages (from importlib-resources>=1.4.0->jsonschema!=2.5.0,>=2.4->nbformat>=4.2.0->ipywidgets->jupyter==1.0.0->d2l) (3.7.0)\n",
      "Requirement already satisfied: prometheus-client in /Users/jagon/anaconda3/envs/d2l/lib/python3.8/site-packages (from notebook->jupyter==1.0.0->d2l) (0.12.0)\n",
      "Requirement already satisfied: jinja2 in /Users/jagon/anaconda3/envs/d2l/lib/python3.8/site-packages (from notebook->jupyter==1.0.0->d2l) (3.0.3)\n",
      "Requirement already satisfied: argon2-cffi in /Users/jagon/anaconda3/envs/d2l/lib/python3.8/site-packages (from notebook->jupyter==1.0.0->d2l) (21.3.0)\n",
      "Requirement already satisfied: Send2Trash>=1.8.0 in /Users/jagon/anaconda3/envs/d2l/lib/python3.8/site-packages (from notebook->jupyter==1.0.0->d2l) (1.8.0)\n",
      "Requirement already satisfied: terminado>=0.8.3 in /Users/jagon/anaconda3/envs/d2l/lib/python3.8/site-packages (from notebook->jupyter==1.0.0->d2l) (0.12.1)\n",
      "Requirement already satisfied: argon2-cffi-bindings in /Users/jagon/anaconda3/envs/d2l/lib/python3.8/site-packages (from argon2-cffi->notebook->jupyter==1.0.0->d2l) (21.2.0)\n",
      "Requirement already satisfied: cffi>=1.0.1 in /Users/jagon/anaconda3/envs/d2l/lib/python3.8/site-packages (from argon2-cffi-bindings->argon2-cffi->notebook->jupyter==1.0.0->d2l) (1.15.0)\n",
      "Requirement already satisfied: pycparser in /Users/jagon/anaconda3/envs/d2l/lib/python3.8/site-packages (from cffi>=1.0.1->argon2-cffi-bindings->argon2-cffi->notebook->jupyter==1.0.0->d2l) (2.21)\n",
      "Requirement already satisfied: MarkupSafe>=2.0 in /Users/jagon/anaconda3/envs/d2l/lib/python3.8/site-packages (from jinja2->notebook->jupyter==1.0.0->d2l) (2.0.1)\n",
      "Requirement already satisfied: pandocfilters>=1.4.1 in /Users/jagon/anaconda3/envs/d2l/lib/python3.8/site-packages (from nbconvert->jupyter==1.0.0->d2l) (1.5.0)\n",
      "Requirement already satisfied: testpath in /Users/jagon/anaconda3/envs/d2l/lib/python3.8/site-packages (from nbconvert->jupyter==1.0.0->d2l) (0.5.0)\n",
      "Requirement already satisfied: jupyterlab-pygments in /Users/jagon/anaconda3/envs/d2l/lib/python3.8/site-packages (from nbconvert->jupyter==1.0.0->d2l) (0.1.2)\n",
      "Requirement already satisfied: defusedxml in /Users/jagon/anaconda3/envs/d2l/lib/python3.8/site-packages (from nbconvert->jupyter==1.0.0->d2l) (0.7.1)\n",
      "Requirement already satisfied: nbclient<0.6.0,>=0.5.0 in /Users/jagon/anaconda3/envs/d2l/lib/python3.8/site-packages (from nbconvert->jupyter==1.0.0->d2l) (0.5.10)\n",
      "Requirement already satisfied: mistune<2,>=0.8.1 in /Users/jagon/anaconda3/envs/d2l/lib/python3.8/site-packages (from nbconvert->jupyter==1.0.0->d2l) (0.8.4)\n",
      "Requirement already satisfied: bleach in /Users/jagon/anaconda3/envs/d2l/lib/python3.8/site-packages (from nbconvert->jupyter==1.0.0->d2l) (4.1.0)\n",
      "Requirement already satisfied: packaging in /Users/jagon/anaconda3/envs/d2l/lib/python3.8/site-packages (from bleach->nbconvert->jupyter==1.0.0->d2l) (21.3)\n",
      "Requirement already satisfied: webencodings in /Users/jagon/anaconda3/envs/d2l/lib/python3.8/site-packages (from bleach->nbconvert->jupyter==1.0.0->d2l) (0.5.1)\n",
      "Requirement already satisfied: qtpy in /Users/jagon/anaconda3/envs/d2l/lib/python3.8/site-packages (from qtconsole->jupyter==1.0.0->d2l) (2.0.0)\n",
      "Note: you may need to restart the kernel to use updated packages.\n"
     ]
    }
   ],
   "source": [
    "pip install d2l"
   ]
  },
  {
   "cell_type": "code",
   "execution_count": 52,
   "metadata": {},
   "outputs": [
    {
     "name": "stdout",
     "output_type": "stream",
     "text": [
      "\n",
      "CommandNotFoundError: Your shell has not been properly configured to use 'conda activate'.\n",
      "To initialize your shell, run\n",
      "\n",
      "    $ conda init <SHELL_NAME>\n",
      "\n",
      "Currently supported shells are:\n",
      "  - bash\n",
      "  - fish\n",
      "  - tcsh\n",
      "  - xonsh\n",
      "  - zsh\n",
      "  - powershell\n",
      "\n",
      "See 'conda init --help' for more information and options.\n",
      "\n",
      "IMPORTANT: You may need to close and restart your shell after running 'conda init'.\n",
      "\n",
      "\n",
      "\n",
      "Note: you may need to restart the kernel to use updated packages.\n"
     ]
    }
   ],
   "source": [
    "conda activate d2l"
   ]
  },
  {
   "cell_type": "code",
   "execution_count": 53,
   "metadata": {},
   "outputs": [
    {
     "name": "stdout",
     "output_type": "stream",
     "text": [
      "Requirement already satisfied: torchvision in /Users/jagon/anaconda3/envs/d2l/lib/python3.8/site-packages (0.11.2)\n",
      "Requirement already satisfied: pillow!=8.3.0,>=5.3.0 in /Users/jagon/anaconda3/envs/d2l/lib/python3.8/site-packages (from torchvision) (9.0.0)\n",
      "Requirement already satisfied: numpy in /Users/jagon/anaconda3/envs/d2l/lib/python3.8/site-packages (from torchvision) (1.18.5)\n",
      "Requirement already satisfied: torch==1.10.1 in /Users/jagon/anaconda3/envs/d2l/lib/python3.8/site-packages (from torchvision) (1.10.1)\n",
      "Requirement already satisfied: typing-extensions in /Users/jagon/anaconda3/envs/d2l/lib/python3.8/site-packages (from torch==1.10.1->torchvision) (4.0.1)\n",
      "Note: you may need to restart the kernel to use updated packages.\n"
     ]
    }
   ],
   "source": [
    "pip install torchvision"
   ]
  },
  {
   "cell_type": "code",
   "execution_count": 63,
   "metadata": {},
   "outputs": [
    {
     "name": "stderr",
     "output_type": "stream",
     "text": [
      "/var/folders/24/r3v_8_hj5ng0rd8t2mjn0vhc0000gn/T/ipykernel_84474/2460519222.py:53: RuntimeWarning: divide by zero encountered in true_divide\n",
      "  plot(x, [f(x), x**3-1/x ,4*x-4], 'x', 'f(x)', legend=['f(x)', 'Tangent line (x=1)'])\n",
      "/var/folders/24/r3v_8_hj5ng0rd8t2mjn0vhc0000gn/T/ipykernel_84474/2460519222.py:4: DeprecationWarning: `set_matplotlib_formats` is deprecated since IPython 7.23, directly use `matplotlib_inline.backend_inline.set_matplotlib_formats()`\n",
      "  display.set_matplotlib_formats('svg')\n"
     ]
    },
    {
     "data": {
      "image/svg+xml": "<?xml version=\"1.0\" encoding=\"utf-8\" standalone=\"no\"?>\n<!DOCTYPE svg PUBLIC \"-//W3C//DTD SVG 1.1//EN\"\n  \"http://www.w3.org/Graphics/SVG/1.1/DTD/svg11.dtd\">\n<!-- Created with matplotlib (https://matplotlib.org/) -->\n<svg height=\"180.65625pt\" version=\"1.1\" viewBox=\"0 0 251.909047 180.65625\" width=\"251.909047pt\" xmlns=\"http://www.w3.org/2000/svg\" xmlns:xlink=\"http://www.w3.org/1999/xlink\">\n <metadata>\n  <rdf:RDF xmlns:cc=\"http://creativecommons.org/ns#\" xmlns:dc=\"http://purl.org/dc/elements/1.1/\" xmlns:rdf=\"http://www.w3.org/1999/02/22-rdf-syntax-ns#\">\n   <cc:Work>\n    <dc:type rdf:resource=\"http://purl.org/dc/dcmitype/StillImage\"/>\n    <dc:date>2022-01-14T11:33:31.260065</dc:date>\n    <dc:format>image/svg+xml</dc:format>\n    <dc:creator>\n     <cc:Agent>\n      <dc:title>Matplotlib v3.3.3, https://matplotlib.org/</dc:title>\n     </cc:Agent>\n    </dc:creator>\n   </cc:Work>\n  </rdf:RDF>\n </metadata>\n <defs>\n  <style type=\"text/css\">*{stroke-linecap:butt;stroke-linejoin:round;}</style>\n </defs>\n <g id=\"figure_1\">\n  <g id=\"patch_1\">\n   <path d=\"M -0 180.65625 \nL 251.909047 180.65625 \nL 251.909047 0 \nL -0 0 \nz\n\" style=\"fill:none;\"/>\n  </g>\n  <g id=\"axes_1\">\n   <g id=\"patch_2\">\n    <path d=\"M 48.982813 143.1 \nL 244.282813 143.1 \nL 244.282813 7.2 \nL 48.982813 7.2 \nz\n\" style=\"fill:#ffffff;\"/>\n   </g>\n   <g id=\"matplotlib.axis_1\">\n    <g id=\"xtick_1\">\n     <g id=\"line2d_1\">\n      <path clip-path=\"url(#p2dfe22bb13)\" d=\"M 57.860085 143.1 \nL 57.860085 7.2 \n\" style=\"fill:none;stroke:#b0b0b0;stroke-linecap:square;stroke-width:0.8;\"/>\n     </g>\n     <g id=\"line2d_2\">\n      <defs>\n       <path d=\"M 0 0 \nL 0 3.5 \n\" id=\"m507523d444\" style=\"stroke:#000000;stroke-width:0.8;\"/>\n      </defs>\n      <g>\n       <use style=\"stroke:#000000;stroke-width:0.8;\" x=\"57.860085\" xlink:href=\"#m507523d444\" y=\"143.1\"/>\n      </g>\n     </g>\n     <g id=\"text_1\">\n      <!-- 0 -->\n      <g transform=\"translate(54.678835 157.698438)scale(0.1 -0.1)\">\n       <defs>\n        <path d=\"M 31.78125 66.40625 \nQ 24.171875 66.40625 20.328125 58.90625 \nQ 16.5 51.421875 16.5 36.375 \nQ 16.5 21.390625 20.328125 13.890625 \nQ 24.171875 6.390625 31.78125 6.390625 \nQ 39.453125 6.390625 43.28125 13.890625 \nQ 47.125 21.390625 47.125 36.375 \nQ 47.125 51.421875 43.28125 58.90625 \nQ 39.453125 66.40625 31.78125 66.40625 \nz\nM 31.78125 74.21875 \nQ 44.046875 74.21875 50.515625 64.515625 \nQ 56.984375 54.828125 56.984375 36.375 \nQ 56.984375 17.96875 50.515625 8.265625 \nQ 44.046875 -1.421875 31.78125 -1.421875 \nQ 19.53125 -1.421875 13.0625 8.265625 \nQ 6.59375 17.96875 6.59375 36.375 \nQ 6.59375 54.828125 13.0625 64.515625 \nQ 19.53125 74.21875 31.78125 74.21875 \nz\n\" id=\"DejaVuSans-48\"/>\n       </defs>\n       <use xlink:href=\"#DejaVuSans-48\"/>\n      </g>\n     </g>\n    </g>\n    <g id=\"xtick_2\">\n     <g id=\"line2d_3\">\n      <path clip-path=\"url(#p2dfe22bb13)\" d=\"M 119.082656 143.1 \nL 119.082656 7.2 \n\" style=\"fill:none;stroke:#b0b0b0;stroke-linecap:square;stroke-width:0.8;\"/>\n     </g>\n     <g id=\"line2d_4\">\n      <g>\n       <use style=\"stroke:#000000;stroke-width:0.8;\" x=\"119.082656\" xlink:href=\"#m507523d444\" y=\"143.1\"/>\n      </g>\n     </g>\n     <g id=\"text_2\">\n      <!-- 1 -->\n      <g transform=\"translate(115.901406 157.698438)scale(0.1 -0.1)\">\n       <defs>\n        <path d=\"M 12.40625 8.296875 \nL 28.515625 8.296875 \nL 28.515625 63.921875 \nL 10.984375 60.40625 \nL 10.984375 69.390625 \nL 28.421875 72.90625 \nL 38.28125 72.90625 \nL 38.28125 8.296875 \nL 54.390625 8.296875 \nL 54.390625 0 \nL 12.40625 0 \nz\n\" id=\"DejaVuSans-49\"/>\n       </defs>\n       <use xlink:href=\"#DejaVuSans-49\"/>\n      </g>\n     </g>\n    </g>\n    <g id=\"xtick_3\">\n     <g id=\"line2d_5\">\n      <path clip-path=\"url(#p2dfe22bb13)\" d=\"M 180.305226 143.1 \nL 180.305226 7.2 \n\" style=\"fill:none;stroke:#b0b0b0;stroke-linecap:square;stroke-width:0.8;\"/>\n     </g>\n     <g id=\"line2d_6\">\n      <g>\n       <use style=\"stroke:#000000;stroke-width:0.8;\" x=\"180.305226\" xlink:href=\"#m507523d444\" y=\"143.1\"/>\n      </g>\n     </g>\n     <g id=\"text_3\">\n      <!-- 2 -->\n      <g transform=\"translate(177.123976 157.698438)scale(0.1 -0.1)\">\n       <defs>\n        <path d=\"M 19.1875 8.296875 \nL 53.609375 8.296875 \nL 53.609375 0 \nL 7.328125 0 \nL 7.328125 8.296875 \nQ 12.9375 14.109375 22.625 23.890625 \nQ 32.328125 33.6875 34.8125 36.53125 \nQ 39.546875 41.84375 41.421875 45.53125 \nQ 43.3125 49.21875 43.3125 52.78125 \nQ 43.3125 58.59375 39.234375 62.25 \nQ 35.15625 65.921875 28.609375 65.921875 \nQ 23.96875 65.921875 18.8125 64.3125 \nQ 13.671875 62.703125 7.8125 59.421875 \nL 7.8125 69.390625 \nQ 13.765625 71.78125 18.9375 73 \nQ 24.125 74.21875 28.421875 74.21875 \nQ 39.75 74.21875 46.484375 68.546875 \nQ 53.21875 62.890625 53.21875 53.421875 \nQ 53.21875 48.921875 51.53125 44.890625 \nQ 49.859375 40.875 45.40625 35.40625 \nQ 44.1875 33.984375 37.640625 27.21875 \nQ 31.109375 20.453125 19.1875 8.296875 \nz\n\" id=\"DejaVuSans-50\"/>\n       </defs>\n       <use xlink:href=\"#DejaVuSans-50\"/>\n      </g>\n     </g>\n    </g>\n    <g id=\"xtick_4\">\n     <g id=\"line2d_7\">\n      <path clip-path=\"url(#p2dfe22bb13)\" d=\"M 241.527797 143.1 \nL 241.527797 7.2 \n\" style=\"fill:none;stroke:#b0b0b0;stroke-linecap:square;stroke-width:0.8;\"/>\n     </g>\n     <g id=\"line2d_8\">\n      <g>\n       <use style=\"stroke:#000000;stroke-width:0.8;\" x=\"241.527797\" xlink:href=\"#m507523d444\" y=\"143.1\"/>\n      </g>\n     </g>\n     <g id=\"text_4\">\n      <!-- 3 -->\n      <g transform=\"translate(238.346547 157.698438)scale(0.1 -0.1)\">\n       <defs>\n        <path d=\"M 40.578125 39.3125 \nQ 47.65625 37.796875 51.625 33 \nQ 55.609375 28.21875 55.609375 21.1875 \nQ 55.609375 10.40625 48.1875 4.484375 \nQ 40.765625 -1.421875 27.09375 -1.421875 \nQ 22.515625 -1.421875 17.65625 -0.515625 \nQ 12.796875 0.390625 7.625 2.203125 \nL 7.625 11.71875 \nQ 11.71875 9.328125 16.59375 8.109375 \nQ 21.484375 6.890625 26.8125 6.890625 \nQ 36.078125 6.890625 40.9375 10.546875 \nQ 45.796875 14.203125 45.796875 21.1875 \nQ 45.796875 27.640625 41.28125 31.265625 \nQ 36.765625 34.90625 28.71875 34.90625 \nL 20.21875 34.90625 \nL 20.21875 43.015625 \nL 29.109375 43.015625 \nQ 36.375 43.015625 40.234375 45.921875 \nQ 44.09375 48.828125 44.09375 54.296875 \nQ 44.09375 59.90625 40.109375 62.90625 \nQ 36.140625 65.921875 28.71875 65.921875 \nQ 24.65625 65.921875 20.015625 65.03125 \nQ 15.375 64.15625 9.8125 62.3125 \nL 9.8125 71.09375 \nQ 15.4375 72.65625 20.34375 73.4375 \nQ 25.25 74.21875 29.59375 74.21875 \nQ 40.828125 74.21875 47.359375 69.109375 \nQ 53.90625 64.015625 53.90625 55.328125 \nQ 53.90625 49.265625 50.4375 45.09375 \nQ 46.96875 40.921875 40.578125 39.3125 \nz\n\" id=\"DejaVuSans-51\"/>\n       </defs>\n       <use xlink:href=\"#DejaVuSans-51\"/>\n      </g>\n     </g>\n    </g>\n    <g id=\"text_5\">\n     <!-- x -->\n     <g transform=\"translate(143.673438 171.376563)scale(0.1 -0.1)\">\n      <defs>\n       <path d=\"M 54.890625 54.6875 \nL 35.109375 28.078125 \nL 55.90625 0 \nL 45.3125 0 \nL 29.390625 21.484375 \nL 13.484375 0 \nL 2.875 0 \nL 24.125 28.609375 \nL 4.6875 54.6875 \nL 15.28125 54.6875 \nL 29.78125 35.203125 \nL 44.28125 54.6875 \nz\n\" id=\"DejaVuSans-120\"/>\n      </defs>\n      <use xlink:href=\"#DejaVuSans-120\"/>\n     </g>\n    </g>\n   </g>\n   <g id=\"matplotlib.axis_2\">\n    <g id=\"ytick_1\">\n     <g id=\"line2d_9\">\n      <path clip-path=\"url(#p2dfe22bb13)\" d=\"M 48.982813 136.926356 \nL 244.282813 136.926356 \n\" style=\"fill:none;stroke:#b0b0b0;stroke-linecap:square;stroke-width:0.8;\"/>\n     </g>\n     <g id=\"line2d_10\">\n      <defs>\n       <path d=\"M 0 0 \nL -3.5 0 \n\" id=\"mf57b81a1c2\" style=\"stroke:#000000;stroke-width:0.8;\"/>\n      </defs>\n      <g>\n       <use style=\"stroke:#000000;stroke-width:0.8;\" x=\"48.982813\" xlink:href=\"#mf57b81a1c2\" y=\"136.926356\"/>\n      </g>\n     </g>\n     <g id=\"text_6\">\n      <!-- −10 -->\n      <g transform=\"translate(20.878125 140.725575)scale(0.1 -0.1)\">\n       <defs>\n        <path d=\"M 10.59375 35.5 \nL 73.1875 35.5 \nL 73.1875 27.203125 \nL 10.59375 27.203125 \nz\n\" id=\"DejaVuSans-8722\"/>\n       </defs>\n       <use xlink:href=\"#DejaVuSans-8722\"/>\n       <use x=\"83.789062\" xlink:href=\"#DejaVuSans-49\"/>\n       <use x=\"147.412109\" xlink:href=\"#DejaVuSans-48\"/>\n      </g>\n     </g>\n    </g>\n    <g id=\"ytick_2\">\n     <g id=\"line2d_11\">\n      <path clip-path=\"url(#p2dfe22bb13)\" d=\"M 48.982813 100.635539 \nL 244.282813 100.635539 \n\" style=\"fill:none;stroke:#b0b0b0;stroke-linecap:square;stroke-width:0.8;\"/>\n     </g>\n     <g id=\"line2d_12\">\n      <g>\n       <use style=\"stroke:#000000;stroke-width:0.8;\" x=\"48.982813\" xlink:href=\"#mf57b81a1c2\" y=\"100.635539\"/>\n      </g>\n     </g>\n     <g id=\"text_7\">\n      <!-- 0 -->\n      <g transform=\"translate(35.620313 104.434758)scale(0.1 -0.1)\">\n       <use xlink:href=\"#DejaVuSans-48\"/>\n      </g>\n     </g>\n    </g>\n    <g id=\"ytick_3\">\n     <g id=\"line2d_13\">\n      <path clip-path=\"url(#p2dfe22bb13)\" d=\"M 48.982813 64.344722 \nL 244.282813 64.344722 \n\" style=\"fill:none;stroke:#b0b0b0;stroke-linecap:square;stroke-width:0.8;\"/>\n     </g>\n     <g id=\"line2d_14\">\n      <g>\n       <use style=\"stroke:#000000;stroke-width:0.8;\" x=\"48.982813\" xlink:href=\"#mf57b81a1c2\" y=\"64.344722\"/>\n      </g>\n     </g>\n     <g id=\"text_8\">\n      <!-- 10 -->\n      <g transform=\"translate(29.257813 68.143941)scale(0.1 -0.1)\">\n       <use xlink:href=\"#DejaVuSans-49\"/>\n       <use x=\"63.623047\" xlink:href=\"#DejaVuSans-48\"/>\n      </g>\n     </g>\n    </g>\n    <g id=\"ytick_4\">\n     <g id=\"line2d_15\">\n      <path clip-path=\"url(#p2dfe22bb13)\" d=\"M 48.982813 28.053905 \nL 244.282813 28.053905 \n\" style=\"fill:none;stroke:#b0b0b0;stroke-linecap:square;stroke-width:0.8;\"/>\n     </g>\n     <g id=\"line2d_16\">\n      <g>\n       <use style=\"stroke:#000000;stroke-width:0.8;\" x=\"48.982813\" xlink:href=\"#mf57b81a1c2\" y=\"28.053905\"/>\n      </g>\n     </g>\n     <g id=\"text_9\">\n      <!-- 20 -->\n      <g transform=\"translate(29.257813 31.853124)scale(0.1 -0.1)\">\n       <use xlink:href=\"#DejaVuSans-50\"/>\n       <use x=\"63.623047\" xlink:href=\"#DejaVuSans-48\"/>\n      </g>\n     </g>\n    </g>\n    <g id=\"text_10\">\n     <!-- f(x) -->\n     <g transform=\"translate(14.798438 83.771094)rotate(-90)scale(0.1 -0.1)\">\n      <defs>\n       <path d=\"M 37.109375 75.984375 \nL 37.109375 68.5 \nL 28.515625 68.5 \nQ 23.6875 68.5 21.796875 66.546875 \nQ 19.921875 64.59375 19.921875 59.515625 \nL 19.921875 54.6875 \nL 34.71875 54.6875 \nL 34.71875 47.703125 \nL 19.921875 47.703125 \nL 19.921875 0 \nL 10.890625 0 \nL 10.890625 47.703125 \nL 2.296875 47.703125 \nL 2.296875 54.6875 \nL 10.890625 54.6875 \nL 10.890625 58.5 \nQ 10.890625 67.625 15.140625 71.796875 \nQ 19.390625 75.984375 28.609375 75.984375 \nz\n\" id=\"DejaVuSans-102\"/>\n       <path d=\"M 31 75.875 \nQ 24.46875 64.65625 21.28125 53.65625 \nQ 18.109375 42.671875 18.109375 31.390625 \nQ 18.109375 20.125 21.3125 9.0625 \nQ 24.515625 -2 31 -13.1875 \nL 23.1875 -13.1875 \nQ 15.875 -1.703125 12.234375 9.375 \nQ 8.59375 20.453125 8.59375 31.390625 \nQ 8.59375 42.28125 12.203125 53.3125 \nQ 15.828125 64.359375 23.1875 75.875 \nz\n\" id=\"DejaVuSans-40\"/>\n       <path d=\"M 8.015625 75.875 \nL 15.828125 75.875 \nQ 23.140625 64.359375 26.78125 53.3125 \nQ 30.421875 42.28125 30.421875 31.390625 \nQ 30.421875 20.453125 26.78125 9.375 \nQ 23.140625 -1.703125 15.828125 -13.1875 \nL 8.015625 -13.1875 \nQ 14.5 -2 17.703125 9.0625 \nQ 20.90625 20.125 20.90625 31.390625 \nQ 20.90625 42.671875 17.703125 53.65625 \nQ 14.5 64.65625 8.015625 75.875 \nz\n\" id=\"DejaVuSans-41\"/>\n      </defs>\n      <use xlink:href=\"#DejaVuSans-102\"/>\n      <use x=\"35.205078\" xlink:href=\"#DejaVuSans-40\"/>\n      <use x=\"74.21875\" xlink:href=\"#DejaVuSans-120\"/>\n      <use x=\"133.398438\" xlink:href=\"#DejaVuSans-41\"/>\n     </g>\n    </g>\n   </g>\n   <g id=\"line2d_17\">\n    <path clip-path=\"url(#p2dfe22bb13)\" d=\"M 57.860085 100.635539 \nL 63.982342 101.978299 \nL 70.104599 103.103315 \nL 76.226856 104.010585 \nL 82.349113 104.700111 \nL 88.47137 105.171891 \nL 94.593628 105.425927 \nL 100.715885 105.462218 \nL 106.838142 105.280764 \nL 112.960399 104.881565 \nL 119.082656 104.264621 \nL 125.204913 103.429932 \nL 131.32717 102.377498 \nL 137.449427 101.10732 \nL 143.571684 99.619396 \nL 149.693941 97.913728 \nL 155.816198 95.990315 \nL 161.938455 93.849156 \nL 168.060712 91.490253 \nL 174.182969 88.913605 \nL 180.305226 86.119212 \nL 186.427483 83.107075 \nL 192.54974 79.877192 \nL 198.671997 76.429564 \nL 204.794255 72.764192 \nL 210.916512 68.881074 \nL 217.038769 64.780212 \nL 223.161026 60.461605 \nL 229.283283 55.925252 \nL 235.40554 51.171155 \n\" style=\"fill:none;stroke:#1f77b4;stroke-linecap:square;stroke-width:1.5;\"/>\n   </g>\n   <g id=\"line2d_18\">\n    <path clip-path=\"url(#p2dfe22bb13)\" d=\"M 63.982342 136.922727 \nL 70.104599 118.751915 \nL 76.226856 112.634493 \nL 82.349113 109.475982 \nL 88.47137 107.440067 \nL 94.593628 105.900127 \nL 100.715885 104.575167 \nL 106.838142 103.313802 \nL 112.960399 102.022252 \nL 119.082656 100.635539 \nL 125.204913 99.104397 \nL 131.32717 97.388721 \nL 137.449427 95.454048 \nL 143.571684 93.26954 \nL 149.693941 90.806776 \nL 155.816198 88.038997 \nL 161.938455 84.940615 \nL 168.060712 81.486891 \nL 174.182969 77.653711 \nL 180.305226 73.417426 \nL 186.427483 68.754748 \nL 192.54974 63.64266 \nL 198.671997 58.058364 \nL 204.794255 51.979231 \nL 210.916512 45.38277 \nL 217.038769 38.2466 \nL 223.161026 30.548428 \nL 229.283283 22.266038 \nL 235.40554 13.377273 \n\" style=\"fill:none;stroke:#bf00bf;stroke-dasharray:5.55,2.4;stroke-dashoffset:0;stroke-width:1.5;\"/>\n   </g>\n   <g id=\"line2d_19\">\n    <path clip-path=\"url(#p2dfe22bb13)\" d=\"M 57.860085 115.151866 \nL 63.982342 113.700233 \nL 70.104599 112.248601 \nL 76.226856 110.796968 \nL 82.349113 109.345335 \nL 88.47137 107.893703 \nL 94.593628 106.44207 \nL 100.715885 104.990437 \nL 106.838142 103.538805 \nL 112.960399 102.087172 \nL 119.082656 100.635539 \nL 125.204913 99.183907 \nL 131.32717 97.732274 \nL 137.449427 96.280641 \nL 143.571684 94.829008 \nL 149.693941 93.377376 \nL 155.816198 91.925743 \nL 161.938455 90.47411 \nL 168.060712 89.022478 \nL 174.182969 87.570845 \nL 180.305226 86.119212 \nL 186.427483 84.66758 \nL 192.54974 83.215947 \nL 198.671997 81.764314 \nL 204.794255 80.312682 \nL 210.916512 78.861049 \nL 217.038769 77.409416 \nL 223.161026 75.957784 \nL 229.283283 74.506151 \nL 235.40554 73.054518 \n\" style=\"fill:none;stroke:#008000;stroke-dasharray:9.6,2.4,1.5,2.4;stroke-dashoffset:0;stroke-width:1.5;\"/>\n   </g>\n   <g id=\"patch_3\">\n    <path d=\"M 48.982813 143.1 \nL 48.982813 7.2 \n\" style=\"fill:none;stroke:#000000;stroke-linecap:square;stroke-linejoin:miter;stroke-width:0.8;\"/>\n   </g>\n   <g id=\"patch_4\">\n    <path d=\"M 244.282813 143.1 \nL 244.282813 7.2 \n\" style=\"fill:none;stroke:#000000;stroke-linecap:square;stroke-linejoin:miter;stroke-width:0.8;\"/>\n   </g>\n   <g id=\"patch_5\">\n    <path d=\"M 48.982813 143.1 \nL 244.282813 143.1 \n\" style=\"fill:none;stroke:#000000;stroke-linecap:square;stroke-linejoin:miter;stroke-width:0.8;\"/>\n   </g>\n   <g id=\"patch_6\">\n    <path d=\"M 48.982813 7.2 \nL 244.282813 7.2 \n\" style=\"fill:none;stroke:#000000;stroke-linecap:square;stroke-linejoin:miter;stroke-width:0.8;\"/>\n   </g>\n   <g id=\"legend_1\">\n    <g id=\"patch_7\">\n     <path d=\"M 55.982813 44.55625 \nL 180.532813 44.55625 \nQ 182.532813 44.55625 182.532813 42.55625 \nL 182.532813 14.2 \nQ 182.532813 12.2 180.532813 12.2 \nL 55.982813 12.2 \nQ 53.982813 12.2 53.982813 14.2 \nL 53.982813 42.55625 \nQ 53.982813 44.55625 55.982813 44.55625 \nz\n\" style=\"fill:#ffffff;opacity:0.8;stroke:#cccccc;stroke-linejoin:miter;\"/>\n    </g>\n    <g id=\"line2d_20\">\n     <path d=\"M 57.982813 20.298437 \nL 77.982813 20.298437 \n\" style=\"fill:none;stroke:#1f77b4;stroke-linecap:square;stroke-width:1.5;\"/>\n    </g>\n    <g id=\"line2d_21\"/>\n    <g id=\"text_11\">\n     <!-- f(x) -->\n     <g transform=\"translate(85.982813 23.798437)scale(0.1 -0.1)\">\n      <use xlink:href=\"#DejaVuSans-102\"/>\n      <use x=\"35.205078\" xlink:href=\"#DejaVuSans-40\"/>\n      <use x=\"74.21875\" xlink:href=\"#DejaVuSans-120\"/>\n      <use x=\"133.398438\" xlink:href=\"#DejaVuSans-41\"/>\n     </g>\n    </g>\n    <g id=\"line2d_22\">\n     <path d=\"M 57.982813 34.976562 \nL 77.982813 34.976562 \n\" style=\"fill:none;stroke:#bf00bf;stroke-dasharray:5.55,2.4;stroke-dashoffset:0;stroke-width:1.5;\"/>\n    </g>\n    <g id=\"line2d_23\"/>\n    <g id=\"text_12\">\n     <!-- Tangent line (x=1) -->\n     <g transform=\"translate(85.982813 38.476562)scale(0.1 -0.1)\">\n      <defs>\n       <path d=\"M -0.296875 72.90625 \nL 61.375 72.90625 \nL 61.375 64.59375 \nL 35.5 64.59375 \nL 35.5 0 \nL 25.59375 0 \nL 25.59375 64.59375 \nL -0.296875 64.59375 \nz\n\" id=\"DejaVuSans-84\"/>\n       <path d=\"M 34.28125 27.484375 \nQ 23.390625 27.484375 19.1875 25 \nQ 14.984375 22.515625 14.984375 16.5 \nQ 14.984375 11.71875 18.140625 8.90625 \nQ 21.296875 6.109375 26.703125 6.109375 \nQ 34.1875 6.109375 38.703125 11.40625 \nQ 43.21875 16.703125 43.21875 25.484375 \nL 43.21875 27.484375 \nz\nM 52.203125 31.203125 \nL 52.203125 0 \nL 43.21875 0 \nL 43.21875 8.296875 \nQ 40.140625 3.328125 35.546875 0.953125 \nQ 30.953125 -1.421875 24.3125 -1.421875 \nQ 15.921875 -1.421875 10.953125 3.296875 \nQ 6 8.015625 6 15.921875 \nQ 6 25.140625 12.171875 29.828125 \nQ 18.359375 34.515625 30.609375 34.515625 \nL 43.21875 34.515625 \nL 43.21875 35.40625 \nQ 43.21875 41.609375 39.140625 45 \nQ 35.0625 48.390625 27.6875 48.390625 \nQ 23 48.390625 18.546875 47.265625 \nQ 14.109375 46.140625 10.015625 43.890625 \nL 10.015625 52.203125 \nQ 14.9375 54.109375 19.578125 55.046875 \nQ 24.21875 56 28.609375 56 \nQ 40.484375 56 46.34375 49.84375 \nQ 52.203125 43.703125 52.203125 31.203125 \nz\n\" id=\"DejaVuSans-97\"/>\n       <path d=\"M 54.890625 33.015625 \nL 54.890625 0 \nL 45.90625 0 \nL 45.90625 32.71875 \nQ 45.90625 40.484375 42.875 44.328125 \nQ 39.84375 48.1875 33.796875 48.1875 \nQ 26.515625 48.1875 22.3125 43.546875 \nQ 18.109375 38.921875 18.109375 30.90625 \nL 18.109375 0 \nL 9.078125 0 \nL 9.078125 54.6875 \nL 18.109375 54.6875 \nL 18.109375 46.1875 \nQ 21.34375 51.125 25.703125 53.5625 \nQ 30.078125 56 35.796875 56 \nQ 45.21875 56 50.046875 50.171875 \nQ 54.890625 44.34375 54.890625 33.015625 \nz\n\" id=\"DejaVuSans-110\"/>\n       <path d=\"M 45.40625 27.984375 \nQ 45.40625 37.75 41.375 43.109375 \nQ 37.359375 48.484375 30.078125 48.484375 \nQ 22.859375 48.484375 18.828125 43.109375 \nQ 14.796875 37.75 14.796875 27.984375 \nQ 14.796875 18.265625 18.828125 12.890625 \nQ 22.859375 7.515625 30.078125 7.515625 \nQ 37.359375 7.515625 41.375 12.890625 \nQ 45.40625 18.265625 45.40625 27.984375 \nz\nM 54.390625 6.78125 \nQ 54.390625 -7.171875 48.1875 -13.984375 \nQ 42 -20.796875 29.203125 -20.796875 \nQ 24.46875 -20.796875 20.265625 -20.09375 \nQ 16.0625 -19.390625 12.109375 -17.921875 \nL 12.109375 -9.1875 \nQ 16.0625 -11.328125 19.921875 -12.34375 \nQ 23.78125 -13.375 27.78125 -13.375 \nQ 36.625 -13.375 41.015625 -8.765625 \nQ 45.40625 -4.15625 45.40625 5.171875 \nL 45.40625 9.625 \nQ 42.625 4.78125 38.28125 2.390625 \nQ 33.9375 0 27.875 0 \nQ 17.828125 0 11.671875 7.65625 \nQ 5.515625 15.328125 5.515625 27.984375 \nQ 5.515625 40.671875 11.671875 48.328125 \nQ 17.828125 56 27.875 56 \nQ 33.9375 56 38.28125 53.609375 \nQ 42.625 51.21875 45.40625 46.390625 \nL 45.40625 54.6875 \nL 54.390625 54.6875 \nz\n\" id=\"DejaVuSans-103\"/>\n       <path d=\"M 56.203125 29.59375 \nL 56.203125 25.203125 \nL 14.890625 25.203125 \nQ 15.484375 15.921875 20.484375 11.0625 \nQ 25.484375 6.203125 34.421875 6.203125 \nQ 39.59375 6.203125 44.453125 7.46875 \nQ 49.3125 8.734375 54.109375 11.28125 \nL 54.109375 2.78125 \nQ 49.265625 0.734375 44.1875 -0.34375 \nQ 39.109375 -1.421875 33.890625 -1.421875 \nQ 20.796875 -1.421875 13.15625 6.1875 \nQ 5.515625 13.8125 5.515625 26.8125 \nQ 5.515625 40.234375 12.765625 48.109375 \nQ 20.015625 56 32.328125 56 \nQ 43.359375 56 49.78125 48.890625 \nQ 56.203125 41.796875 56.203125 29.59375 \nz\nM 47.21875 32.234375 \nQ 47.125 39.59375 43.09375 43.984375 \nQ 39.0625 48.390625 32.421875 48.390625 \nQ 24.90625 48.390625 20.390625 44.140625 \nQ 15.875 39.890625 15.1875 32.171875 \nz\n\" id=\"DejaVuSans-101\"/>\n       <path d=\"M 18.3125 70.21875 \nL 18.3125 54.6875 \nL 36.8125 54.6875 \nL 36.8125 47.703125 \nL 18.3125 47.703125 \nL 18.3125 18.015625 \nQ 18.3125 11.328125 20.140625 9.421875 \nQ 21.96875 7.515625 27.59375 7.515625 \nL 36.8125 7.515625 \nL 36.8125 0 \nL 27.59375 0 \nQ 17.1875 0 13.234375 3.875 \nQ 9.28125 7.765625 9.28125 18.015625 \nL 9.28125 47.703125 \nL 2.6875 47.703125 \nL 2.6875 54.6875 \nL 9.28125 54.6875 \nL 9.28125 70.21875 \nz\n\" id=\"DejaVuSans-116\"/>\n       <path id=\"DejaVuSans-32\"/>\n       <path d=\"M 9.421875 75.984375 \nL 18.40625 75.984375 \nL 18.40625 0 \nL 9.421875 0 \nz\n\" id=\"DejaVuSans-108\"/>\n       <path d=\"M 9.421875 54.6875 \nL 18.40625 54.6875 \nL 18.40625 0 \nL 9.421875 0 \nz\nM 9.421875 75.984375 \nL 18.40625 75.984375 \nL 18.40625 64.59375 \nL 9.421875 64.59375 \nz\n\" id=\"DejaVuSans-105\"/>\n       <path d=\"M 10.59375 45.40625 \nL 73.1875 45.40625 \nL 73.1875 37.203125 \nL 10.59375 37.203125 \nz\nM 10.59375 25.484375 \nL 73.1875 25.484375 \nL 73.1875 17.1875 \nL 10.59375 17.1875 \nz\n\" id=\"DejaVuSans-61\"/>\n      </defs>\n      <use xlink:href=\"#DejaVuSans-84\"/>\n      <use x=\"44.583984\" xlink:href=\"#DejaVuSans-97\"/>\n      <use x=\"105.863281\" xlink:href=\"#DejaVuSans-110\"/>\n      <use x=\"169.242188\" xlink:href=\"#DejaVuSans-103\"/>\n      <use x=\"232.71875\" xlink:href=\"#DejaVuSans-101\"/>\n      <use x=\"294.242188\" xlink:href=\"#DejaVuSans-110\"/>\n      <use x=\"357.621094\" xlink:href=\"#DejaVuSans-116\"/>\n      <use x=\"396.830078\" xlink:href=\"#DejaVuSans-32\"/>\n      <use x=\"428.617188\" xlink:href=\"#DejaVuSans-108\"/>\n      <use x=\"456.400391\" xlink:href=\"#DejaVuSans-105\"/>\n      <use x=\"484.183594\" xlink:href=\"#DejaVuSans-110\"/>\n      <use x=\"547.5625\" xlink:href=\"#DejaVuSans-101\"/>\n      <use x=\"609.085938\" xlink:href=\"#DejaVuSans-32\"/>\n      <use x=\"640.873047\" xlink:href=\"#DejaVuSans-40\"/>\n      <use x=\"679.886719\" xlink:href=\"#DejaVuSans-120\"/>\n      <use x=\"739.066406\" xlink:href=\"#DejaVuSans-61\"/>\n      <use x=\"822.855469\" xlink:href=\"#DejaVuSans-49\"/>\n      <use x=\"886.478516\" xlink:href=\"#DejaVuSans-41\"/>\n     </g>\n    </g>\n   </g>\n  </g>\n </g>\n <defs>\n  <clipPath id=\"p2dfe22bb13\">\n   <rect height=\"135.9\" width=\"195.3\" x=\"48.982813\" y=\"7.2\"/>\n  </clipPath>\n </defs>\n</svg>\n",
      "text/plain": [
       "<Figure size 252x180 with 1 Axes>"
      ]
     },
     "metadata": {
      "needs_background": "light"
     },
     "output_type": "display_data"
    }
   ],
   "source": [
    "import numpy as np\n",
    "def use_svg_display():  #@save\n",
    "    \"\"\"使用svg格式在Jupyter中显示绘图\"\"\"\n",
    "    display.set_matplotlib_formats('svg')\n",
    "def set_figsize(figsize=(3.5, 2.5)):  #@save\n",
    "    \"\"\"设置matplotlib的图表大小\"\"\"\n",
    "    use_svg_display()\n",
    "    d2l.plt.rcParams['figure.figsize'] = figsize\n",
    "#@save\n",
    "def set_axes(axes, xlabel, ylabel, xlim, ylim, xscale, yscale, legend):\n",
    "    \"\"\"设置matplotlib的轴\"\"\"\n",
    "    axes.set_xlabel(xlabel)\n",
    "    axes.set_ylabel(ylabel)\n",
    "    axes.set_xscale(xscale)\n",
    "    axes.set_yscale(yscale)\n",
    "    axes.set_xlim(xlim)\n",
    "    axes.set_ylim(ylim)\n",
    "    if legend:\n",
    "        axes.legend(legend)\n",
    "    axes.grid()\n",
    "#@save\n",
    "def plot(X, Y=None, xlabel=None, ylabel=None, legend=None, xlim=None,\n",
    "         ylim=None, xscale='linear', yscale='linear',\n",
    "         fmts=('-', 'm--', 'g-.', 'r:'), figsize=(3.5, 2.5), axes=None):\n",
    "    \"\"\"绘制数据点\"\"\"\n",
    "    if legend is None:\n",
    "        legend = []\n",
    "\n",
    "    set_figsize(figsize)\n",
    "    axes = axes if axes else d2l.plt.gca()\n",
    "\n",
    "    # 如果X有一个轴，输出True\n",
    "    def has_one_axis(X):\n",
    "        return (hasattr(X, \"ndim\") and X.ndim == 1 or isinstance(X, list)\n",
    "                and not hasattr(X[0], \"__len__\"))\n",
    "\n",
    "    if has_one_axis(X):\n",
    "        X = [X]\n",
    "    if Y is None:\n",
    "        X, Y = [[]] * len(X), X\n",
    "    elif has_one_axis(Y):\n",
    "        Y = [Y]\n",
    "    if len(X) != len(Y):\n",
    "        X = X * len(Y)\n",
    "    axes.cla()\n",
    "    for x, y, fmt in zip(X, Y, fmts):\n",
    "        if len(x):\n",
    "            axes.plot(x, y, fmt)\n",
    "        else:\n",
    "            axes.plot(y, fmt)\n",
    "    set_axes(axes, xlabel, ylabel, xlim, ylim, xscale, yscale, legend)\n",
    "x = np.arange(0, 3, 0.1)\n",
    "plot(x, [f(x), x**3-1/x ,4*x-4], 'x', 'f(x)', legend=['f(x)', 'Tangent line (x=1)'])"
   ]
  },
  {
   "cell_type": "code",
   "execution_count": 70,
   "metadata": {},
   "outputs": [
    {
     "data": {
      "text/plain": [
       "tensor([True, True, True, True])"
      ]
     },
     "execution_count": 70,
     "metadata": {},
     "output_type": "execute_result"
    }
   ],
   "source": [
    "import torch\n",
    "\n",
    "x = torch.arange(4.0)\n",
    "x.requires_grad_(True)  # 等价于x=torch.arange(4.0,requires_grad=True)\n",
    "x.grad  # 默认值是None\n",
    "y = 2 * torch.dot(x, x)\n",
    "y\n",
    "y.backward()\n",
    "x.grad\n",
    "x.grad == 4 * x\n"
   ]
  },
  {
   "cell_type": "code",
   "execution_count": 71,
   "metadata": {},
   "outputs": [
    {
     "data": {
      "text/plain": [
       "tensor([1., 1., 1., 1.])"
      ]
     },
     "execution_count": 71,
     "metadata": {},
     "output_type": "execute_result"
    }
   ],
   "source": [
    "# 在默认情况下，PyTorch会累积梯度，我们需要清除之前的值\n",
    "x.grad.zero_()\n",
    "y = x.sum()\n",
    "y.backward()\n",
    "x.grad"
   ]
  },
  {
   "cell_type": "code",
   "execution_count": 72,
   "metadata": {},
   "outputs": [
    {
     "data": {
      "text/plain": [
       "tensor([0., 2., 4., 6.])"
      ]
     },
     "execution_count": 72,
     "metadata": {},
     "output_type": "execute_result"
    }
   ],
   "source": [
    "# 对非标量调用backward需要传入一个gradient参数，该参数指定微分函数关于self的梯度。\n",
    "# 在我们的例子中，我们只想求偏导数的和，所以传递一个1的梯度是合适的\n",
    "x.grad.zero_()\n",
    "y = x * x\n",
    "# 等价于y.backward(torch.ones(len(x)))\n",
    "y.sum().backward()\n",
    "x.grad"
   ]
  },
  {
   "cell_type": "code",
   "execution_count": 73,
   "metadata": {},
   "outputs": [
    {
     "data": {
      "text/plain": [
       "tensor([True, True, True, True])"
      ]
     },
     "execution_count": 73,
     "metadata": {},
     "output_type": "execute_result"
    }
   ],
   "source": [
    "x.grad.zero_()\n",
    "y = x * x\n",
    "u = y.detach()\n",
    "z = u * x\n",
    "\n",
    "z.sum().backward()\n",
    "x.grad == u"
   ]
  },
  {
   "cell_type": "code",
   "execution_count": 74,
   "metadata": {},
   "outputs": [
    {
     "data": {
      "text/plain": [
       "tensor([True, True, True, True])"
      ]
     },
     "execution_count": 74,
     "metadata": {},
     "output_type": "execute_result"
    }
   ],
   "source": [
    "x.grad.zero_()\n",
    "y.sum().backward()\n",
    "x.grad == 2 * x"
   ]
  },
  {
   "cell_type": "code",
   "execution_count": 75,
   "metadata": {},
   "outputs": [
    {
     "data": {
      "text/plain": [
       "tensor([0., 0., 0., 0., 0., 1.])"
      ]
     },
     "execution_count": 75,
     "metadata": {},
     "output_type": "execute_result"
    }
   ],
   "source": [
    "%matplotlib inline\n",
    "import torch\n",
    "from torch.distributions import multinomial\n",
    "from d2l import torch as d2l\n",
    "fair_probs = torch.ones([6]) / 6\n",
    "multinomial.Multinomial(1, fair_probs).sample()"
   ]
  },
  {
   "cell_type": "code",
   "execution_count": 77,
   "metadata": {},
   "outputs": [
    {
     "data": {
      "text/plain": [
       "tensor([4., 1., 1., 1., 0., 3.])"
      ]
     },
     "execution_count": 77,
     "metadata": {},
     "output_type": "execute_result"
    }
   ],
   "source": [
    "multinomial.Multinomial(10, fair_probs).sample()"
   ]
  },
  {
   "cell_type": "code",
   "execution_count": 78,
   "metadata": {},
   "outputs": [
    {
     "data": {
      "text/plain": [
       "tensor([0.1580, 0.1580, 0.1660, 0.1680, 0.1610, 0.1890])"
      ]
     },
     "execution_count": 78,
     "metadata": {},
     "output_type": "execute_result"
    }
   ],
   "source": [
    "# 将结果存储为32位浮点数以进行除法\n",
    "counts = multinomial.Multinomial(1000, fair_probs).sample()\n",
    "counts / 1000  # 相对频率作为估计值"
   ]
  },
  {
   "cell_type": "code",
   "execution_count": 79,
   "metadata": {},
   "outputs": [
    {
     "data": {
      "image/svg+xml": "<?xml version=\"1.0\" encoding=\"utf-8\" standalone=\"no\"?>\n<!DOCTYPE svg PUBLIC \"-//W3C//DTD SVG 1.1//EN\"\n  \"http://www.w3.org/Graphics/SVG/1.1/DTD/svg11.dtd\">\n<!-- Created with matplotlib (https://matplotlib.org/) -->\n<svg height=\"289.37625pt\" version=\"1.1\" viewBox=\"0 0 392.14375 289.37625\" width=\"392.14375pt\" xmlns=\"http://www.w3.org/2000/svg\" xmlns:xlink=\"http://www.w3.org/1999/xlink\">\n <metadata>\n  <rdf:RDF xmlns:cc=\"http://creativecommons.org/ns#\" xmlns:dc=\"http://purl.org/dc/elements/1.1/\" xmlns:rdf=\"http://www.w3.org/1999/02/22-rdf-syntax-ns#\">\n   <cc:Work>\n    <dc:type rdf:resource=\"http://purl.org/dc/dcmitype/StillImage\"/>\n    <dc:date>2022-01-14T16:01:17.086768</dc:date>\n    <dc:format>image/svg+xml</dc:format>\n    <dc:creator>\n     <cc:Agent>\n      <dc:title>Matplotlib v3.3.3, https://matplotlib.org/</dc:title>\n     </cc:Agent>\n    </dc:creator>\n   </cc:Work>\n  </rdf:RDF>\n </metadata>\n <defs>\n  <style type=\"text/css\">*{stroke-linecap:butt;stroke-linejoin:round;}</style>\n </defs>\n <g id=\"figure_1\">\n  <g id=\"patch_1\">\n   <path d=\"M 0 289.37625 \nL 392.14375 289.37625 \nL 392.14375 0 \nL 0 0 \nz\n\" style=\"fill:none;\"/>\n  </g>\n  <g id=\"axes_1\">\n   <g id=\"patch_2\">\n    <path d=\"M 50.14375 251.82 \nL 384.94375 251.82 \nL 384.94375 7.2 \nL 50.14375 7.2 \nz\n\" style=\"fill:#ffffff;\"/>\n   </g>\n   <g id=\"matplotlib.axis_1\">\n    <g id=\"xtick_1\">\n     <g id=\"line2d_1\">\n      <defs>\n       <path d=\"M 0 0 \nL 0 3.5 \n\" id=\"m7faa3df778\" style=\"stroke:#000000;stroke-width:0.8;\"/>\n      </defs>\n      <g>\n       <use style=\"stroke:#000000;stroke-width:0.8;\" x=\"65.361932\" xlink:href=\"#m7faa3df778\" y=\"251.82\"/>\n      </g>\n     </g>\n     <g id=\"text_1\">\n      <!-- 0 -->\n      <g transform=\"translate(62.180682 266.418437)scale(0.1 -0.1)\">\n       <defs>\n        <path d=\"M 31.78125 66.40625 \nQ 24.171875 66.40625 20.328125 58.90625 \nQ 16.5 51.421875 16.5 36.375 \nQ 16.5 21.390625 20.328125 13.890625 \nQ 24.171875 6.390625 31.78125 6.390625 \nQ 39.453125 6.390625 43.28125 13.890625 \nQ 47.125 21.390625 47.125 36.375 \nQ 47.125 51.421875 43.28125 58.90625 \nQ 39.453125 66.40625 31.78125 66.40625 \nz\nM 31.78125 74.21875 \nQ 44.046875 74.21875 50.515625 64.515625 \nQ 56.984375 54.828125 56.984375 36.375 \nQ 56.984375 17.96875 50.515625 8.265625 \nQ 44.046875 -1.421875 31.78125 -1.421875 \nQ 19.53125 -1.421875 13.0625 8.265625 \nQ 6.59375 17.96875 6.59375 36.375 \nQ 6.59375 54.828125 13.0625 64.515625 \nQ 19.53125 74.21875 31.78125 74.21875 \nz\n\" id=\"DejaVuSans-48\"/>\n       </defs>\n       <use xlink:href=\"#DejaVuSans-48\"/>\n      </g>\n     </g>\n    </g>\n    <g id=\"xtick_2\">\n     <g id=\"line2d_2\">\n      <g>\n       <use style=\"stroke:#000000;stroke-width:0.8;\" x=\"126.356649\" xlink:href=\"#m7faa3df778\" y=\"251.82\"/>\n      </g>\n     </g>\n     <g id=\"text_2\">\n      <!-- 100 -->\n      <g transform=\"translate(116.812899 266.418437)scale(0.1 -0.1)\">\n       <defs>\n        <path d=\"M 12.40625 8.296875 \nL 28.515625 8.296875 \nL 28.515625 63.921875 \nL 10.984375 60.40625 \nL 10.984375 69.390625 \nL 28.421875 72.90625 \nL 38.28125 72.90625 \nL 38.28125 8.296875 \nL 54.390625 8.296875 \nL 54.390625 0 \nL 12.40625 0 \nz\n\" id=\"DejaVuSans-49\"/>\n       </defs>\n       <use xlink:href=\"#DejaVuSans-49\"/>\n       <use x=\"63.623047\" xlink:href=\"#DejaVuSans-48\"/>\n       <use x=\"127.246094\" xlink:href=\"#DejaVuSans-48\"/>\n      </g>\n     </g>\n    </g>\n    <g id=\"xtick_3\">\n     <g id=\"line2d_3\">\n      <g>\n       <use style=\"stroke:#000000;stroke-width:0.8;\" x=\"187.351365\" xlink:href=\"#m7faa3df778\" y=\"251.82\"/>\n      </g>\n     </g>\n     <g id=\"text_3\">\n      <!-- 200 -->\n      <g transform=\"translate(177.807615 266.418437)scale(0.1 -0.1)\">\n       <defs>\n        <path d=\"M 19.1875 8.296875 \nL 53.609375 8.296875 \nL 53.609375 0 \nL 7.328125 0 \nL 7.328125 8.296875 \nQ 12.9375 14.109375 22.625 23.890625 \nQ 32.328125 33.6875 34.8125 36.53125 \nQ 39.546875 41.84375 41.421875 45.53125 \nQ 43.3125 49.21875 43.3125 52.78125 \nQ 43.3125 58.59375 39.234375 62.25 \nQ 35.15625 65.921875 28.609375 65.921875 \nQ 23.96875 65.921875 18.8125 64.3125 \nQ 13.671875 62.703125 7.8125 59.421875 \nL 7.8125 69.390625 \nQ 13.765625 71.78125 18.9375 73 \nQ 24.125 74.21875 28.421875 74.21875 \nQ 39.75 74.21875 46.484375 68.546875 \nQ 53.21875 62.890625 53.21875 53.421875 \nQ 53.21875 48.921875 51.53125 44.890625 \nQ 49.859375 40.875 45.40625 35.40625 \nQ 44.1875 33.984375 37.640625 27.21875 \nQ 31.109375 20.453125 19.1875 8.296875 \nz\n\" id=\"DejaVuSans-50\"/>\n       </defs>\n       <use xlink:href=\"#DejaVuSans-50\"/>\n       <use x=\"63.623047\" xlink:href=\"#DejaVuSans-48\"/>\n       <use x=\"127.246094\" xlink:href=\"#DejaVuSans-48\"/>\n      </g>\n     </g>\n    </g>\n    <g id=\"xtick_4\">\n     <g id=\"line2d_4\">\n      <g>\n       <use style=\"stroke:#000000;stroke-width:0.8;\" x=\"248.346082\" xlink:href=\"#m7faa3df778\" y=\"251.82\"/>\n      </g>\n     </g>\n     <g id=\"text_4\">\n      <!-- 300 -->\n      <g transform=\"translate(238.802332 266.418437)scale(0.1 -0.1)\">\n       <defs>\n        <path d=\"M 40.578125 39.3125 \nQ 47.65625 37.796875 51.625 33 \nQ 55.609375 28.21875 55.609375 21.1875 \nQ 55.609375 10.40625 48.1875 4.484375 \nQ 40.765625 -1.421875 27.09375 -1.421875 \nQ 22.515625 -1.421875 17.65625 -0.515625 \nQ 12.796875 0.390625 7.625 2.203125 \nL 7.625 11.71875 \nQ 11.71875 9.328125 16.59375 8.109375 \nQ 21.484375 6.890625 26.8125 6.890625 \nQ 36.078125 6.890625 40.9375 10.546875 \nQ 45.796875 14.203125 45.796875 21.1875 \nQ 45.796875 27.640625 41.28125 31.265625 \nQ 36.765625 34.90625 28.71875 34.90625 \nL 20.21875 34.90625 \nL 20.21875 43.015625 \nL 29.109375 43.015625 \nQ 36.375 43.015625 40.234375 45.921875 \nQ 44.09375 48.828125 44.09375 54.296875 \nQ 44.09375 59.90625 40.109375 62.90625 \nQ 36.140625 65.921875 28.71875 65.921875 \nQ 24.65625 65.921875 20.015625 65.03125 \nQ 15.375 64.15625 9.8125 62.3125 \nL 9.8125 71.09375 \nQ 15.4375 72.65625 20.34375 73.4375 \nQ 25.25 74.21875 29.59375 74.21875 \nQ 40.828125 74.21875 47.359375 69.109375 \nQ 53.90625 64.015625 53.90625 55.328125 \nQ 53.90625 49.265625 50.4375 45.09375 \nQ 46.96875 40.921875 40.578125 39.3125 \nz\n\" id=\"DejaVuSans-51\"/>\n       </defs>\n       <use xlink:href=\"#DejaVuSans-51\"/>\n       <use x=\"63.623047\" xlink:href=\"#DejaVuSans-48\"/>\n       <use x=\"127.246094\" xlink:href=\"#DejaVuSans-48\"/>\n      </g>\n     </g>\n    </g>\n    <g id=\"xtick_5\">\n     <g id=\"line2d_5\">\n      <g>\n       <use style=\"stroke:#000000;stroke-width:0.8;\" x=\"309.340799\" xlink:href=\"#m7faa3df778\" y=\"251.82\"/>\n      </g>\n     </g>\n     <g id=\"text_5\">\n      <!-- 400 -->\n      <g transform=\"translate(299.797049 266.418437)scale(0.1 -0.1)\">\n       <defs>\n        <path d=\"M 37.796875 64.3125 \nL 12.890625 25.390625 \nL 37.796875 25.390625 \nz\nM 35.203125 72.90625 \nL 47.609375 72.90625 \nL 47.609375 25.390625 \nL 58.015625 25.390625 \nL 58.015625 17.1875 \nL 47.609375 17.1875 \nL 47.609375 0 \nL 37.796875 0 \nL 37.796875 17.1875 \nL 4.890625 17.1875 \nL 4.890625 26.703125 \nz\n\" id=\"DejaVuSans-52\"/>\n       </defs>\n       <use xlink:href=\"#DejaVuSans-52\"/>\n       <use x=\"63.623047\" xlink:href=\"#DejaVuSans-48\"/>\n       <use x=\"127.246094\" xlink:href=\"#DejaVuSans-48\"/>\n      </g>\n     </g>\n    </g>\n    <g id=\"xtick_6\">\n     <g id=\"line2d_6\">\n      <g>\n       <use style=\"stroke:#000000;stroke-width:0.8;\" x=\"370.335515\" xlink:href=\"#m7faa3df778\" y=\"251.82\"/>\n      </g>\n     </g>\n     <g id=\"text_6\">\n      <!-- 500 -->\n      <g transform=\"translate(360.791765 266.418437)scale(0.1 -0.1)\">\n       <defs>\n        <path d=\"M 10.796875 72.90625 \nL 49.515625 72.90625 \nL 49.515625 64.59375 \nL 19.828125 64.59375 \nL 19.828125 46.734375 \nQ 21.96875 47.46875 24.109375 47.828125 \nQ 26.265625 48.1875 28.421875 48.1875 \nQ 40.625 48.1875 47.75 41.5 \nQ 54.890625 34.8125 54.890625 23.390625 \nQ 54.890625 11.625 47.5625 5.09375 \nQ 40.234375 -1.421875 26.90625 -1.421875 \nQ 22.3125 -1.421875 17.546875 -0.640625 \nQ 12.796875 0.140625 7.71875 1.703125 \nL 7.71875 11.625 \nQ 12.109375 9.234375 16.796875 8.0625 \nQ 21.484375 6.890625 26.703125 6.890625 \nQ 35.15625 6.890625 40.078125 11.328125 \nQ 45.015625 15.765625 45.015625 23.390625 \nQ 45.015625 31 40.078125 35.4375 \nQ 35.15625 39.890625 26.703125 39.890625 \nQ 22.75 39.890625 18.8125 39.015625 \nQ 14.890625 38.140625 10.796875 36.28125 \nz\n\" id=\"DejaVuSans-53\"/>\n       </defs>\n       <use xlink:href=\"#DejaVuSans-53\"/>\n       <use x=\"63.623047\" xlink:href=\"#DejaVuSans-48\"/>\n       <use x=\"127.246094\" xlink:href=\"#DejaVuSans-48\"/>\n      </g>\n     </g>\n    </g>\n    <g id=\"text_7\">\n     <!-- Groups of experiments -->\n     <g transform=\"translate(160.397656 280.096562)scale(0.1 -0.1)\">\n      <defs>\n       <path d=\"M 59.515625 10.40625 \nL 59.515625 29.984375 \nL 43.40625 29.984375 \nL 43.40625 38.09375 \nL 69.28125 38.09375 \nL 69.28125 6.78125 \nQ 63.578125 2.734375 56.6875 0.65625 \nQ 49.8125 -1.421875 42 -1.421875 \nQ 24.90625 -1.421875 15.25 8.5625 \nQ 5.609375 18.5625 5.609375 36.375 \nQ 5.609375 54.25 15.25 64.234375 \nQ 24.90625 74.21875 42 74.21875 \nQ 49.125 74.21875 55.546875 72.453125 \nQ 61.96875 70.703125 67.390625 67.28125 \nL 67.390625 56.78125 \nQ 61.921875 61.421875 55.765625 63.765625 \nQ 49.609375 66.109375 42.828125 66.109375 \nQ 29.4375 66.109375 22.71875 58.640625 \nQ 16.015625 51.171875 16.015625 36.375 \nQ 16.015625 21.625 22.71875 14.15625 \nQ 29.4375 6.6875 42.828125 6.6875 \nQ 48.046875 6.6875 52.140625 7.59375 \nQ 56.25 8.5 59.515625 10.40625 \nz\n\" id=\"DejaVuSans-71\"/>\n       <path d=\"M 41.109375 46.296875 \nQ 39.59375 47.171875 37.8125 47.578125 \nQ 36.03125 48 33.890625 48 \nQ 26.265625 48 22.1875 43.046875 \nQ 18.109375 38.09375 18.109375 28.8125 \nL 18.109375 0 \nL 9.078125 0 \nL 9.078125 54.6875 \nL 18.109375 54.6875 \nL 18.109375 46.1875 \nQ 20.953125 51.171875 25.484375 53.578125 \nQ 30.03125 56 36.53125 56 \nQ 37.453125 56 38.578125 55.875 \nQ 39.703125 55.765625 41.0625 55.515625 \nz\n\" id=\"DejaVuSans-114\"/>\n       <path d=\"M 30.609375 48.390625 \nQ 23.390625 48.390625 19.1875 42.75 \nQ 14.984375 37.109375 14.984375 27.296875 \nQ 14.984375 17.484375 19.15625 11.84375 \nQ 23.34375 6.203125 30.609375 6.203125 \nQ 37.796875 6.203125 41.984375 11.859375 \nQ 46.1875 17.53125 46.1875 27.296875 \nQ 46.1875 37.015625 41.984375 42.703125 \nQ 37.796875 48.390625 30.609375 48.390625 \nz\nM 30.609375 56 \nQ 42.328125 56 49.015625 48.375 \nQ 55.71875 40.765625 55.71875 27.296875 \nQ 55.71875 13.875 49.015625 6.21875 \nQ 42.328125 -1.421875 30.609375 -1.421875 \nQ 18.84375 -1.421875 12.171875 6.21875 \nQ 5.515625 13.875 5.515625 27.296875 \nQ 5.515625 40.765625 12.171875 48.375 \nQ 18.84375 56 30.609375 56 \nz\n\" id=\"DejaVuSans-111\"/>\n       <path d=\"M 8.5 21.578125 \nL 8.5 54.6875 \nL 17.484375 54.6875 \nL 17.484375 21.921875 \nQ 17.484375 14.15625 20.5 10.265625 \nQ 23.53125 6.390625 29.59375 6.390625 \nQ 36.859375 6.390625 41.078125 11.03125 \nQ 45.3125 15.671875 45.3125 23.6875 \nL 45.3125 54.6875 \nL 54.296875 54.6875 \nL 54.296875 0 \nL 45.3125 0 \nL 45.3125 8.40625 \nQ 42.046875 3.421875 37.71875 1 \nQ 33.40625 -1.421875 27.6875 -1.421875 \nQ 18.265625 -1.421875 13.375 4.4375 \nQ 8.5 10.296875 8.5 21.578125 \nz\nM 31.109375 56 \nz\n\" id=\"DejaVuSans-117\"/>\n       <path d=\"M 18.109375 8.203125 \nL 18.109375 -20.796875 \nL 9.078125 -20.796875 \nL 9.078125 54.6875 \nL 18.109375 54.6875 \nL 18.109375 46.390625 \nQ 20.953125 51.265625 25.265625 53.625 \nQ 29.59375 56 35.59375 56 \nQ 45.5625 56 51.78125 48.09375 \nQ 58.015625 40.1875 58.015625 27.296875 \nQ 58.015625 14.40625 51.78125 6.484375 \nQ 45.5625 -1.421875 35.59375 -1.421875 \nQ 29.59375 -1.421875 25.265625 0.953125 \nQ 20.953125 3.328125 18.109375 8.203125 \nz\nM 48.6875 27.296875 \nQ 48.6875 37.203125 44.609375 42.84375 \nQ 40.53125 48.484375 33.40625 48.484375 \nQ 26.265625 48.484375 22.1875 42.84375 \nQ 18.109375 37.203125 18.109375 27.296875 \nQ 18.109375 17.390625 22.1875 11.75 \nQ 26.265625 6.109375 33.40625 6.109375 \nQ 40.53125 6.109375 44.609375 11.75 \nQ 48.6875 17.390625 48.6875 27.296875 \nz\n\" id=\"DejaVuSans-112\"/>\n       <path d=\"M 44.28125 53.078125 \nL 44.28125 44.578125 \nQ 40.484375 46.53125 36.375 47.5 \nQ 32.28125 48.484375 27.875 48.484375 \nQ 21.1875 48.484375 17.84375 46.4375 \nQ 14.5 44.390625 14.5 40.28125 \nQ 14.5 37.15625 16.890625 35.375 \nQ 19.28125 33.59375 26.515625 31.984375 \nL 29.59375 31.296875 \nQ 39.15625 29.25 43.1875 25.515625 \nQ 47.21875 21.78125 47.21875 15.09375 \nQ 47.21875 7.46875 41.1875 3.015625 \nQ 35.15625 -1.421875 24.609375 -1.421875 \nQ 20.21875 -1.421875 15.453125 -0.5625 \nQ 10.6875 0.296875 5.421875 2 \nL 5.421875 11.28125 \nQ 10.40625 8.6875 15.234375 7.390625 \nQ 20.0625 6.109375 24.8125 6.109375 \nQ 31.15625 6.109375 34.5625 8.28125 \nQ 37.984375 10.453125 37.984375 14.40625 \nQ 37.984375 18.0625 35.515625 20.015625 \nQ 33.0625 21.96875 24.703125 23.78125 \nL 21.578125 24.515625 \nQ 13.234375 26.265625 9.515625 29.90625 \nQ 5.8125 33.546875 5.8125 39.890625 \nQ 5.8125 47.609375 11.28125 51.796875 \nQ 16.75 56 26.8125 56 \nQ 31.78125 56 36.171875 55.265625 \nQ 40.578125 54.546875 44.28125 53.078125 \nz\n\" id=\"DejaVuSans-115\"/>\n       <path id=\"DejaVuSans-32\"/>\n       <path d=\"M 37.109375 75.984375 \nL 37.109375 68.5 \nL 28.515625 68.5 \nQ 23.6875 68.5 21.796875 66.546875 \nQ 19.921875 64.59375 19.921875 59.515625 \nL 19.921875 54.6875 \nL 34.71875 54.6875 \nL 34.71875 47.703125 \nL 19.921875 47.703125 \nL 19.921875 0 \nL 10.890625 0 \nL 10.890625 47.703125 \nL 2.296875 47.703125 \nL 2.296875 54.6875 \nL 10.890625 54.6875 \nL 10.890625 58.5 \nQ 10.890625 67.625 15.140625 71.796875 \nQ 19.390625 75.984375 28.609375 75.984375 \nz\n\" id=\"DejaVuSans-102\"/>\n       <path d=\"M 56.203125 29.59375 \nL 56.203125 25.203125 \nL 14.890625 25.203125 \nQ 15.484375 15.921875 20.484375 11.0625 \nQ 25.484375 6.203125 34.421875 6.203125 \nQ 39.59375 6.203125 44.453125 7.46875 \nQ 49.3125 8.734375 54.109375 11.28125 \nL 54.109375 2.78125 \nQ 49.265625 0.734375 44.1875 -0.34375 \nQ 39.109375 -1.421875 33.890625 -1.421875 \nQ 20.796875 -1.421875 13.15625 6.1875 \nQ 5.515625 13.8125 5.515625 26.8125 \nQ 5.515625 40.234375 12.765625 48.109375 \nQ 20.015625 56 32.328125 56 \nQ 43.359375 56 49.78125 48.890625 \nQ 56.203125 41.796875 56.203125 29.59375 \nz\nM 47.21875 32.234375 \nQ 47.125 39.59375 43.09375 43.984375 \nQ 39.0625 48.390625 32.421875 48.390625 \nQ 24.90625 48.390625 20.390625 44.140625 \nQ 15.875 39.890625 15.1875 32.171875 \nz\n\" id=\"DejaVuSans-101\"/>\n       <path d=\"M 54.890625 54.6875 \nL 35.109375 28.078125 \nL 55.90625 0 \nL 45.3125 0 \nL 29.390625 21.484375 \nL 13.484375 0 \nL 2.875 0 \nL 24.125 28.609375 \nL 4.6875 54.6875 \nL 15.28125 54.6875 \nL 29.78125 35.203125 \nL 44.28125 54.6875 \nz\n\" id=\"DejaVuSans-120\"/>\n       <path d=\"M 9.421875 54.6875 \nL 18.40625 54.6875 \nL 18.40625 0 \nL 9.421875 0 \nz\nM 9.421875 75.984375 \nL 18.40625 75.984375 \nL 18.40625 64.59375 \nL 9.421875 64.59375 \nz\n\" id=\"DejaVuSans-105\"/>\n       <path d=\"M 52 44.1875 \nQ 55.375 50.25 60.0625 53.125 \nQ 64.75 56 71.09375 56 \nQ 79.640625 56 84.28125 50.015625 \nQ 88.921875 44.046875 88.921875 33.015625 \nL 88.921875 0 \nL 79.890625 0 \nL 79.890625 32.71875 \nQ 79.890625 40.578125 77.09375 44.375 \nQ 74.3125 48.1875 68.609375 48.1875 \nQ 61.625 48.1875 57.5625 43.546875 \nQ 53.515625 38.921875 53.515625 30.90625 \nL 53.515625 0 \nL 44.484375 0 \nL 44.484375 32.71875 \nQ 44.484375 40.625 41.703125 44.40625 \nQ 38.921875 48.1875 33.109375 48.1875 \nQ 26.21875 48.1875 22.15625 43.53125 \nQ 18.109375 38.875 18.109375 30.90625 \nL 18.109375 0 \nL 9.078125 0 \nL 9.078125 54.6875 \nL 18.109375 54.6875 \nL 18.109375 46.1875 \nQ 21.1875 51.21875 25.484375 53.609375 \nQ 29.78125 56 35.6875 56 \nQ 41.65625 56 45.828125 52.96875 \nQ 50 49.953125 52 44.1875 \nz\n\" id=\"DejaVuSans-109\"/>\n       <path d=\"M 54.890625 33.015625 \nL 54.890625 0 \nL 45.90625 0 \nL 45.90625 32.71875 \nQ 45.90625 40.484375 42.875 44.328125 \nQ 39.84375 48.1875 33.796875 48.1875 \nQ 26.515625 48.1875 22.3125 43.546875 \nQ 18.109375 38.921875 18.109375 30.90625 \nL 18.109375 0 \nL 9.078125 0 \nL 9.078125 54.6875 \nL 18.109375 54.6875 \nL 18.109375 46.1875 \nQ 21.34375 51.125 25.703125 53.5625 \nQ 30.078125 56 35.796875 56 \nQ 45.21875 56 50.046875 50.171875 \nQ 54.890625 44.34375 54.890625 33.015625 \nz\n\" id=\"DejaVuSans-110\"/>\n       <path d=\"M 18.3125 70.21875 \nL 18.3125 54.6875 \nL 36.8125 54.6875 \nL 36.8125 47.703125 \nL 18.3125 47.703125 \nL 18.3125 18.015625 \nQ 18.3125 11.328125 20.140625 9.421875 \nQ 21.96875 7.515625 27.59375 7.515625 \nL 36.8125 7.515625 \nL 36.8125 0 \nL 27.59375 0 \nQ 17.1875 0 13.234375 3.875 \nQ 9.28125 7.765625 9.28125 18.015625 \nL 9.28125 47.703125 \nL 2.6875 47.703125 \nL 2.6875 54.6875 \nL 9.28125 54.6875 \nL 9.28125 70.21875 \nz\n\" id=\"DejaVuSans-116\"/>\n      </defs>\n      <use xlink:href=\"#DejaVuSans-71\"/>\n      <use x=\"77.490234\" xlink:href=\"#DejaVuSans-114\"/>\n      <use x=\"116.353516\" xlink:href=\"#DejaVuSans-111\"/>\n      <use x=\"177.535156\" xlink:href=\"#DejaVuSans-117\"/>\n      <use x=\"240.914062\" xlink:href=\"#DejaVuSans-112\"/>\n      <use x=\"304.390625\" xlink:href=\"#DejaVuSans-115\"/>\n      <use x=\"356.490234\" xlink:href=\"#DejaVuSans-32\"/>\n      <use x=\"388.277344\" xlink:href=\"#DejaVuSans-111\"/>\n      <use x=\"449.458984\" xlink:href=\"#DejaVuSans-102\"/>\n      <use x=\"484.664062\" xlink:href=\"#DejaVuSans-32\"/>\n      <use x=\"516.451172\" xlink:href=\"#DejaVuSans-101\"/>\n      <use x=\"576.224609\" xlink:href=\"#DejaVuSans-120\"/>\n      <use x=\"635.404297\" xlink:href=\"#DejaVuSans-112\"/>\n      <use x=\"698.880859\" xlink:href=\"#DejaVuSans-101\"/>\n      <use x=\"760.404297\" xlink:href=\"#DejaVuSans-114\"/>\n      <use x=\"801.517578\" xlink:href=\"#DejaVuSans-105\"/>\n      <use x=\"829.300781\" xlink:href=\"#DejaVuSans-109\"/>\n      <use x=\"926.712891\" xlink:href=\"#DejaVuSans-101\"/>\n      <use x=\"988.236328\" xlink:href=\"#DejaVuSans-110\"/>\n      <use x=\"1051.615234\" xlink:href=\"#DejaVuSans-116\"/>\n      <use x=\"1090.824219\" xlink:href=\"#DejaVuSans-115\"/>\n     </g>\n    </g>\n   </g>\n   <g id=\"matplotlib.axis_2\">\n    <g id=\"ytick_1\">\n     <g id=\"line2d_7\">\n      <defs>\n       <path d=\"M 0 0 \nL -3.5 0 \n\" id=\"mc48d158103\" style=\"stroke:#000000;stroke-width:0.8;\"/>\n      </defs>\n      <g>\n       <use style=\"stroke:#000000;stroke-width:0.8;\" x=\"50.14375\" xlink:href=\"#mc48d158103\" y=\"240.700909\"/>\n      </g>\n     </g>\n     <g id=\"text_8\">\n      <!-- 0.00 -->\n      <g transform=\"translate(20.878125 244.500128)scale(0.1 -0.1)\">\n       <defs>\n        <path d=\"M 10.6875 12.40625 \nL 21 12.40625 \nL 21 0 \nL 10.6875 0 \nz\n\" id=\"DejaVuSans-46\"/>\n       </defs>\n       <use xlink:href=\"#DejaVuSans-48\"/>\n       <use x=\"63.623047\" xlink:href=\"#DejaVuSans-46\"/>\n       <use x=\"95.410156\" xlink:href=\"#DejaVuSans-48\"/>\n       <use x=\"159.033203\" xlink:href=\"#DejaVuSans-48\"/>\n      </g>\n     </g>\n    </g>\n    <g id=\"ytick_2\">\n     <g id=\"line2d_8\">\n      <g>\n       <use style=\"stroke:#000000;stroke-width:0.8;\" x=\"50.14375\" xlink:href=\"#mc48d158103\" y=\"203.637274\"/>\n      </g>\n     </g>\n     <g id=\"text_9\">\n      <!-- 0.05 -->\n      <g transform=\"translate(20.878125 207.436493)scale(0.1 -0.1)\">\n       <use xlink:href=\"#DejaVuSans-48\"/>\n       <use x=\"63.623047\" xlink:href=\"#DejaVuSans-46\"/>\n       <use x=\"95.410156\" xlink:href=\"#DejaVuSans-48\"/>\n       <use x=\"159.033203\" xlink:href=\"#DejaVuSans-53\"/>\n      </g>\n     </g>\n    </g>\n    <g id=\"ytick_3\">\n     <g id=\"line2d_9\">\n      <g>\n       <use style=\"stroke:#000000;stroke-width:0.8;\" x=\"50.14375\" xlink:href=\"#mc48d158103\" y=\"166.573639\"/>\n      </g>\n     </g>\n     <g id=\"text_10\">\n      <!-- 0.10 -->\n      <g transform=\"translate(20.878125 170.372858)scale(0.1 -0.1)\">\n       <use xlink:href=\"#DejaVuSans-48\"/>\n       <use x=\"63.623047\" xlink:href=\"#DejaVuSans-46\"/>\n       <use x=\"95.410156\" xlink:href=\"#DejaVuSans-49\"/>\n       <use x=\"159.033203\" xlink:href=\"#DejaVuSans-48\"/>\n      </g>\n     </g>\n    </g>\n    <g id=\"ytick_4\">\n     <g id=\"line2d_10\">\n      <g>\n       <use style=\"stroke:#000000;stroke-width:0.8;\" x=\"50.14375\" xlink:href=\"#mc48d158103\" y=\"129.510004\"/>\n      </g>\n     </g>\n     <g id=\"text_11\">\n      <!-- 0.15 -->\n      <g transform=\"translate(20.878125 133.309223)scale(0.1 -0.1)\">\n       <use xlink:href=\"#DejaVuSans-48\"/>\n       <use x=\"63.623047\" xlink:href=\"#DejaVuSans-46\"/>\n       <use x=\"95.410156\" xlink:href=\"#DejaVuSans-49\"/>\n       <use x=\"159.033203\" xlink:href=\"#DejaVuSans-53\"/>\n      </g>\n     </g>\n    </g>\n    <g id=\"ytick_5\">\n     <g id=\"line2d_11\">\n      <g>\n       <use style=\"stroke:#000000;stroke-width:0.8;\" x=\"50.14375\" xlink:href=\"#mc48d158103\" y=\"92.44637\"/>\n      </g>\n     </g>\n     <g id=\"text_12\">\n      <!-- 0.20 -->\n      <g transform=\"translate(20.878125 96.245588)scale(0.1 -0.1)\">\n       <use xlink:href=\"#DejaVuSans-48\"/>\n       <use x=\"63.623047\" xlink:href=\"#DejaVuSans-46\"/>\n       <use x=\"95.410156\" xlink:href=\"#DejaVuSans-50\"/>\n       <use x=\"159.033203\" xlink:href=\"#DejaVuSans-48\"/>\n      </g>\n     </g>\n    </g>\n    <g id=\"ytick_6\">\n     <g id=\"line2d_12\">\n      <g>\n       <use style=\"stroke:#000000;stroke-width:0.8;\" x=\"50.14375\" xlink:href=\"#mc48d158103\" y=\"55.382735\"/>\n      </g>\n     </g>\n     <g id=\"text_13\">\n      <!-- 0.25 -->\n      <g transform=\"translate(20.878125 59.181953)scale(0.1 -0.1)\">\n       <use xlink:href=\"#DejaVuSans-48\"/>\n       <use x=\"63.623047\" xlink:href=\"#DejaVuSans-46\"/>\n       <use x=\"95.410156\" xlink:href=\"#DejaVuSans-50\"/>\n       <use x=\"159.033203\" xlink:href=\"#DejaVuSans-53\"/>\n      </g>\n     </g>\n    </g>\n    <g id=\"ytick_7\">\n     <g id=\"line2d_13\">\n      <g>\n       <use style=\"stroke:#000000;stroke-width:0.8;\" x=\"50.14375\" xlink:href=\"#mc48d158103\" y=\"18.3191\"/>\n      </g>\n     </g>\n     <g id=\"text_14\">\n      <!-- 0.30 -->\n      <g transform=\"translate(20.878125 22.118318)scale(0.1 -0.1)\">\n       <use xlink:href=\"#DejaVuSans-48\"/>\n       <use x=\"63.623047\" xlink:href=\"#DejaVuSans-46\"/>\n       <use x=\"95.410156\" xlink:href=\"#DejaVuSans-51\"/>\n       <use x=\"159.033203\" xlink:href=\"#DejaVuSans-48\"/>\n      </g>\n     </g>\n    </g>\n    <g id=\"text_15\">\n     <!-- Estimated probability -->\n     <g transform=\"translate(14.798438 183.033437)rotate(-90)scale(0.1 -0.1)\">\n      <defs>\n       <path d=\"M 9.8125 72.90625 \nL 55.90625 72.90625 \nL 55.90625 64.59375 \nL 19.671875 64.59375 \nL 19.671875 43.015625 \nL 54.390625 43.015625 \nL 54.390625 34.71875 \nL 19.671875 34.71875 \nL 19.671875 8.296875 \nL 56.78125 8.296875 \nL 56.78125 0 \nL 9.8125 0 \nz\n\" id=\"DejaVuSans-69\"/>\n       <path d=\"M 34.28125 27.484375 \nQ 23.390625 27.484375 19.1875 25 \nQ 14.984375 22.515625 14.984375 16.5 \nQ 14.984375 11.71875 18.140625 8.90625 \nQ 21.296875 6.109375 26.703125 6.109375 \nQ 34.1875 6.109375 38.703125 11.40625 \nQ 43.21875 16.703125 43.21875 25.484375 \nL 43.21875 27.484375 \nz\nM 52.203125 31.203125 \nL 52.203125 0 \nL 43.21875 0 \nL 43.21875 8.296875 \nQ 40.140625 3.328125 35.546875 0.953125 \nQ 30.953125 -1.421875 24.3125 -1.421875 \nQ 15.921875 -1.421875 10.953125 3.296875 \nQ 6 8.015625 6 15.921875 \nQ 6 25.140625 12.171875 29.828125 \nQ 18.359375 34.515625 30.609375 34.515625 \nL 43.21875 34.515625 \nL 43.21875 35.40625 \nQ 43.21875 41.609375 39.140625 45 \nQ 35.0625 48.390625 27.6875 48.390625 \nQ 23 48.390625 18.546875 47.265625 \nQ 14.109375 46.140625 10.015625 43.890625 \nL 10.015625 52.203125 \nQ 14.9375 54.109375 19.578125 55.046875 \nQ 24.21875 56 28.609375 56 \nQ 40.484375 56 46.34375 49.84375 \nQ 52.203125 43.703125 52.203125 31.203125 \nz\n\" id=\"DejaVuSans-97\"/>\n       <path d=\"M 45.40625 46.390625 \nL 45.40625 75.984375 \nL 54.390625 75.984375 \nL 54.390625 0 \nL 45.40625 0 \nL 45.40625 8.203125 \nQ 42.578125 3.328125 38.25 0.953125 \nQ 33.9375 -1.421875 27.875 -1.421875 \nQ 17.96875 -1.421875 11.734375 6.484375 \nQ 5.515625 14.40625 5.515625 27.296875 \nQ 5.515625 40.1875 11.734375 48.09375 \nQ 17.96875 56 27.875 56 \nQ 33.9375 56 38.25 53.625 \nQ 42.578125 51.265625 45.40625 46.390625 \nz\nM 14.796875 27.296875 \nQ 14.796875 17.390625 18.875 11.75 \nQ 22.953125 6.109375 30.078125 6.109375 \nQ 37.203125 6.109375 41.296875 11.75 \nQ 45.40625 17.390625 45.40625 27.296875 \nQ 45.40625 37.203125 41.296875 42.84375 \nQ 37.203125 48.484375 30.078125 48.484375 \nQ 22.953125 48.484375 18.875 42.84375 \nQ 14.796875 37.203125 14.796875 27.296875 \nz\n\" id=\"DejaVuSans-100\"/>\n       <path d=\"M 48.6875 27.296875 \nQ 48.6875 37.203125 44.609375 42.84375 \nQ 40.53125 48.484375 33.40625 48.484375 \nQ 26.265625 48.484375 22.1875 42.84375 \nQ 18.109375 37.203125 18.109375 27.296875 \nQ 18.109375 17.390625 22.1875 11.75 \nQ 26.265625 6.109375 33.40625 6.109375 \nQ 40.53125 6.109375 44.609375 11.75 \nQ 48.6875 17.390625 48.6875 27.296875 \nz\nM 18.109375 46.390625 \nQ 20.953125 51.265625 25.265625 53.625 \nQ 29.59375 56 35.59375 56 \nQ 45.5625 56 51.78125 48.09375 \nQ 58.015625 40.1875 58.015625 27.296875 \nQ 58.015625 14.40625 51.78125 6.484375 \nQ 45.5625 -1.421875 35.59375 -1.421875 \nQ 29.59375 -1.421875 25.265625 0.953125 \nQ 20.953125 3.328125 18.109375 8.203125 \nL 18.109375 0 \nL 9.078125 0 \nL 9.078125 75.984375 \nL 18.109375 75.984375 \nz\n\" id=\"DejaVuSans-98\"/>\n       <path d=\"M 9.421875 75.984375 \nL 18.40625 75.984375 \nL 18.40625 0 \nL 9.421875 0 \nz\n\" id=\"DejaVuSans-108\"/>\n       <path d=\"M 32.171875 -5.078125 \nQ 28.375 -14.84375 24.75 -17.8125 \nQ 21.140625 -20.796875 15.09375 -20.796875 \nL 7.90625 -20.796875 \nL 7.90625 -13.28125 \nL 13.1875 -13.28125 \nQ 16.890625 -13.28125 18.9375 -11.515625 \nQ 21 -9.765625 23.484375 -3.21875 \nL 25.09375 0.875 \nL 2.984375 54.6875 \nL 12.5 54.6875 \nL 29.59375 11.921875 \nL 46.6875 54.6875 \nL 56.203125 54.6875 \nz\n\" id=\"DejaVuSans-121\"/>\n      </defs>\n      <use xlink:href=\"#DejaVuSans-69\"/>\n      <use x=\"63.183594\" xlink:href=\"#DejaVuSans-115\"/>\n      <use x=\"115.283203\" xlink:href=\"#DejaVuSans-116\"/>\n      <use x=\"154.492188\" xlink:href=\"#DejaVuSans-105\"/>\n      <use x=\"182.275391\" xlink:href=\"#DejaVuSans-109\"/>\n      <use x=\"279.6875\" xlink:href=\"#DejaVuSans-97\"/>\n      <use x=\"340.966797\" xlink:href=\"#DejaVuSans-116\"/>\n      <use x=\"380.175781\" xlink:href=\"#DejaVuSans-101\"/>\n      <use x=\"441.699219\" xlink:href=\"#DejaVuSans-100\"/>\n      <use x=\"505.175781\" xlink:href=\"#DejaVuSans-32\"/>\n      <use x=\"536.962891\" xlink:href=\"#DejaVuSans-112\"/>\n      <use x=\"600.439453\" xlink:href=\"#DejaVuSans-114\"/>\n      <use x=\"639.302734\" xlink:href=\"#DejaVuSans-111\"/>\n      <use x=\"700.484375\" xlink:href=\"#DejaVuSans-98\"/>\n      <use x=\"763.960938\" xlink:href=\"#DejaVuSans-97\"/>\n      <use x=\"825.240234\" xlink:href=\"#DejaVuSans-98\"/>\n      <use x=\"888.716797\" xlink:href=\"#DejaVuSans-105\"/>\n      <use x=\"916.5\" xlink:href=\"#DejaVuSans-108\"/>\n      <use x=\"944.283203\" xlink:href=\"#DejaVuSans-105\"/>\n      <use x=\"972.066406\" xlink:href=\"#DejaVuSans-116\"/>\n      <use x=\"1011.275391\" xlink:href=\"#DejaVuSans-121\"/>\n     </g>\n    </g>\n   </g>\n   <g id=\"line2d_14\">\n    <path clip-path=\"url(#p426694ee8f)\" d=\"M 65.361932 92.446367 \nL 65.971879 166.573638 \nL 67.191773 73.914557 \nL 67.80172 92.446367 \nL 68.411668 67.737279 \nL 69.021615 50.087919 \nL 69.631562 73.914557 \nL 70.241509 92.446367 \nL 70.851456 107.271818 \nL 71.461403 112.662898 \nL 72.681298 109.552659 \nL 73.291245 113.625586 \nL 73.901192 112.213643 \nL 74.511139 120.2441 \nL 75.121086 118.608932 \nL 75.731034 108.919093 \nL 76.340981 111.953546 \nL 76.950928 103.565458 \nL 77.560875 106.565846 \nL 78.780769 105.33807 \nL 80.000664 110.236915 \nL 80.610611 106.701611 \nL 81.220558 111.664555 \nL 81.830505 108.330781 \nL 82.440452 107.783041 \nL 83.0504 109.742736 \nL 83.660347 109.184789 \nL 84.270294 110.978189 \nL 84.880241 114.909177 \nL 86.100135 109.389744 \nL 86.710083 108.919093 \nL 87.32003 106.470444 \nL 87.929977 108.052106 \nL 88.539924 111.453358 \nL 89.759819 114.142155 \nL 90.369766 111.860651 \nL 90.979713 114.856941 \nL 91.58966 116.032316 \nL 92.199607 112.213643 \nL 92.809554 115.006844 \nL 93.419502 114.526837 \nL 94.029449 112.522506 \nL 95.85929 120.062407 \nL 97.079185 121.817556 \nL 98.299079 126.140582 \nL 98.909026 126.862603 \nL 99.518973 126.258805 \nL 100.12892 124.397783 \nL 100.738868 123.856228 \nL 101.348815 125.80364 \nL 101.958762 126.472001 \nL 102.568709 125.9232 \nL 103.178656 126.568442 \nL 103.788603 128.351768 \nL 104.398551 127.799377 \nL 105.008498 129.51 \nL 105.618445 128.956814 \nL 106.228392 127.329786 \nL 106.838339 126.82423 \nL 108.668181 128.480463 \nL 109.278128 126.971405 \nL 109.888075 127.506564 \nL 110.498022 127.039093 \nL 111.107969 128.534643 \nL 111.717917 129.028656 \nL 112.937811 128.10253 \nL 113.547758 128.58341 \nL 114.157705 127.222123 \nL 114.767652 126.798029 \nL 115.3776 127.277252 \nL 117.207441 126.062223 \nL 120.257177 128.288122 \nL 120.867124 129.51 \nL 121.477071 129.908533 \nL 122.087018 129.51 \nL 122.696966 129.90015 \nL 123.306913 129.51 \nL 123.91686 129.892108 \nL 124.526807 129.51 \nL 125.136754 130.633139 \nL 125.746701 130.992548 \nL 126.966596 133.143689 \nL 128.796437 134.098833 \nL 130.016332 131.934724 \nL 130.626279 132.941827 \nL 131.236226 133.25037 \nL 131.846173 134.227196 \nL 132.45612 134.518607 \nL 133.066067 135.466659 \nL 133.676015 135.085954 \nL 134.285962 135.362155 \nL 134.895909 134.344393 \nL 135.505856 134.622228 \nL 136.115803 134.261748 \nL 136.72575 134.535585 \nL 139.165539 133.155608 \nL 139.775486 134.029962 \nL 140.385433 133.096811 \nL 140.995381 133.364617 \nL 141.605328 134.216493 \nL 142.215275 133.30392 \nL 142.825222 134.142961 \nL 143.435169 133.819727 \nL 144.045116 132.931267 \nL 144.655064 132.622216 \nL 145.265011 132.879429 \nL 145.874958 132.575415 \nL 146.484905 131.169569 \nL 147.094852 130.882731 \nL 148.314747 131.403762 \nL 148.924694 132.19577 \nL 149.534641 131.909805 \nL 150.754535 129.247143 \nL 151.364482 130.032026 \nL 151.97443 129.76919 \nL 154.414218 132.787738 \nL 155.024165 133.016022 \nL 155.634113 133.738739 \nL 158.073901 134.597165 \nL 158.683848 133.360773 \nL 159.293796 134.053291 \nL 159.903743 133.786579 \nL 160.51369 133.051114 \nL 161.123637 133.263283 \nL 161.733584 133.938989 \nL 162.343531 134.142961 \nL 162.953479 133.88397 \nL 163.563426 133.170608 \nL 164.173373 132.920774 \nL 164.78332 132.221982 \nL 165.393267 132.430173 \nL 166.003214 133.082407 \nL 166.613162 132.839079 \nL 167.223109 133.03987 \nL 167.833056 133.676927 \nL 169.05295 134.061675 \nL 169.662897 133.819727 \nL 170.272845 134.009064 \nL 170.882792 132.918156 \nL 172.102686 133.300606 \nL 172.712633 133.069793 \nL 173.32258 133.674452 \nL 173.932528 133.858255 \nL 174.542475 132.392728 \nL 175.152422 131.352952 \nL 175.762369 131.139171 \nL 177.592211 131.713785 \nL 178.202158 131.104144 \nL 178.812105 130.897411 \nL 180.641946 131.460726 \nL 181.251894 132.032656 \nL 182.471788 132.390596 \nL 183.081735 131.420497 \nL 183.691682 131.600776 \nL 184.301629 131.022803 \nL 184.911577 130.826983 \nL 186.131471 131.186248 \nL 187.351365 130.800782 \nL 187.961312 131.344833 \nL 188.57126 131.153221 \nL 189.181207 131.32685 \nL 189.791154 131.137193 \nL 190.401101 131.66905 \nL 191.011048 130.763359 \nL 191.620995 130.579147 \nL 192.230943 131.106044 \nL 192.84089 130.921955 \nL 193.450837 131.442235 \nL 194.060784 131.258289 \nL 194.670731 131.772107 \nL 195.890626 131.406281 \nL 196.500573 131.569096 \nL 197.11052 131.388806 \nL 197.720467 131.550208 \nL 198.330414 131.033164 \nL 199.550309 131.354796 \nL 200.160256 131.179532 \nL 200.770203 131.670663 \nL 201.38015 131.826486 \nL 202.600044 131.47799 \nL 203.209992 131.959146 \nL 203.819939 131.785837 \nL 205.039833 132.732928 \nL 206.259727 132.385637 \nL 206.869675 131.896075 \nL 207.479622 132.361049 \nL 208.089569 131.875772 \nL 208.699516 131.708693 \nL 209.91941 130.755836 \nL 211.139305 131.054328 \nL 211.749252 130.894119 \nL 212.359199 131.34787 \nL 213.579093 131.029011 \nL 214.189041 131.476643 \nL 214.798988 131.317992 \nL 215.408935 131.460726 \nL 216.018882 131.303411 \nL 216.628829 131.445052 \nL 217.848724 131.134311 \nL 218.458671 131.569096 \nL 219.068618 131.414455 \nL 219.678565 130.969198 \nL 220.288512 130.818135 \nL 220.898459 130.378688 \nL 222.118354 131.2339 \nL 222.728301 130.797932 \nL 223.338248 131.220634 \nL 223.948195 130.788057 \nL 224.558142 130.641722 \nL 225.16809 130.778337 \nL 226.387984 130.489047 \nL 226.997931 130.6247 \nL 227.607878 130.204075 \nL 228.827773 130.474488 \nL 229.43772 130.882731 \nL 230.047667 130.193836 \nL 231.267561 131.003406 \nL 232.487456 130.722997 \nL 233.097403 130.315738 \nL 234.317297 130.576585 \nL 234.927244 129.908533 \nL 235.537191 129.774746 \nL 237.367033 130.164841 \nL 237.97698 130.554051 \nL 238.586927 130.680438 \nL 239.196874 131.065119 \nL 239.806822 130.930559 \nL 240.416769 131.054328 \nL 241.026716 130.920728 \nL 241.636663 131.043668 \nL 242.24661 130.656302 \nL 242.856557 130.525443 \nL 243.466505 130.648482 \nL 244.076452 130.518539 \nL 244.686399 129.886928 \nL 245.906293 129.634796 \nL 247.736135 130.00419 \nL 248.956029 130.737279 \nL 250.175923 130.973041 \nL 250.785871 131.332804 \nL 251.395818 130.963476 \nL 252.005765 130.838017 \nL 252.615712 130.954043 \nL 253.225659 130.349637 \nL 254.445554 130.582583 \nL 255.055501 129.98518 \nL 255.665448 130.338901 \nL 258.105237 129.86076 \nL 258.715184 129.976211 \nL 259.325131 129.858562 \nL 259.935078 129.973295 \nL 260.545025 130.318245 \nL 261.76492 129.624755 \nL 262.374867 129.738792 \nL 262.984814 129.395963 \nL 263.594761 128.827854 \nL 264.204708 128.943283 \nL 264.814655 128.832007 \nL 265.424603 128.946729 \nL 266.03455 129.285372 \nL 267.254444 129.51 \nL 267.864391 129.398702 \nL 268.474338 129.731944 \nL 269.084286 129.178095 \nL 270.30418 129.400028 \nL 270.914127 129.071381 \nL 271.524074 129.182005 \nL 272.134021 129.073966 \nL 273.353916 129.293259 \nL 273.963863 129.185838 \nL 274.57381 129.294518 \nL 275.183757 128.972853 \nL 275.793704 128.867288 \nL 277.013599 129.51 \nL 277.623546 129.616206 \nL 278.233493 129.51 \nL 278.84344 129.615598 \nL 279.453387 129.51 \nL 281.893176 128.260673 \nL 282.503123 128.367983 \nL 283.11307 128.681762 \nL 284.332965 128.892273 \nL 284.942912 128.585984 \nL 285.552859 128.690919 \nL 286.162806 128.591076 \nL 286.772753 128.695415 \nL 287.382701 129.002279 \nL 287.992648 128.902402 \nL 288.602595 128.39911 \nL 289.212542 128.704273 \nL 289.822489 128.60601 \nL 291.042384 128.810689 \nL 291.652331 128.712933 \nL 292.262278 128.814444 \nL 292.872225 128.519002 \nL 293.482172 128.422804 \nL 294.092119 128.721417 \nL 294.702067 128.625196 \nL 295.312014 128.333377 \nL 295.921961 128.238692 \nL 296.531908 128.339573 \nL 297.141855 128.245364 \nL 297.751802 127.957598 \nL 298.36175 127.864879 \nL 298.971697 128.158731 \nL 299.581644 128.065968 \nL 300.191591 127.781649 \nL 300.801538 127.88189 \nL 301.411485 127.599503 \nL 302.021433 127.6997 \nL 302.63138 127.609301 \nL 303.241327 127.708956 \nL 303.851274 127.429906 \nL 304.461221 127.529506 \nL 305.071168 127.440465 \nL 305.681116 127.539535 \nL 306.90101 126.989299 \nL 308.120904 126.816155 \nL 308.730851 127.100873 \nL 309.340799 127.01445 \nL 310.560693 127.210768 \nL 311.780587 127.039093 \nL 312.390534 126.588733 \nL 313.000482 126.50484 \nL 313.610429 126.058003 \nL 314.220376 126.157062 \nL 314.830323 126.436433 \nL 315.44027 126.353733 \nL 316.050217 125.911591 \nL 316.660165 126.189537 \nL 317.270112 125.749924 \nL 319.7099 126.140582 \nL 320.319848 126.060168 \nL 320.929795 125.80364 \nL 321.539742 125.196186 \nL 323.979531 125.585618 \nL 324.589478 125.507833 \nL 325.199425 125.083198 \nL 325.809372 125.180136 \nL 326.419319 124.758252 \nL 327.029266 124.683107 \nL 328.249161 124.87705 \nL 328.859108 124.63096 \nL 329.469055 124.7276 \nL 330.688949 124.239485 \nL 331.298897 124.166737 \nL 331.908844 124.263554 \nL 332.518791 124.528786 \nL 333.128738 124.624344 \nL 333.738685 124.551375 \nL 334.348632 124.646446 \nL 334.95858 124.573765 \nL 335.568527 124.334457 \nL 336.178474 124.262792 \nL 336.788421 124.52386 \nL 338.008315 124.04974 \nL 339.22821 123.909281 \nL 339.838157 124.003878 \nL 340.448104 123.606062 \nL 341.058051 123.53728 \nL 342.887893 124.308091 \nL 343.49784 124.076173 \nL 344.107787 124.168958 \nL 344.717734 124.099844 \nL 345.327681 123.708744 \nL 345.937629 123.962522 \nL 346.547576 123.733851 \nL 347.157523 123.666273 \nL 347.76747 123.439237 \nL 348.377417 123.532 \nL 348.987365 123.306223 \nL 349.597312 122.763951 \nL 350.207259 122.857553 \nL 351.427153 122.728151 \nL 353.256995 123.006241 \nL 353.866942 123.25454 \nL 355.086836 122.813635 \nL 355.696783 122.749967 \nL 356.306731 122.376419 \nL 356.916678 122.313933 \nL 357.526625 122.09728 \nL 358.136572 122.035633 \nL 358.746519 122.128032 \nL 359.356466 122.373525 \nL 359.966414 122.15854 \nL 360.576361 121.791598 \nL 362.406202 121.611198 \nL 363.016149 121.399968 \nL 363.626097 121.340873 \nL 364.845991 121.826083 \nL 365.455938 121.916847 \nL 366.065885 121.707131 \nL 366.675832 121.797773 \nL 367.28578 121.4397 \nL 367.895727 121.381356 \nL 368.505674 121.620962 \nL 369.115621 121.413941 \nL 369.725568 121.504263 \nL 369.725568 121.504263 \n\" style=\"fill:none;stroke:#1f77b4;stroke-linecap:square;stroke-width:1.5;\"/>\n   </g>\n   <g id=\"line2d_15\">\n    <path clip-path=\"url(#p426694ee8f)\" d=\"M 65.361932 18.319091 \nL 65.971879 18.319091 \nL 66.581826 67.737279 \nL 67.191773 73.914557 \nL 67.80172 92.446367 \nL 68.411668 104.800912 \nL 69.021615 124.215195 \nL 69.631562 129.51 \nL 70.241509 125.391819 \nL 70.851456 114.684549 \nL 71.461403 112.662898 \nL 72.681298 98.148465 \nL 73.291245 97.741172 \nL 74.511139 87.813417 \nL 75.121086 79.365085 \nL 75.731034 80.091823 \nL 76.340981 72.939188 \nL 76.950928 77.620916 \nL 78.170822 92.446367 \nL 78.780769 86.000522 \nL 79.390717 92.446367 \nL 80.000664 92.446367 \nL 80.610611 98.148465 \nL 81.220558 97.93728 \nL 81.830505 103.035977 \nL 82.440452 100.11471 \nL 83.0504 104.800912 \nL 83.660347 104.402378 \nL 84.270294 106.345228 \nL 84.880241 105.924051 \nL 85.490188 109.888077 \nL 86.100135 109.389744 \nL 87.32003 116.487647 \nL 87.929977 115.854976 \nL 88.539924 113.354058 \nL 89.149871 109.125009 \nL 89.759819 106.910222 \nL 90.369766 106.565846 \nL 92.199607 110.566368 \nL 93.419502 112.949659 \nL 94.029449 115.611139 \nL 94.639396 116.651192 \nL 95.249343 114.684549 \nL 95.85929 117.155456 \nL 97.079185 113.425789 \nL 98.299079 112.662898 \nL 100.738868 116.317862 \nL 101.348815 118.390909 \nL 101.958762 117.96559 \nL 103.178656 119.508702 \nL 103.788603 117.927614 \nL 104.398551 117.535598 \nL 105.008498 118.278595 \nL 105.618445 117.893041 \nL 106.228392 118.608932 \nL 106.838339 117.155456 \nL 107.448286 116.802475 \nL 108.058234 114.371334 \nL 109.278128 113.770651 \nL 109.888075 114.484211 \nL 111.107969 113.904261 \nL 111.717917 111.700211 \nL 112.937811 113.089411 \nL 113.547758 111.904779 \nL 114.767652 111.430184 \nL 115.3776 112.987657 \nL 115.987547 113.625586 \nL 116.597494 115.120594 \nL 117.207441 114.856941 \nL 117.817388 115.451383 \nL 118.427335 115.189962 \nL 119.037283 114.101528 \nL 119.64723 115.508192 \nL 120.257177 115.254757 \nL 120.867124 114.201107 \nL 121.477071 113.967189 \nL 122.087018 114.526837 \nL 122.696966 113.514123 \nL 123.306913 114.066822 \nL 123.91686 113.843929 \nL 124.526807 112.112783 \nL 125.136754 111.165372 \nL 125.746701 112.460738 \nL 126.356649 110.060767 \nL 127.576543 111.158104 \nL 128.18649 110.978189 \nL 128.796437 112.213643 \nL 129.406384 112.726467 \nL 130.016332 113.922498 \nL 130.626279 113.72364 \nL 131.236226 114.208507 \nL 131.846173 113.336782 \nL 132.45612 113.816392 \nL 134.285962 117.155456 \nL 134.895909 116.940592 \nL 135.505856 116.090417 \nL 137.335698 117.363095 \nL 137.945645 117.155456 \nL 139.165539 117.96559 \nL 140.995381 117.353132 \nL 141.605328 118.332079 \nL 143.435169 117.730093 \nL 144.045116 118.676024 \nL 147.094852 120.450005 \nL 147.704799 120.2441 \nL 148.314747 121.123348 \nL 148.924694 121.45269 \nL 150.144588 121.038317 \nL 150.754535 121.361264 \nL 151.364482 121.157634 \nL 151.97443 120.438485 \nL 152.584377 119.214552 \nL 153.194324 119.029943 \nL 153.804271 118.340142 \nL 155.024165 117.990222 \nL 155.634113 118.316295 \nL 156.24406 118.143825 \nL 156.854007 117.482732 \nL 158.683848 119.883089 \nL 159.293796 119.70608 \nL 159.903743 120.006504 \nL 160.51369 119.830964 \nL 161.123637 119.188484 \nL 161.733584 119.4865 \nL 162.343531 120.2441 \nL 162.953479 120.071443 \nL 163.563426 119.443333 \nL 164.173373 119.277712 \nL 164.78332 119.566107 \nL 166.003214 119.239361 \nL 166.613162 119.522797 \nL 167.223109 120.2441 \nL 167.833056 120.518235 \nL 168.443003 120.353111 \nL 169.05295 120.623403 \nL 170.272845 120.297661 \nL 170.882792 119.71157 \nL 172.102686 120.2441 \nL 172.712633 120.924644 \nL 173.932528 120.606447 \nL 174.542475 121.273637 \nL 176.372316 120.801064 \nL 176.982263 121.049827 \nL 177.592211 120.895218 \nL 178.202158 121.539333 \nL 178.812105 121.780154 \nL 180.031999 121.469745 \nL 180.641946 120.536704 \nL 181.251894 120.001534 \nL 181.861841 120.2441 \nL 182.471788 119.715988 \nL 183.081735 119.957516 \nL 183.691682 119.436297 \nL 185.521524 120.150498 \nL 187.351365 121.949763 \nL 187.961312 121.43674 \nL 189.181207 121.879258 \nL 189.791154 121.735684 \nL 190.401101 121.233662 \nL 191.620995 120.956854 \nL 192.230943 120.111097 \nL 193.450837 120.551494 \nL 194.060784 121.118233 \nL 195.890626 121.752496 \nL 196.500573 122.303185 \nL 197.11052 121.823995 \nL 197.720467 122.029271 \nL 198.330414 121.894192 \nL 198.940361 122.434222 \nL 199.550309 121.963106 \nL 200.770203 121.698382 \nL 201.38015 120.905944 \nL 201.990097 120.779458 \nL 202.600044 120.982094 \nL 203.209992 120.856381 \nL 203.819939 121.056896 \nL 204.429886 120.608259 \nL 205.039833 120.485816 \nL 205.64978 120.04353 \nL 206.869675 121.07922 \nL 207.479622 120.640071 \nL 208.089569 120.520102 \nL 208.699516 120.715249 \nL 209.309463 121.221512 \nL 209.91941 121.412063 \nL 210.529358 121.290869 \nL 211.749252 121.666659 \nL 212.359199 121.239605 \nL 212.969146 121.426169 \nL 213.579093 121.915002 \nL 214.189041 121.189601 \nL 214.798988 121.374088 \nL 215.408935 121.256969 \nL 216.018882 121.7386 \nL 217.238776 121.504263 \nL 217.848724 121.683824 \nL 218.458671 122.15611 \nL 219.068618 121.74568 \nL 219.678565 121.922171 \nL 220.288512 121.806587 \nL 221.508407 122.154961 \nL 222.118354 121.465183 \nL 223.338248 120.67175 \nL 223.948195 121.131632 \nL 224.558142 121.305074 \nL 225.16809 121.759057 \nL 225.778037 121.367239 \nL 226.387984 121.258096 \nL 227.607878 122.152807 \nL 228.217825 121.765364 \nL 228.827773 121.931935 \nL 229.43772 122.371824 \nL 230.047667 122.261399 \nL 230.657614 121.879258 \nL 231.267561 121.228382 \nL 231.877508 121.393882 \nL 232.487456 121.019064 \nL 233.70735 120.812761 \nL 234.317297 120.977366 \nL 235.537191 121.832534 \nL 236.147139 121.727963 \nL 236.757086 121.361264 \nL 237.367033 121.25909 \nL 237.97698 121.418647 \nL 238.586927 121.837184 \nL 239.806822 121.115803 \nL 240.416769 121.016258 \nL 241.026716 121.430388 \nL 242.24661 121.231188 \nL 242.856557 121.640325 \nL 243.466505 121.540692 \nL 244.076452 121.189601 \nL 245.296346 121.496244 \nL 245.906293 121.398433 \nL 246.51624 121.052533 \nL 247.126188 120.461018 \nL 248.346082 120.767418 \nL 249.565976 120.091193 \nL 250.175923 120.000253 \nL 250.785871 119.423837 \nL 251.395818 119.577915 \nL 252.005765 119.489538 \nL 252.615712 119.161068 \nL 253.835606 118.988709 \nL 255.055501 119.76892 \nL 255.665448 119.918458 \nL 256.275395 120.303118 \nL 258.105237 120.039487 \nL 258.715184 119.4865 \nL 259.325131 119.401746 \nL 259.935078 118.854204 \nL 260.545025 118.771946 \nL 261.154972 118.920391 \nL 261.76492 119.297429 \nL 262.984814 119.588354 \nL 264.814655 119.34011 \nL 265.424603 119.033047 \nL 266.03455 119.177118 \nL 266.644497 119.544259 \nL 267.254444 119.239361 \nL 268.474338 119.07892 \nL 269.084286 119.220693 \nL 269.694233 119.141009 \nL 271.524074 118.248782 \nL 272.743969 118.532207 \nL 273.353916 118.889429 \nL 273.963863 118.596218 \nL 274.57381 117.873744 \nL 275.183757 118.229773 \nL 275.793704 117.941013 \nL 276.403652 117.867536 \nL 277.013599 117.581482 \nL 277.623546 117.721852 \nL 278.233493 117.649646 \nL 278.84344 117.789022 \nL 280.673282 117.574258 \nL 281.283229 117.294666 \nL 281.893176 117.641317 \nL 282.503123 117.363095 \nL 283.11307 116.879376 \nL 283.723018 117.224282 \nL 284.332965 117.155456 \nL 284.942912 117.497689 \nL 285.552859 117.223719 \nL 286.162806 117.563875 \nL 286.772753 117.698513 \nL 287.382701 117.020067 \nL 289.212542 116.81974 \nL 289.822489 117.155456 \nL 291.042384 117.022254 \nL 291.652331 117.155456 \nL 294.092119 116.104004 \nL 294.702067 116.041252 \nL 295.312014 116.17494 \nL 296.531908 116.050056 \nL 297.751802 116.31457 \nL 298.971697 116.190261 \nL 299.581644 115.743512 \nL 300.191591 116.067232 \nL 300.801538 115.814658 \nL 301.411485 115.754426 \nL 302.021433 115.50395 \nL 302.63138 115.824975 \nL 303.241327 115.765173 \nL 303.851274 115.894796 \nL 305.071168 115.399479 \nL 306.90101 115.226038 \nL 308.120904 115.854976 \nL 308.730851 115.425823 \nL 309.950746 114.942701 \nL 310.560693 114.886887 \nL 311.17064 115.198301 \nL 311.780587 115.142122 \nL 312.390534 114.903643 \nL 313.000482 114.848469 \nL 314.220376 115.101407 \nL 314.830323 115.046145 \nL 316.050217 115.656118 \nL 317.880059 115.488343 \nL 318.490006 115.611139 \nL 319.099953 115.377829 \nL 319.7099 115.677646 \nL 320.319848 115.799117 \nL 320.929795 116.096504 \nL 321.539742 116.216395 \nL 322.149689 116.511385 \nL 323.369583 116.048211 \nL 323.979531 115.992684 \nL 325.199425 116.229595 \nL 325.809372 116.000825 \nL 326.419319 116.291507 \nL 327.029266 115.891272 \nL 327.639214 115.836872 \nL 328.249161 116.125919 \nL 329.469055 116.358389 \nL 330.079002 115.962606 \nL 330.688949 116.248704 \nL 331.298897 116.363868 \nL 332.518791 116.254901 \nL 333.128738 116.369258 \nL 334.348632 116.931844 \nL 336.178474 117.26651 \nL 336.788421 117.044655 \nL 337.398368 117.155456 \nL 338.008315 117.431226 \nL 338.618263 117.375588 \nL 339.22821 117.484909 \nL 339.838157 117.26503 \nL 340.448104 117.538127 \nL 341.058051 117.646365 \nL 341.667998 117.264312 \nL 343.49784 116.614774 \nL 344.107787 116.723862 \nL 344.717734 116.993966 \nL 345.937629 116.887462 \nL 346.547576 116.674112 \nL 348.377417 116.517802 \nL 348.987365 116.784294 \nL 349.597312 116.573451 \nL 350.207259 116.838673 \nL 350.817206 116.944724 \nL 351.427153 116.734875 \nL 352.647048 116.631961 \nL 353.256995 116.894266 \nL 353.866942 116.686295 \nL 354.476889 116.947386 \nL 355.696783 116.533852 \nL 357.526625 116.846592 \nL 358.136572 117.104093 \nL 358.746519 117.052928 \nL 359.356466 117.155456 \nL 359.966414 116.951252 \nL 360.576361 117.20641 \nL 361.186308 117.307988 \nL 361.796255 117.561357 \nL 363.016149 117.458642 \nL 363.626097 117.710155 \nL 364.845991 117.306121 \nL 365.455938 117.406063 \nL 366.675832 117.904219 \nL 367.28578 117.852889 \nL 367.895727 118.100073 \nL 368.505674 118.048555 \nL 369.115621 117.848703 \nL 369.725568 117.946149 \nL 369.725568 117.946149 \n\" style=\"fill:none;stroke:#ff7f0e;stroke-linecap:square;stroke-width:1.5;\"/>\n   </g>\n   <g id=\"line2d_16\">\n    <path clip-path=\"url(#p426694ee8f)\" d=\"M 65.361932 18.319091 \nL 65.971879 92.446367 \nL 66.581826 117.155456 \nL 67.191773 148.041822 \nL 67.80172 151.748187 \nL 68.411668 141.864544 \nL 69.021615 124.215195 \nL 69.631562 129.51 \nL 70.241509 125.391819 \nL 70.851456 136.922731 \nL 71.461403 132.879429 \nL 72.071351 135.687278 \nL 72.681298 143.765243 \nL 73.291245 129.51 \nL 74.511139 143.408872 \nL 75.121086 144.771496 \nL 75.731034 141.864544 \nL 76.340981 143.165024 \nL 76.950928 148.041822 \nL 77.560875 141.864544 \nL 78.170822 132.879429 \nL 78.780769 134.344393 \nL 80.000664 130.992548 \nL 81.220558 128.13728 \nL 81.830505 124.215195 \nL 83.660347 121.1408 \nL 84.880241 119.401746 \nL 85.490188 116.428718 \nL 86.100135 119.979354 \nL 86.710083 117.155456 \nL 87.929977 115.854976 \nL 89.149871 122.09728 \nL 89.759819 119.566107 \nL 90.369766 122.45026 \nL 90.979713 118.304719 \nL 92.199607 120.450005 \nL 92.809554 118.229773 \nL 93.419502 117.681182 \nL 94.029449 115.611139 \nL 94.639396 115.138389 \nL 95.249343 116.167098 \nL 95.85929 114.248504 \nL 97.079185 119.0203 \nL 97.689132 118.528187 \nL 98.299079 116.7062 \nL 99.518973 118.455936 \nL 100.738868 117.574258 \nL 101.958762 119.180796 \nL 102.568709 121.1408 \nL 103.178656 118.332079 \nL 104.398551 119.816439 \nL 105.008498 119.401746 \nL 105.618445 121.212178 \nL 106.228392 120.789145 \nL 106.838339 121.45269 \nL 107.448286 119.979354 \nL 108.058234 120.635608 \nL 108.668181 118.185004 \nL 109.278128 119.863306 \nL 109.888075 119.492807 \nL 110.498022 117.155456 \nL 111.107969 116.830344 \nL 112.327864 120.006504 \nL 112.937811 119.657644 \nL 113.547758 118.390909 \nL 114.767652 119.566107 \nL 115.3776 117.453163 \nL 115.987547 117.155456 \nL 116.597494 115.992684 \nL 117.207441 115.71888 \nL 117.817388 114.599342 \nL 118.427335 115.189962 \nL 120.257177 111.996415 \nL 120.867124 112.589653 \nL 121.477071 112.373056 \nL 122.087018 113.738242 \nL 122.696966 113.514123 \nL 123.306913 111.750348 \nL 123.91686 111.551335 \nL 124.526807 112.86919 \nL 125.746701 112.460738 \nL 126.356649 112.996504 \nL 126.966596 112.068291 \nL 127.576543 111.877794 \nL 128.18649 113.116473 \nL 128.796437 112.919614 \nL 129.406384 114.1251 \nL 130.016332 113.922498 \nL 130.626279 111.664555 \nL 131.236226 111.488241 \nL 131.846173 110.641247 \nL 133.066067 106.345228 \nL 133.676015 106.878222 \nL 134.285962 106.101392 \nL 134.895909 106.627239 \nL 137.335698 106.150568 \nL 137.945645 106.654092 \nL 138.555592 106.536674 \nL 139.165539 107.028788 \nL 139.775486 106.910222 \nL 140.385433 107.391378 \nL 140.995381 107.271818 \nL 141.605328 106.565846 \nL 144.045116 108.412244 \nL 144.655064 107.158654 \nL 145.265011 107.608771 \nL 145.874958 105.822717 \nL 146.484905 106.276081 \nL 147.094852 107.271818 \nL 148.314747 108.137546 \nL 148.924694 109.098146 \nL 149.534641 108.978354 \nL 150.144588 109.389744 \nL 150.754535 109.269577 \nL 152.584377 110.46341 \nL 153.194324 108.805487 \nL 155.024165 109.976465 \nL 156.24406 109.742736 \nL 156.854007 109.137281 \nL 157.463954 109.027475 \nL 158.073901 107.950109 \nL 158.683848 108.330781 \nL 159.293796 107.271818 \nL 159.903743 107.176791 \nL 160.51369 106.610814 \nL 161.123637 107.459487 \nL 161.733584 106.432645 \nL 162.343531 106.808523 \nL 162.953479 107.640152 \nL 163.563426 108.003946 \nL 164.78332 107.814223 \nL 166.003214 108.522161 \nL 166.613162 107.98202 \nL 167.223109 107.007083 \nL 167.833056 106.482307 \nL 168.443003 106.399739 \nL 169.05295 107.18512 \nL 170.272845 106.15777 \nL 172.102686 107.187583 \nL 172.712633 107.104308 \nL 173.32258 107.4384 \nL 173.932528 108.182889 \nL 174.542475 108.095461 \nL 175.152422 108.828086 \nL 175.762369 109.145367 \nL 176.372316 108.649056 \nL 176.982263 108.560998 \nL 178.202158 109.184789 \nL 178.812105 109.888077 \nL 180.031999 109.703512 \nL 180.641946 110.002832 \nL 181.251894 109.522814 \nL 181.861841 110.206031 \nL 182.471788 109.729934 \nL 183.081735 110.022935 \nL 183.691682 109.932801 \nL 184.301629 110.221782 \nL 184.911577 110.13156 \nL 185.521524 109.667856 \nL 186.131471 109.581312 \nL 186.741418 110.236915 \nL 187.351365 109.41082 \nL 187.961312 108.959874 \nL 188.57126 108.148205 \nL 189.181207 108.797975 \nL 189.791154 109.07981 \nL 190.401101 108.279374 \nL 191.011048 108.919093 \nL 191.620995 108.483523 \nL 192.230943 109.116139 \nL 192.84089 108.683773 \nL 193.450837 107.552879 \nL 194.060784 107.481623 \nL 194.670731 107.063019 \nL 195.890626 108.30616 \nL 196.500573 108.57591 \nL 197.720467 107.747871 \nL 198.330414 108.354961 \nL 199.550309 108.210989 \nL 200.770203 109.399244 \nL 203.209992 109.10051 \nL 203.819939 109.352586 \nL 205.039833 109.205577 \nL 205.64978 109.453921 \nL 206.869675 109.307939 \nL 207.479622 108.919093 \nL 209.91941 108.64224 \nL 211.139305 107.889556 \nL 212.359199 107.761921 \nL 212.969146 108.003946 \nL 213.579093 107.028788 \nL 214.798988 106.910222 \nL 215.408935 107.151783 \nL 216.018882 107.690289 \nL 217.238776 107.568332 \nL 217.848724 108.098742 \nL 218.458671 107.74247 \nL 219.678565 107.622026 \nL 220.898459 106.92435 \nL 221.508407 106.868016 \nL 222.118354 107.38675 \nL 223.948195 108.067062 \nL 225.16809 107.384563 \nL 226.387984 107.831278 \nL 226.997931 107.773431 \nL 227.607878 107.4384 \nL 228.827773 107.878068 \nL 229.43772 107.271818 \nL 230.657614 107.162818 \nL 231.267561 106.837375 \nL 231.877508 106.784852 \nL 232.487456 107.002267 \nL 233.097403 106.949534 \nL 235.537191 107.8013 \nL 236.147139 108.27426 \nL 236.757086 108.218125 \nL 237.367033 108.424328 \nL 238.586927 108.312202 \nL 239.806822 108.718214 \nL 240.416769 109.176483 \nL 242.24661 109.768208 \nL 242.856557 109.455025 \nL 243.466505 109.396968 \nL 244.076452 109.843584 \nL 244.686399 110.035892 \nL 245.296346 110.477327 \nL 246.51624 110.853813 \nL 247.126188 110.792244 \nL 247.736135 110.48401 \nL 248.346082 110.424075 \nL 249.565976 110.794707 \nL 250.175923 110.246668 \nL 250.785871 109.945261 \nL 251.395818 110.130323 \nL 252.005765 110.072719 \nL 252.615712 110.256168 \nL 253.225659 110.198531 \nL 253.835606 110.380389 \nL 254.445554 109.846014 \nL 255.055501 110.02784 \nL 255.665448 109.734838 \nL 256.275395 110.151928 \nL 258.105237 109.984363 \nL 258.715184 110.395423 \nL 259.325131 110.571537 \nL 259.935078 110.283241 \nL 260.545025 110.458605 \nL 261.76492 110.347075 \nL 262.374867 110.520616 \nL 262.984814 110.921171 \nL 264.814655 111.430184 \nL 265.424603 111.147168 \nL 266.03455 110.641247 \nL 266.644497 110.362329 \nL 269.084286 111.918609 \nL 270.30418 111.803047 \nL 270.914127 111.965089 \nL 271.524074 111.688844 \nL 272.134021 111.850268 \nL 272.743969 111.358607 \nL 273.353916 111.303312 \nL 273.963863 111.464448 \nL 274.57381 110.978189 \nL 275.183757 110.924473 \nL 275.793704 111.085312 \nL 276.403652 111.031596 \nL 277.013599 110.765182 \nL 277.623546 110.712692 \nL 278.233493 110.448708 \nL 278.84344 110.397422 \nL 280.063335 110.715696 \nL 280.673282 111.082882 \nL 281.283229 111.239202 \nL 281.893176 111.186414 \nL 282.503123 111.341553 \nL 283.11307 111.288776 \nL 283.723018 111.029806 \nL 284.942912 111.337532 \nL 286.772753 110.570897 \nL 287.382701 110.724323 \nL 287.992648 110.674385 \nL 288.602595 110.826696 \nL 289.212542 110.776758 \nL 289.822489 110.927964 \nL 290.432436 110.677676 \nL 291.652331 109.782589 \nL 292.262278 109.736108 \nL 292.872225 110.086283 \nL 293.482172 110.236915 \nL 294.092119 110.189595 \nL 294.702067 110.339155 \nL 295.312014 110.291824 \nL 295.921961 110.635912 \nL 296.531908 110.78312 \nL 297.141855 110.540432 \nL 298.36175 110.833025 \nL 298.971697 111.171226 \nL 300.801538 111.026073 \nL 301.411485 111.169238 \nL 302.021433 111.121111 \nL 302.63138 110.883151 \nL 304.461221 111.308272 \nL 305.071168 111.072255 \nL 305.681116 110.649775 \nL 306.90101 111.304947 \nL 307.510957 111.443815 \nL 308.120904 111.396196 \nL 308.730851 111.534137 \nL 309.950746 111.439176 \nL 310.560693 111.759924 \nL 311.17064 111.528636 \nL 312.390534 112.164953 \nL 313.000482 112.29864 \nL 313.610429 112.613347 \nL 314.220376 112.564038 \nL 316.050217 112.957314 \nL 316.660165 112.728168 \nL 317.270112 112.67918 \nL 317.880059 112.809046 \nL 318.490006 112.76009 \nL 319.099953 113.06691 \nL 319.7099 113.017569 \nL 320.319848 113.145391 \nL 320.929795 113.449096 \nL 321.539742 113.575283 \nL 322.149689 113.349562 \nL 322.759636 113.300143 \nL 323.369583 113.076134 \nL 323.979531 113.202001 \nL 324.589478 112.979273 \nL 325.199425 113.278394 \nL 325.809372 113.056516 \nL 326.419319 112.662898 \nL 327.639214 113.257042 \nL 328.249161 113.380457 \nL 328.859108 113.674497 \nL 329.469055 113.625586 \nL 330.079002 113.406492 \nL 331.298897 113.649821 \nL 333.128738 113.505253 \nL 333.738685 113.121322 \nL 334.348632 112.906834 \nL 334.95858 112.860652 \nL 335.568527 112.647721 \nL 338.008315 113.129198 \nL 338.618263 113.083137 \nL 339.22821 113.202001 \nL 339.838157 113.155984 \nL 340.448104 113.274163 \nL 341.058051 113.555456 \nL 341.667998 113.019137 \nL 342.277946 113.136841 \nL 342.887893 113.416588 \nL 344.107787 113.325007 \nL 344.717734 113.602522 \nL 345.327681 113.717675 \nL 345.937629 113.510732 \nL 346.547576 113.786038 \nL 347.76747 114.013571 \nL 348.377417 113.807776 \nL 349.597312 114.351219 \nL 350.207259 114.462804 \nL 350.817206 114.257805 \nL 352.0371 114.479958 \nL 353.256995 114.386787 \nL 354.476889 114.606521 \nL 355.086836 114.871422 \nL 355.696783 114.979815 \nL 356.306731 115.242827 \nL 356.916678 115.349994 \nL 357.526625 115.302276 \nL 358.136572 115.100645 \nL 358.746519 115.053645 \nL 359.356466 114.699903 \nL 359.966414 114.960231 \nL 361.796255 114.821539 \nL 362.406202 114.623786 \nL 363.016149 114.730025 \nL 363.626097 114.684549 \nL 364.236044 114.488287 \nL 365.455938 114.398871 \nL 366.065885 114.654538 \nL 367.28578 114.863889 \nL 367.895727 114.520486 \nL 368.505674 114.625012 \nL 369.115621 114.580564 \nL 369.725568 114.388046 \nL 369.725568 114.388046 \n\" style=\"fill:none;stroke:#2ca02c;stroke-linecap:square;stroke-width:1.5;\"/>\n   </g>\n   <g id=\"line2d_17\">\n    <path clip-path=\"url(#p426694ee8f)\" d=\"M 65.361932 92.446367 \nL 65.971879 129.51 \nL 66.581826 141.864544 \nL 67.191773 129.51 \nL 67.80172 122.09728 \nL 68.411668 141.864544 \nL 69.021615 134.804805 \nL 69.631562 129.51 \nL 70.241509 108.919093 \nL 70.851456 107.271818 \nL 71.461403 112.662898 \nL 72.071351 123.332733 \nL 72.681298 126.658951 \nL 73.291245 134.804805 \nL 73.901192 131.980918 \nL 74.511139 124.87705 \nL 75.121086 122.969359 \nL 75.731034 129.51 \nL 76.340981 127.559285 \nL 77.560875 117.155456 \nL 78.170822 122.771164 \nL 78.780769 124.675618 \nL 80.000664 122.09728 \nL 80.610611 118.105805 \nL 81.220558 117.155456 \nL 81.830505 118.920391 \nL 82.440452 123.119726 \nL 83.0504 122.09728 \nL 83.660347 123.532 \nL 84.270294 117.927614 \nL 84.880241 119.401746 \nL 85.490188 118.608932 \nL 86.100135 119.979354 \nL 87.32003 118.491084 \nL 87.929977 121.707131 \nL 88.539924 120.956854 \nL 89.759819 123.182068 \nL 90.979713 121.752496 \nL 91.58966 119.401746 \nL 92.809554 124.675618 \nL 94.029449 123.332733 \nL 94.639396 121.189601 \nL 95.249343 117.649646 \nL 95.85929 117.155456 \nL 96.469237 115.254757 \nL 97.079185 114.824411 \nL 97.689132 113.037274 \nL 98.299079 112.662898 \nL 98.909026 108.330781 \nL 99.518973 110.653066 \nL 100.12892 111.617212 \nL 101.348815 108.507283 \nL 101.958762 109.45919 \nL 102.568709 106.793578 \nL 103.178656 106.565846 \nL 103.788603 104.028753 \nL 104.398551 106.131403 \nL 105.008498 105.924051 \nL 105.618445 106.829267 \nL 106.838339 106.412376 \nL 107.448286 108.330781 \nL 108.058234 106.018968 \nL 108.668181 107.889556 \nL 109.888075 107.472167 \nL 110.498022 109.248546 \nL 111.107969 109.027475 \nL 111.717917 110.737512 \nL 112.327864 111.453358 \nL 112.937811 113.089411 \nL 113.547758 112.831369 \nL 114.157705 114.410005 \nL 115.987547 113.625586 \nL 116.597494 112.504335 \nL 118.427335 111.820544 \nL 119.64723 114.684549 \nL 120.257177 115.254757 \nL 120.867124 115.006844 \nL 121.477071 116.358389 \nL 122.087018 115.31542 \nL 123.91686 116.900728 \nL 125.136754 116.406704 \nL 126.356649 117.400099 \nL 126.966596 117.155456 \nL 127.576543 114.036833 \nL 128.18649 113.116473 \nL 128.796437 112.919614 \nL 129.406384 113.425789 \nL 130.016332 112.536943 \nL 130.626279 113.037274 \nL 131.236226 112.168299 \nL 132.45612 113.148583 \nL 133.066067 112.963742 \nL 133.676015 114.094161 \nL 134.285962 113.254027 \nL 135.505856 112.895269 \nL 136.115803 113.354058 \nL 136.72575 113.176883 \nL 137.335698 113.625586 \nL 137.945645 112.831369 \nL 138.555592 113.275522 \nL 139.165539 114.319993 \nL 139.775486 113.539495 \nL 141.605328 113.037274 \nL 142.215275 113.458827 \nL 142.825222 114.452907 \nL 144.045116 115.254757 \nL 145.265011 114.909177 \nL 145.874958 115.854976 \nL 146.484905 115.1271 \nL 147.094852 114.959093 \nL 148.314747 115.712595 \nL 148.924694 115.006844 \nL 149.534641 113.777963 \nL 150.144588 114.155068 \nL 151.364482 112.805268 \nL 152.584377 114.581591 \nL 153.804271 115.293815 \nL 155.634113 113.3413 \nL 156.24406 114.19037 \nL 157.463954 113.904261 \nL 158.073901 112.795028 \nL 158.683848 113.144242 \nL 159.293796 113.010709 \nL 161.123637 114.027731 \nL 161.733584 114.824411 \nL 162.953479 114.546421 \nL 163.563426 114.867578 \nL 164.78332 116.402131 \nL 165.393267 115.807689 \nL 166.003214 116.113514 \nL 168.443003 115.556639 \nL 169.05295 114.988 \nL 169.662897 115.287916 \nL 170.272845 115.155874 \nL 170.882792 115.451383 \nL 171.492739 115.319927 \nL 172.102686 114.768785 \nL 172.712633 113.386278 \nL 173.32258 113.26864 \nL 173.932528 112.324079 \nL 175.152422 112.923513 \nL 175.762369 112.403708 \nL 176.982263 112.992517 \nL 177.592211 112.480764 \nL 178.202158 112.771589 \nL 178.812105 113.455701 \nL 179.422052 113.738242 \nL 180.031999 114.410005 \nL 181.251894 114.956221 \nL 181.861841 114.066822 \nL 182.471788 113.954796 \nL 183.081735 114.226026 \nL 183.691682 114.114342 \nL 184.301629 113.625586 \nL 184.911577 114.27064 \nL 185.521524 114.534801 \nL 188.57126 113.99075 \nL 189.181207 113.521766 \nL 189.791154 113.418963 \nL 190.401101 113.676993 \nL 191.011048 114.290633 \nL 192.230943 114.081602 \nL 194.060784 114.824411 \nL 195.890626 114.512157 \nL 196.500573 114.753188 \nL 197.11052 115.333591 \nL 197.720467 115.2286 \nL 198.330414 114.786093 \nL 198.940361 115.358433 \nL 199.550309 115.590174 \nL 200.770203 114.717786 \nL 201.38015 115.280217 \nL 201.990097 115.508192 \nL 202.600044 115.078145 \nL 203.819939 115.529864 \nL 204.429886 116.076456 \nL 205.039833 115.651423 \nL 206.869675 116.307081 \nL 207.479622 115.57154 \nL 208.089569 116.104004 \nL 208.699516 116.317862 \nL 209.91941 116.117259 \nL 210.529358 116.328378 \nL 211.139305 115.920002 \nL 212.359199 116.338628 \nL 212.969146 115.630204 \nL 213.579093 116.142797 \nL 214.189041 116.348636 \nL 214.798988 116.251466 \nL 215.408935 115.554872 \nL 216.628829 115.369258 \nL 217.238776 114.981063 \nL 217.848724 114.891283 \nL 219.068618 115.299835 \nL 219.678565 115.209866 \nL 221.508407 115.809434 \nL 222.118354 115.71888 \nL 222.728301 115.915231 \nL 223.338248 114.969653 \nL 224.558142 115.929436 \nL 225.778037 115.751532 \nL 226.997931 115.018961 \nL 228.217825 115.403699 \nL 228.827773 115.042787 \nL 230.047667 115.423084 \nL 230.657614 115.066083 \nL 231.877508 114.900981 \nL 232.487456 114.549779 \nL 233.097403 115.006844 \nL 234.317297 115.377829 \nL 234.927244 115.029941 \nL 235.537191 114.949295 \nL 236.147139 114.605406 \nL 236.757086 114.526837 \nL 237.367033 114.972679 \nL 237.97698 114.893359 \nL 238.586927 114.554507 \nL 239.196874 114.736387 \nL 241.026716 114.504999 \nL 241.636663 114.940161 \nL 242.24661 115.117601 \nL 242.856557 115.547681 \nL 243.466505 115.468836 \nL 244.076452 115.138389 \nL 244.686399 115.564029 \nL 245.296346 115.235493 \nL 247.126188 116.494352 \nL 247.736135 116.661277 \nL 249.565976 116.421527 \nL 250.175923 116.586496 \nL 250.785871 116.993436 \nL 252.005765 117.316427 \nL 252.615712 117.235682 \nL 253.225659 117.395349 \nL 255.665448 117.076511 \nL 256.275395 116.762004 \nL 257.495289 117.077262 \nL 258.105237 117.467246 \nL 258.715184 117.388567 \nL 259.325131 117.078002 \nL 259.935078 117.232677 \nL 260.545025 117.155456 \nL 261.76492 117.461458 \nL 262.374867 117.155456 \nL 263.594761 117.458642 \nL 264.204708 117.155456 \nL 264.814655 116.628128 \nL 265.424603 117.005255 \nL 266.644497 116.856865 \nL 267.254444 116.560064 \nL 267.864391 116.487647 \nL 268.474338 115.971785 \nL 269.084286 115.901567 \nL 269.694233 116.052376 \nL 270.30418 115.982323 \nL 270.914127 116.132005 \nL 271.524074 116.06214 \nL 272.134021 115.774662 \nL 272.743969 116.141007 \nL 273.353916 115.854976 \nL 274.57381 116.58083 \nL 275.793704 116.8698 \nL 276.403652 117.226668 \nL 277.013599 117.368463 \nL 277.623546 117.084663 \nL 278.233493 117.437853 \nL 278.84344 117.155456 \nL 279.453387 117.295848 \nL 280.673282 117.155456 \nL 281.283229 117.503477 \nL 281.893176 117.433093 \nL 283.11307 117.707614 \nL 284.332965 117.567277 \nL 284.942912 117.292347 \nL 285.552859 117.428486 \nL 286.162806 117.155456 \nL 287.382701 117.020067 \nL 288.602595 117.290115 \nL 289.212542 117.222603 \nL 289.822489 117.356346 \nL 291.042384 117.222062 \nL 291.652331 117.553989 \nL 292.262278 117.486676 \nL 292.872225 117.221532 \nL 294.092119 117.089744 \nL 295.312014 117.351563 \nL 295.921961 117.285852 \nL 298.36175 117.800609 \nL 298.971697 117.348504 \nL 299.581644 117.476359 \nL 300.191591 117.411509 \nL 300.801538 117.730093 \nL 302.021433 117.600094 \nL 302.63138 117.345532 \nL 303.241327 117.471433 \nL 303.851274 117.407588 \nL 304.461221 117.721311 \nL 306.90101 118.213535 \nL 307.510957 117.590043 \nL 308.120904 117.341247 \nL 308.730851 117.464319 \nL 309.340799 117.771647 \nL 310.560693 118.013838 \nL 311.17064 117.950556 \nL 311.780587 117.704555 \nL 313.000482 117.580433 \nL 313.610429 117.337149 \nL 314.830323 117.577318 \nL 315.44027 117.335823 \nL 316.050217 117.635242 \nL 317.270112 117.871667 \nL 318.490006 117.393051 \nL 319.7099 117.27369 \nL 320.929795 117.861439 \nL 322.149689 118.092296 \nL 322.759636 118.38215 \nL 323.369583 118.495811 \nL 323.979531 118.434518 \nL 324.589478 118.547517 \nL 325.809372 118.425549 \nL 326.419319 118.710575 \nL 327.029266 118.821884 \nL 327.639214 118.416712 \nL 328.249161 118.356601 \nL 328.859108 118.467954 \nL 329.469055 118.237195 \nL 330.079002 118.51872 \nL 331.298897 118.399392 \nL 331.908844 118.509387 \nL 332.518791 118.450015 \nL 333.128738 118.222438 \nL 334.348632 118.105805 \nL 334.95858 118.215214 \nL 335.568527 118.491084 \nL 336.178474 118.432563 \nL 336.788421 118.20809 \nL 337.398368 118.316295 \nL 338.008315 118.093081 \nL 338.618263 118.201053 \nL 339.22821 117.979099 \nL 339.838157 118.251202 \nL 340.448104 118.194117 \nL 341.058051 117.973642 \nL 341.667998 118.243966 \nL 342.887893 118.130813 \nL 343.49784 118.399028 \nL 344.107787 118.504206 \nL 344.717734 118.447442 \nL 345.327681 118.713204 \nL 347.76747 119.125799 \nL 348.987365 118.693145 \nL 350.817206 118.999424 \nL 351.427153 118.942924 \nL 352.0371 118.729287 \nL 352.647048 118.830654 \nL 353.256995 119.088309 \nL 353.866942 119.188484 \nL 354.476889 119.132183 \nL 356.306731 119.895174 \nL 358.136572 120.186308 \nL 359.966414 120.014358 \nL 361.796255 120.301174 \nL 362.406202 120.2441 \nL 363.626097 120.433194 \nL 364.236044 120.678146 \nL 365.455938 120.864334 \nL 366.065885 120.65675 \nL 366.675832 120.300257 \nL 367.28578 120.543 \nL 367.895727 120.635608 \nL 368.505674 120.430156 \nL 369.115621 120.671187 \nL 369.725568 120.762989 \nL 369.725568 120.762989 \n\" style=\"fill:none;stroke:#d62728;stroke-linecap:square;stroke-width:1.5;\"/>\n   </g>\n   <g id=\"line2d_18\">\n    <path clip-path=\"url(#p426694ee8f)\" d=\"M 65.361932 240.700909 \nL 65.971879 129.51 \nL 66.581826 141.864544 \nL 67.191773 166.573638 \nL 67.80172 181.399095 \nL 68.411668 178.928182 \nL 69.021615 177.163248 \nL 69.631562 157.307733 \nL 70.241509 166.573638 \nL 70.851456 151.748187 \nL 71.461403 153.095955 \nL 72.681298 143.765243 \nL 73.291245 140.099609 \nL 74.511139 152.674777 \nL 75.121086 153.492356 \nL 75.731034 158.337275 \nL 76.950928 151.748187 \nL 77.560875 152.454159 \nL 78.780769 147.236095 \nL 79.390717 141.864544 \nL 80.610611 143.765243 \nL 81.220558 139.119094 \nL 81.830505 137.452213 \nL 82.440452 133.344171 \nL 83.0504 131.980918 \nL 84.270294 134.142961 \nL 84.880241 128.386861 \nL 86.100135 126.333122 \nL 87.32003 132.51516 \nL 87.929977 133.41144 \nL 89.149871 127.65682 \nL 89.759819 128.60601 \nL 90.369766 127.745065 \nL 90.979713 128.648061 \nL 91.58966 127.825291 \nL 92.199607 128.686368 \nL 92.809554 126.287083 \nL 93.419502 127.144239 \nL 94.029449 126.421367 \nL 94.639396 124.215195 \nL 95.249343 125.062366 \nL 95.85929 122.969359 \nL 97.079185 124.614811 \nL 97.689132 122.646368 \nL 98.299079 122.09728 \nL 98.909026 122.891497 \nL 99.518973 118.455936 \nL 100.12892 118.007497 \nL 100.738868 120.087051 \nL 101.348815 115.920002 \nL 101.958762 116.750394 \nL 102.568709 116.358389 \nL 103.178656 118.332079 \nL 103.788603 119.085857 \nL 104.398551 115.254757 \nL 105.008498 112.662898 \nL 105.618445 112.361159 \nL 106.838339 116.08115 \nL 107.448286 115.743512 \nL 108.668181 119.214552 \nL 109.278128 119.863306 \nL 110.498022 119.132183 \nL 111.107969 119.756416 \nL 111.717917 119.401746 \nL 112.327864 120.006504 \nL 112.937811 118.719324 \nL 113.547758 120.2441 \nL 114.157705 118.98576 \nL 114.767652 118.662106 \nL 115.987547 116.272994 \nL 116.597494 116.864763 \nL 117.817388 119.71157 \nL 118.427335 120.2441 \nL 119.037283 119.098869 \nL 119.64723 116.331824 \nL 120.257177 116.069342 \nL 120.867124 115.006844 \nL 122.087018 114.526837 \nL 122.696966 115.074699 \nL 123.306913 114.838981 \nL 123.91686 113.079735 \nL 125.136754 112.662898 \nL 125.746701 111.719463 \nL 126.356649 112.996504 \nL 126.966596 112.068291 \nL 127.576543 113.317153 \nL 128.18649 113.829238 \nL 128.796437 113.625586 \nL 131.236226 115.568635 \nL 131.846173 115.358433 \nL 132.45612 115.819828 \nL 133.066067 115.611139 \nL 133.676015 113.43816 \nL 134.285962 113.254027 \nL 134.895909 114.362254 \nL 135.505856 114.173326 \nL 136.115803 114.62119 \nL 136.72575 114.433268 \nL 137.335698 113.625586 \nL 137.945645 114.066822 \nL 139.165539 112.497189 \nL 141.605328 111.860651 \nL 142.215275 111.124105 \nL 142.825222 109.819946 \nL 143.435169 109.110639 \nL 144.045116 108.982452 \nL 144.655064 109.422076 \nL 145.265011 108.73191 \nL 145.874958 108.609456 \nL 146.484905 109.042022 \nL 147.094852 108.370005 \nL 148.924694 108.02384 \nL 149.534641 108.978354 \nL 150.144588 109.389744 \nL 150.754535 110.321029 \nL 151.364482 109.673125 \nL 151.97443 110.589409 \nL 152.584377 108.919093 \nL 153.194324 109.827932 \nL 154.414218 110.599991 \nL 155.024165 110.477327 \nL 156.854007 111.591818 \nL 157.463954 110.978189 \nL 159.903743 112.403708 \nL 160.51369 113.220889 \nL 161.733584 112.959578 \nL 163.563426 113.952432 \nL 164.173373 113.82049 \nL 164.78332 113.238165 \nL 165.393267 113.56141 \nL 166.003214 111.648008 \nL 167.223109 112.301888 \nL 167.833056 113.061641 \nL 168.443003 113.376425 \nL 169.05295 112.820533 \nL 169.662897 113.564017 \nL 170.272845 113.441949 \nL 170.882792 114.173326 \nL 171.492739 113.625586 \nL 172.712633 114.223872 \nL 173.32258 113.685079 \nL 174.542475 114.272728 \nL 175.152422 114.15214 \nL 175.762369 114.847464 \nL 177.592211 114.484211 \nL 178.202158 113.568656 \nL 178.812105 113.0593 \nL 179.422052 112.949659 \nL 180.031999 112.448963 \nL 180.641946 112.733835 \nL 181.251894 113.403819 \nL 181.861841 113.294664 \nL 182.471788 113.570721 \nL 183.081735 113.461832 \nL 184.301629 114.003795 \nL 184.911577 114.646927 \nL 185.521524 114.534801 \nL 186.741418 113.572643 \nL 187.961312 114.097408 \nL 188.57126 114.721067 \nL 189.181207 113.521766 \nL 191.011048 113.216327 \nL 191.620995 113.829238 \nL 192.230943 113.72692 \nL 192.84089 113.272606 \nL 193.450837 113.525213 \nL 195.280678 113.229715 \nL 195.890626 112.788268 \nL 196.500573 111.664555 \nL 197.11052 111.917592 \nL 197.720467 111.828276 \nL 198.330414 112.078254 \nL 198.940361 111.652073 \nL 199.550309 111.900582 \nL 200.160256 111.812955 \nL 200.770203 111.061287 \nL 201.38015 110.978189 \nL 201.990097 110.566368 \nL 203.209992 110.406722 \nL 203.819939 109.677709 \nL 204.429886 109.278767 \nL 205.039833 109.205577 \nL 205.64978 109.453921 \nL 206.259727 109.061098 \nL 206.869675 109.307939 \nL 207.479622 109.869443 \nL 208.699516 109.721793 \nL 209.309463 109.336128 \nL 209.91941 109.576618 \nL 210.529358 109.194786 \nL 211.139305 109.433873 \nL 212.359199 108.680857 \nL 212.969146 109.224145 \nL 214.189041 108.482065 \nL 214.798988 108.416884 \nL 215.408935 108.652336 \nL 216.018882 108.288089 \nL 216.628829 108.224465 \nL 217.238776 108.457864 \nL 217.848724 108.394074 \nL 220.898459 109.530391 \nL 222.118354 109.397952 \nL 223.338248 110.407982 \nL 223.948195 109.771135 \nL 225.16809 109.639391 \nL 225.778037 110.135835 \nL 226.387984 110.348809 \nL 226.997931 110.281507 \nL 227.607878 110.492339 \nL 228.217825 110.978189 \nL 228.827773 110.909296 \nL 229.43772 110.566368 \nL 230.047667 111.046574 \nL 232.487456 111.854233 \nL 233.097403 111.783916 \nL 233.70735 111.981713 \nL 234.317297 111.644794 \nL 235.537191 111.507671 \nL 236.147139 111.703635 \nL 236.757086 111.635338 \nL 237.367033 111.305609 \nL 237.97698 111.239202 \nL 238.586927 110.653066 \nL 239.196874 110.848589 \nL 239.806822 110.784479 \nL 240.416769 110.978189 \nL 241.026716 110.914068 \nL 241.636663 110.594767 \nL 242.24661 110.787141 \nL 243.466505 110.15596 \nL 244.076452 110.347848 \nL 245.296346 109.726035 \nL 245.906293 109.168684 \nL 246.51624 109.361313 \nL 247.126188 109.304747 \nL 247.736135 109.495641 \nL 251.395818 109.161339 \nL 252.005765 108.865443 \nL 253.225659 109.238958 \nL 254.445554 108.654258 \nL 255.055501 108.60231 \nL 255.665448 108.31387 \nL 256.275395 108.263336 \nL 256.885342 107.977801 \nL 258.715184 107.831278 \nL 259.325131 108.015423 \nL 259.935078 108.430061 \nL 262.984814 107.043744 \nL 264.204708 106.954461 \nL 264.814655 107.362217 \nL 265.424603 107.542198 \nL 266.03455 107.945713 \nL 266.644497 107.674936 \nL 267.864391 108.028678 \nL 268.474338 107.538144 \nL 269.084286 107.714369 \nL 269.694233 107.448319 \nL 271.524074 107.971549 \nL 273.353916 107.835365 \nL 273.963863 107.574385 \nL 274.57381 107.961376 \nL 275.183757 107.916408 \nL 276.403652 107.399994 \nL 277.013599 107.783041 \nL 277.623546 107.526701 \nL 278.233493 107.483611 \nL 278.84344 107.65196 \nL 279.453387 107.608771 \nL 280.673282 107.941902 \nL 283.723018 107.726089 \nL 284.332965 107.477734 \nL 284.942912 107.846775 \nL 285.552859 108.009005 \nL 286.162806 108.374545 \nL 287.382701 108.287261 \nL 287.992648 108.446519 \nL 289.212542 108.359556 \nL 291.652331 108.985523 \nL 292.262278 108.941174 \nL 292.872225 109.095274 \nL 293.482172 109.050881 \nL 294.092119 109.401011 \nL 294.702067 109.356044 \nL 295.312014 109.115201 \nL 295.921961 109.071216 \nL 296.531908 109.222544 \nL 297.141855 109.178504 \nL 297.751802 109.32876 \nL 298.36175 109.091132 \nL 298.971697 109.433873 \nL 299.581644 109.582284 \nL 300.191591 109.345848 \nL 300.801538 109.302184 \nL 302.63138 109.742736 \nL 303.241327 109.508918 \nL 304.461221 109.422076 \nL 306.291063 109.85505 \nL 306.90101 109.624479 \nL 307.510957 109.581312 \nL 308.120904 109.724157 \nL 308.730851 109.495641 \nL 309.340799 109.637977 \nL 309.950746 109.964006 \nL 311.17064 109.877285 \nL 311.780587 109.651221 \nL 312.390534 109.974002 \nL 313.000482 109.7488 \nL 313.610429 109.888077 \nL 314.220376 109.84544 \nL 314.830323 109.441406 \nL 315.44027 109.40005 \nL 316.050217 109.718744 \nL 317.270112 109.99341 \nL 317.880059 109.951126 \nL 319.7099 110.357502 \nL 320.319848 110.137845 \nL 320.929795 109.742736 \nL 321.539742 109.877727 \nL 322.149689 109.660754 \nL 322.759636 109.620061 \nL 323.369583 109.754389 \nL 323.979531 109.713663 \nL 324.589478 109.847141 \nL 325.199425 109.632786 \nL 325.809372 109.765822 \nL 326.419319 109.725449 \nL 327.029266 109.512883 \nL 328.249161 109.433873 \nL 328.859108 109.223439 \nL 329.469055 109.184789 \nL 330.079002 109.487124 \nL 330.688949 109.618051 \nL 332.518791 109.500711 \nL 333.128738 109.29348 \nL 333.738685 109.591452 \nL 334.348632 109.384951 \nL 334.95858 109.346721 \nL 335.568527 109.141699 \nL 336.178474 109.437341 \nL 336.788421 109.56545 \nL 337.398368 109.361313 \nL 338.618263 109.285969 \nL 339.22821 109.578009 \nL 340.448104 109.174207 \nL 341.667998 109.753616 \nL 342.277946 109.8785 \nL 342.887893 109.84027 \nL 344.107787 110.088017 \nL 344.717734 109.726587 \nL 345.937629 109.651619 \nL 346.547576 109.774824 \nL 347.157523 109.737401 \nL 347.76747 110.019644 \nL 348.377417 110.141269 \nL 348.987365 109.785152 \nL 349.597312 110.065484 \nL 350.207259 109.552659 \nL 350.817206 109.674241 \nL 351.427153 109.953026 \nL 352.647048 109.564743 \nL 353.256995 109.215121 \nL 353.866942 109.023354 \nL 354.476889 108.676339 \nL 355.086836 108.9537 \nL 356.306731 108.88463 \nL 357.526625 108.507283 \nL 358.746519 108.440632 \nL 359.356466 108.714469 \nL 359.966414 108.834007 \nL 360.576361 108.800218 \nL 361.186308 108.919093 \nL 361.796255 108.733059 \nL 362.406202 108.851581 \nL 363.626097 108.482065 \nL 364.236044 108.600377 \nL 365.455938 108.534842 \nL 366.065885 108.352221 \nL 367.28578 108.586989 \nL 367.895727 108.852807 \nL 369.115621 109.084151 \nL 369.725568 109.050881 \nL 369.725568 109.050881 \n\" style=\"fill:none;stroke:#9467bd;stroke-linecap:square;stroke-width:1.5;\"/>\n   </g>\n   <g id=\"line2d_19\">\n    <path clip-path=\"url(#p426694ee8f)\" d=\"M 65.361932 240.700909 \nL 65.971879 166.573638 \nL 66.581826 117.155456 \nL 67.191773 110.978189 \nL 67.80172 62.795466 \nL 68.411668 67.737279 \nL 69.021615 92.446367 \nL 69.631562 83.180456 \nL 70.851456 85.033647 \nL 71.461403 78.968684 \nL 72.681298 81.042173 \nL 73.291245 87.151563 \nL 73.901192 82.56273 \nL 74.511139 73.914557 \nL 75.121086 83.725513 \nL 75.731034 84.210005 \nL 76.950928 99.859098 \nL 78.170822 99.185215 \nL 78.780769 105.33807 \nL 80.000664 104.306732 \nL 81.220558 108.919093 \nL 81.830505 110.978189 \nL 82.440452 115.451383 \nL 83.0504 112.213643 \nL 83.660347 111.575989 \nL 84.880241 114.909177 \nL 85.490188 118.608932 \nL 86.100135 117.861439 \nL 87.32003 112.480764 \nL 87.929977 108.052106 \nL 88.539924 107.65196 \nL 90.369766 111.860651 \nL 91.58966 110.978189 \nL 92.809554 106.949534 \nL 93.419502 106.640958 \nL 94.029449 109.433873 \nL 95.249343 111.719463 \nL 96.469237 110.978189 \nL 97.079185 109.2299 \nL 97.689132 111.664555 \nL 100.12892 115.451383 \nL 100.738868 115.061466 \nL 101.348815 115.920002 \nL 101.958762 113.104786 \nL 102.568709 113.967189 \nL 103.178656 113.625586 \nL 103.788603 114.452907 \nL 104.398551 116.395183 \nL 105.008498 117.155456 \nL 105.618445 115.680286 \nL 107.448286 114.684549 \nL 108.058234 116.459425 \nL 108.668181 115.096371 \nL 109.888075 114.484211 \nL 110.498022 116.167098 \nL 111.717917 113.625586 \nL 112.327864 110.503009 \nL 112.937811 110.274449 \nL 114.767652 112.334175 \nL 115.987547 115.390521 \nL 116.597494 115.992684 \nL 117.207441 115.71888 \nL 118.427335 113.505253 \nL 119.037283 114.934417 \nL 120.867124 116.618308 \nL 121.477071 115.561322 \nL 122.696966 115.074699 \nL 124.526807 118.920391 \nL 125.136754 119.401746 \nL 126.356649 117.400099 \nL 126.966596 117.882194 \nL 127.576543 119.074612 \nL 128.796437 117.155456 \nL 129.406384 115.523722 \nL 130.626279 116.46909 \nL 131.236226 116.248704 \nL 133.066067 117.596692 \nL 133.676015 117.374119 \nL 134.285962 117.805701 \nL 134.895909 117.585183 \nL 135.505856 118.646521 \nL 136.115803 117.789022 \nL 136.72575 117.574258 \nL 138.555592 118.789122 \nL 139.165539 117.96559 \nL 139.775486 118.360776 \nL 140.385433 119.3474 \nL 140.995381 119.7252 \nL 141.605328 118.920391 \nL 142.215275 119.879301 \nL 142.825222 119.085857 \nL 143.435169 119.453981 \nL 144.045116 118.676024 \nL 144.655064 119.607507 \nL 145.265011 119.401746 \nL 146.484905 121.212178 \nL 147.094852 120.999093 \nL 147.704799 120.2441 \nL 148.314747 118.417971 \nL 148.924694 117.155456 \nL 149.534641 118.04428 \nL 150.144588 118.390909 \nL 150.754535 119.25836 \nL 151.364482 119.591568 \nL 151.97443 118.364996 \nL 152.584377 119.214552 \nL 153.194324 119.029943 \nL 153.804271 117.832421 \nL 154.414218 117.155456 \nL 155.024165 117.489371 \nL 155.634113 116.823794 \nL 156.24406 115.672918 \nL 156.854007 116.500913 \nL 157.463954 116.34266 \nL 158.073901 117.155456 \nL 158.683848 116.51366 \nL 159.293796 116.836629 \nL 159.903743 116.205106 \nL 160.51369 116.525932 \nL 161.733584 115.290622 \nL 162.343531 113.757959 \nL 162.953479 113.165174 \nL 163.563426 113.494859 \nL 164.173373 113.365722 \nL 164.78332 113.69016 \nL 165.393267 113.56141 \nL 166.003214 114.327305 \nL 166.613162 114.640167 \nL 167.223109 114.508059 \nL 167.833056 113.500271 \nL 169.662897 113.133053 \nL 170.272845 113.870439 \nL 170.882792 114.173326 \nL 171.492739 114.049171 \nL 172.102686 113.505253 \nL 172.712633 114.223872 \nL 173.932528 113.980544 \nL 175.152422 114.561686 \nL 175.762369 114.440171 \nL 176.372316 114.725054 \nL 176.982263 114.201107 \nL 178.202158 114.764256 \nL 178.812105 113.852103 \nL 180.641946 113.514123 \nL 181.251894 113.015713 \nL 181.861841 112.908579 \nL 182.471788 113.570721 \nL 184.301629 114.381993 \nL 184.911577 113.141801 \nL 186.131471 112.933808 \nL 186.741418 112.460738 \nL 188.57126 113.260433 \nL 189.181207 113.885141 \nL 189.791154 114.142155 \nL 190.401101 114.756524 \nL 191.011048 114.648739 \nL 191.620995 114.898374 \nL 192.230943 114.790954 \nL 192.84089 115.390521 \nL 193.450837 115.281786 \nL 194.060784 114.824411 \nL 194.670731 114.719355 \nL 195.280678 114.268884 \nL 196.500573 114.066822 \nL 198.330414 114.786093 \nL 198.940361 114.010666 \nL 199.550309 113.913087 \nL 201.38015 114.618363 \nL 202.600044 115.734145 \nL 203.209992 115.305004 \nL 203.819939 115.529864 \nL 204.429886 115.42906 \nL 205.039833 115.651423 \nL 206.259727 115.451383 \nL 206.869675 115.034503 \nL 207.479622 115.57154 \nL 208.089569 115.788568 \nL 208.699516 115.689664 \nL 209.309463 116.217135 \nL 209.91941 116.428718 \nL 210.529358 116.948689 \nL 212.359199 117.563875 \nL 212.969146 117.460508 \nL 214.189041 118.466551 \nL 215.408935 118.856082 \nL 216.018882 118.450689 \nL 216.628829 118.643958 \nL 217.238776 119.132183 \nL 217.848724 118.730546 \nL 218.458671 117.743767 \nL 220.898459 118.506736 \nL 221.508407 117.828467 \nL 222.728301 117.63247 \nL 223.338248 117.820702 \nL 225.778037 117.436241 \nL 226.387984 117.621667 \nL 227.607878 117.433093 \nL 228.217825 116.786669 \nL 229.43772 116.606368 \nL 230.657614 116.973774 \nL 231.267561 117.426984 \nL 231.877508 117.335823 \nL 232.487456 117.784416 \nL 233.097403 117.961193 \nL 233.70735 117.333868 \nL 234.317297 116.977695 \nL 234.927244 117.421152 \nL 236.147139 116.715799 \nL 236.757086 117.155456 \nL 237.97698 116.459425 \nL 238.586927 116.89536 \nL 239.196874 116.291507 \nL 239.806822 116.724989 \nL 240.416769 116.125919 \nL 241.636663 115.451383 \nL 242.856557 115.293815 \nL 243.466505 115.721829 \nL 245.906293 116.406704 \nL 246.51624 115.828797 \nL 247.126188 115.998516 \nL 248.346082 115.349475 \nL 248.956029 115.273645 \nL 249.565976 115.442944 \nL 250.175923 115.854976 \nL 250.785871 116.021271 \nL 251.395818 115.944226 \nL 252.005765 116.350602 \nL 252.615712 116.272994 \nL 253.225659 116.675669 \nL 253.835606 116.836629 \nL 254.445554 117.234908 \nL 255.665448 117.550178 \nL 256.275395 117.234146 \nL 256.885342 117.626107 \nL 257.495289 117.781003 \nL 258.105237 117.701086 \nL 259.935078 118.159267 \nL 260.545025 118.079163 \nL 261.154972 118.459979 \nL 262.374867 118.756979 \nL 262.984814 118.676024 \nL 263.594761 119.050334 \nL 264.814655 119.34011 \nL 265.424603 119.25836 \nL 266.03455 118.952479 \nL 266.644497 119.096351 \nL 267.254444 119.016081 \nL 267.864391 118.71369 \nL 268.474338 119.07892 \nL 269.084286 118.999424 \nL 270.914127 119.421672 \nL 271.524074 119.779435 \nL 272.134021 119.917066 \nL 273.353916 119.756416 \nL 273.963863 119.892909 \nL 274.57381 120.2441 \nL 275.183757 120.163521 \nL 275.793704 120.511895 \nL 277.013599 119.924578 \nL 277.623546 120.270643 \nL 278.233493 120.402939 \nL 279.453387 120.2441 \nL 280.063335 120.375336 \nL 280.673282 120.296446 \nL 281.893176 120.556432 \nL 282.503123 120.477686 \nL 283.11307 120.606447 \nL 283.723018 120.528011 \nL 284.332965 120.655911 \nL 284.942912 120.37243 \nL 285.552859 120.500065 \nL 286.162806 120.422777 \nL 286.772753 120.549561 \nL 287.382701 120.878749 \nL 287.992648 120.801064 \nL 288.602595 121.127766 \nL 289.212542 121.049827 \nL 289.822489 120.369647 \nL 290.432436 120.494531 \nL 291.042384 120.818527 \nL 291.652331 120.742267 \nL 293.482172 121.701928 \nL 294.092119 121.426975 \nL 294.702067 121.350107 \nL 295.312014 121.665852 \nL 295.921961 121.588752 \nL 296.531908 121.121923 \nL 297.141855 121.241218 \nL 297.751802 120.971788 \nL 298.36175 121.090851 \nL 298.971697 120.630174 \nL 300.191591 121.252308 \nL 300.801538 121.17787 \nL 302.63138 121.527073 \nL 303.241327 121.45269 \nL 303.851274 121.567799 \nL 304.461221 121.305074 \nL 305.071168 121.608116 \nL 305.681116 121.721954 \nL 306.291063 121.460831 \nL 306.90101 121.57447 \nL 307.510957 121.873779 \nL 308.120904 121.800026 \nL 308.730851 121.911964 \nL 309.340799 121.838476 \nL 309.950746 121.580965 \nL 310.560693 121.1408 \nL 311.17064 121.253258 \nL 311.780587 121.548181 \nL 312.390534 121.659081 \nL 313.000482 121.951575 \nL 313.610429 122.060939 \nL 314.220376 121.807294 \nL 315.44027 121.664416 \nL 316.050217 121.053737 \nL 316.660165 120.804985 \nL 317.270112 121.094584 \nL 317.880059 121.204181 \nL 318.490006 121.135045 \nL 319.099953 120.888491 \nL 319.7099 120.465768 \nL 320.929795 119.979354 \nL 321.539742 120.090033 \nL 322.759636 119.959328 \nL 323.369583 120.069267 \nL 324.589478 119.939578 \nL 327.029266 121.062938 \nL 327.639214 121.168536 \nL 328.249161 120.758869 \nL 328.859108 120.693477 \nL 329.469055 120.799197 \nL 330.079002 121.074834 \nL 330.688949 120.83915 \nL 332.518791 120.64513 \nL 333.128738 120.917984 \nL 333.738685 120.853421 \nL 334.348632 120.956854 \nL 334.95858 120.892501 \nL 335.568527 121.162339 \nL 336.178474 120.764657 \nL 336.788421 120.701154 \nL 338.618263 121.007654 \nL 339.22821 120.779458 \nL 339.838157 120.881002 \nL 340.448104 121.146091 \nL 341.058051 120.755455 \nL 341.667998 120.856381 \nL 342.887893 120.40665 \nL 343.49784 120.507676 \nL 344.107787 120.122707 \nL 344.717734 120.062407 \nL 345.327681 120.163521 \nL 347.157523 119.983927 \nL 347.76747 119.764822 \nL 348.987365 120.283865 \nL 349.597312 120.38299 \nL 351.427153 120.204667 \nL 352.0371 120.460499 \nL 352.647048 120.558199 \nL 353.256995 120.342043 \nL 353.866942 120.283191 \nL 354.476889 120.536704 \nL 355.086836 120.166227 \nL 355.696783 120.108115 \nL 356.306731 119.895174 \nL 356.916678 119.837868 \nL 357.526625 120.089668 \nL 358.136572 120.032197 \nL 358.746519 120.128749 \nL 359.356466 119.917961 \nL 360.576361 120.110357 \nL 361.186308 119.900917 \nL 361.796255 119.84454 \nL 363.016149 120.33884 \nL 363.626097 120.281921 \nL 364.236044 120.074248 \nL 364.845991 120.018103 \nL 365.455938 119.811811 \nL 366.065885 119.906473 \nL 366.675832 119.701242 \nL 367.28578 119.6463 \nL 368.505674 119.239361 \nL 369.115621 119.334211 \nL 369.725568 119.28044 \nL 369.725568 119.28044 \n\" style=\"fill:none;stroke:#8c564b;stroke-linecap:square;stroke-width:1.5;\"/>\n   </g>\n   <g id=\"line2d_20\">\n    <path clip-path=\"url(#p426694ee8f)\" d=\"M 50.14375 116.908369 \nL 384.94375 116.908369 \n\" style=\"fill:none;stroke:#000000;stroke-dasharray:5.55,2.4;stroke-dashoffset:0;stroke-width:1.5;\"/>\n   </g>\n   <g id=\"patch_3\">\n    <path d=\"M 50.14375 251.82 \nL 50.14375 7.2 \n\" style=\"fill:none;stroke:#000000;stroke-linecap:square;stroke-linejoin:miter;stroke-width:0.8;\"/>\n   </g>\n   <g id=\"patch_4\">\n    <path d=\"M 384.94375 251.82 \nL 384.94375 7.2 \n\" style=\"fill:none;stroke:#000000;stroke-linecap:square;stroke-linejoin:miter;stroke-width:0.8;\"/>\n   </g>\n   <g id=\"patch_5\">\n    <path d=\"M 50.14375 251.82 \nL 384.94375 251.82 \n\" style=\"fill:none;stroke:#000000;stroke-linecap:square;stroke-linejoin:miter;stroke-width:0.8;\"/>\n   </g>\n   <g id=\"patch_6\">\n    <path d=\"M 50.14375 7.2 \nL 384.94375 7.2 \n\" style=\"fill:none;stroke:#000000;stroke-linecap:square;stroke-linejoin:miter;stroke-width:0.8;\"/>\n   </g>\n   <g id=\"legend_1\">\n    <g id=\"patch_7\">\n     <path d=\"M 302.089063 103.26875 \nL 377.94375 103.26875 \nQ 379.94375 103.26875 379.94375 101.26875 \nL 379.94375 14.2 \nQ 379.94375 12.2 377.94375 12.2 \nL 302.089063 12.2 \nQ 300.089063 12.2 300.089063 14.2 \nL 300.089063 101.26875 \nQ 300.089063 103.26875 302.089063 103.26875 \nz\n\" style=\"fill:#ffffff;opacity:0.8;stroke:#cccccc;stroke-linejoin:miter;\"/>\n    </g>\n    <g id=\"line2d_21\">\n     <path d=\"M 304.089063 20.298437 \nL 324.089063 20.298437 \n\" style=\"fill:none;stroke:#1f77b4;stroke-linecap:square;stroke-width:1.5;\"/>\n    </g>\n    <g id=\"line2d_22\"/>\n    <g id=\"text_16\">\n     <!-- P(die=1) -->\n     <g transform=\"translate(332.089063 23.798437)scale(0.1 -0.1)\">\n      <defs>\n       <path d=\"M 19.671875 64.796875 \nL 19.671875 37.40625 \nL 32.078125 37.40625 \nQ 38.96875 37.40625 42.71875 40.96875 \nQ 46.484375 44.53125 46.484375 51.125 \nQ 46.484375 57.671875 42.71875 61.234375 \nQ 38.96875 64.796875 32.078125 64.796875 \nz\nM 9.8125 72.90625 \nL 32.078125 72.90625 \nQ 44.34375 72.90625 50.609375 67.359375 \nQ 56.890625 61.8125 56.890625 51.125 \nQ 56.890625 40.328125 50.609375 34.8125 \nQ 44.34375 29.296875 32.078125 29.296875 \nL 19.671875 29.296875 \nL 19.671875 0 \nL 9.8125 0 \nz\n\" id=\"DejaVuSans-80\"/>\n       <path d=\"M 31 75.875 \nQ 24.46875 64.65625 21.28125 53.65625 \nQ 18.109375 42.671875 18.109375 31.390625 \nQ 18.109375 20.125 21.3125 9.0625 \nQ 24.515625 -2 31 -13.1875 \nL 23.1875 -13.1875 \nQ 15.875 -1.703125 12.234375 9.375 \nQ 8.59375 20.453125 8.59375 31.390625 \nQ 8.59375 42.28125 12.203125 53.3125 \nQ 15.828125 64.359375 23.1875 75.875 \nz\n\" id=\"DejaVuSans-40\"/>\n       <path d=\"M 10.59375 45.40625 \nL 73.1875 45.40625 \nL 73.1875 37.203125 \nL 10.59375 37.203125 \nz\nM 10.59375 25.484375 \nL 73.1875 25.484375 \nL 73.1875 17.1875 \nL 10.59375 17.1875 \nz\n\" id=\"DejaVuSans-61\"/>\n       <path d=\"M 8.015625 75.875 \nL 15.828125 75.875 \nQ 23.140625 64.359375 26.78125 53.3125 \nQ 30.421875 42.28125 30.421875 31.390625 \nQ 30.421875 20.453125 26.78125 9.375 \nQ 23.140625 -1.703125 15.828125 -13.1875 \nL 8.015625 -13.1875 \nQ 14.5 -2 17.703125 9.0625 \nQ 20.90625 20.125 20.90625 31.390625 \nQ 20.90625 42.671875 17.703125 53.65625 \nQ 14.5 64.65625 8.015625 75.875 \nz\n\" id=\"DejaVuSans-41\"/>\n      </defs>\n      <use xlink:href=\"#DejaVuSans-80\"/>\n      <use x=\"60.302734\" xlink:href=\"#DejaVuSans-40\"/>\n      <use x=\"99.316406\" xlink:href=\"#DejaVuSans-100\"/>\n      <use x=\"162.792969\" xlink:href=\"#DejaVuSans-105\"/>\n      <use x=\"190.576172\" xlink:href=\"#DejaVuSans-101\"/>\n      <use x=\"252.099609\" xlink:href=\"#DejaVuSans-61\"/>\n      <use x=\"335.888672\" xlink:href=\"#DejaVuSans-49\"/>\n      <use x=\"399.511719\" xlink:href=\"#DejaVuSans-41\"/>\n     </g>\n    </g>\n    <g id=\"line2d_23\">\n     <path d=\"M 304.089063 34.976562 \nL 324.089063 34.976562 \n\" style=\"fill:none;stroke:#ff7f0e;stroke-linecap:square;stroke-width:1.5;\"/>\n    </g>\n    <g id=\"line2d_24\"/>\n    <g id=\"text_17\">\n     <!-- P(die=2) -->\n     <g transform=\"translate(332.089063 38.476562)scale(0.1 -0.1)\">\n      <use xlink:href=\"#DejaVuSans-80\"/>\n      <use x=\"60.302734\" xlink:href=\"#DejaVuSans-40\"/>\n      <use x=\"99.316406\" xlink:href=\"#DejaVuSans-100\"/>\n      <use x=\"162.792969\" xlink:href=\"#DejaVuSans-105\"/>\n      <use x=\"190.576172\" xlink:href=\"#DejaVuSans-101\"/>\n      <use x=\"252.099609\" xlink:href=\"#DejaVuSans-61\"/>\n      <use x=\"335.888672\" xlink:href=\"#DejaVuSans-50\"/>\n      <use x=\"399.511719\" xlink:href=\"#DejaVuSans-41\"/>\n     </g>\n    </g>\n    <g id=\"line2d_25\">\n     <path d=\"M 304.089063 49.654687 \nL 324.089063 49.654687 \n\" style=\"fill:none;stroke:#2ca02c;stroke-linecap:square;stroke-width:1.5;\"/>\n    </g>\n    <g id=\"line2d_26\"/>\n    <g id=\"text_18\">\n     <!-- P(die=3) -->\n     <g transform=\"translate(332.089063 53.154687)scale(0.1 -0.1)\">\n      <use xlink:href=\"#DejaVuSans-80\"/>\n      <use x=\"60.302734\" xlink:href=\"#DejaVuSans-40\"/>\n      <use x=\"99.316406\" xlink:href=\"#DejaVuSans-100\"/>\n      <use x=\"162.792969\" xlink:href=\"#DejaVuSans-105\"/>\n      <use x=\"190.576172\" xlink:href=\"#DejaVuSans-101\"/>\n      <use x=\"252.099609\" xlink:href=\"#DejaVuSans-61\"/>\n      <use x=\"335.888672\" xlink:href=\"#DejaVuSans-51\"/>\n      <use x=\"399.511719\" xlink:href=\"#DejaVuSans-41\"/>\n     </g>\n    </g>\n    <g id=\"line2d_27\">\n     <path d=\"M 304.089063 64.332812 \nL 324.089063 64.332812 \n\" style=\"fill:none;stroke:#d62728;stroke-linecap:square;stroke-width:1.5;\"/>\n    </g>\n    <g id=\"line2d_28\"/>\n    <g id=\"text_19\">\n     <!-- P(die=4) -->\n     <g transform=\"translate(332.089063 67.832812)scale(0.1 -0.1)\">\n      <use xlink:href=\"#DejaVuSans-80\"/>\n      <use x=\"60.302734\" xlink:href=\"#DejaVuSans-40\"/>\n      <use x=\"99.316406\" xlink:href=\"#DejaVuSans-100\"/>\n      <use x=\"162.792969\" xlink:href=\"#DejaVuSans-105\"/>\n      <use x=\"190.576172\" xlink:href=\"#DejaVuSans-101\"/>\n      <use x=\"252.099609\" xlink:href=\"#DejaVuSans-61\"/>\n      <use x=\"335.888672\" xlink:href=\"#DejaVuSans-52\"/>\n      <use x=\"399.511719\" xlink:href=\"#DejaVuSans-41\"/>\n     </g>\n    </g>\n    <g id=\"line2d_29\">\n     <path d=\"M 304.089063 79.010937 \nL 324.089063 79.010937 \n\" style=\"fill:none;stroke:#9467bd;stroke-linecap:square;stroke-width:1.5;\"/>\n    </g>\n    <g id=\"line2d_30\"/>\n    <g id=\"text_20\">\n     <!-- P(die=5) -->\n     <g transform=\"translate(332.089063 82.510937)scale(0.1 -0.1)\">\n      <use xlink:href=\"#DejaVuSans-80\"/>\n      <use x=\"60.302734\" xlink:href=\"#DejaVuSans-40\"/>\n      <use x=\"99.316406\" xlink:href=\"#DejaVuSans-100\"/>\n      <use x=\"162.792969\" xlink:href=\"#DejaVuSans-105\"/>\n      <use x=\"190.576172\" xlink:href=\"#DejaVuSans-101\"/>\n      <use x=\"252.099609\" xlink:href=\"#DejaVuSans-61\"/>\n      <use x=\"335.888672\" xlink:href=\"#DejaVuSans-53\"/>\n      <use x=\"399.511719\" xlink:href=\"#DejaVuSans-41\"/>\n     </g>\n    </g>\n    <g id=\"line2d_31\">\n     <path d=\"M 304.089063 93.689062 \nL 324.089063 93.689062 \n\" style=\"fill:none;stroke:#8c564b;stroke-linecap:square;stroke-width:1.5;\"/>\n    </g>\n    <g id=\"line2d_32\"/>\n    <g id=\"text_21\">\n     <!-- P(die=6) -->\n     <g transform=\"translate(332.089063 97.189062)scale(0.1 -0.1)\">\n      <defs>\n       <path d=\"M 33.015625 40.375 \nQ 26.375 40.375 22.484375 35.828125 \nQ 18.609375 31.296875 18.609375 23.390625 \nQ 18.609375 15.53125 22.484375 10.953125 \nQ 26.375 6.390625 33.015625 6.390625 \nQ 39.65625 6.390625 43.53125 10.953125 \nQ 47.40625 15.53125 47.40625 23.390625 \nQ 47.40625 31.296875 43.53125 35.828125 \nQ 39.65625 40.375 33.015625 40.375 \nz\nM 52.59375 71.296875 \nL 52.59375 62.3125 \nQ 48.875 64.0625 45.09375 64.984375 \nQ 41.3125 65.921875 37.59375 65.921875 \nQ 27.828125 65.921875 22.671875 59.328125 \nQ 17.53125 52.734375 16.796875 39.40625 \nQ 19.671875 43.65625 24.015625 45.921875 \nQ 28.375 48.1875 33.59375 48.1875 \nQ 44.578125 48.1875 50.953125 41.515625 \nQ 57.328125 34.859375 57.328125 23.390625 \nQ 57.328125 12.15625 50.6875 5.359375 \nQ 44.046875 -1.421875 33.015625 -1.421875 \nQ 20.359375 -1.421875 13.671875 8.265625 \nQ 6.984375 17.96875 6.984375 36.375 \nQ 6.984375 53.65625 15.1875 63.9375 \nQ 23.390625 74.21875 37.203125 74.21875 \nQ 40.921875 74.21875 44.703125 73.484375 \nQ 48.484375 72.75 52.59375 71.296875 \nz\n\" id=\"DejaVuSans-54\"/>\n      </defs>\n      <use xlink:href=\"#DejaVuSans-80\"/>\n      <use x=\"60.302734\" xlink:href=\"#DejaVuSans-40\"/>\n      <use x=\"99.316406\" xlink:href=\"#DejaVuSans-100\"/>\n      <use x=\"162.792969\" xlink:href=\"#DejaVuSans-105\"/>\n      <use x=\"190.576172\" xlink:href=\"#DejaVuSans-101\"/>\n      <use x=\"252.099609\" xlink:href=\"#DejaVuSans-61\"/>\n      <use x=\"335.888672\" xlink:href=\"#DejaVuSans-54\"/>\n      <use x=\"399.511719\" xlink:href=\"#DejaVuSans-41\"/>\n     </g>\n    </g>\n   </g>\n  </g>\n </g>\n <defs>\n  <clipPath id=\"p426694ee8f\">\n   <rect height=\"244.62\" width=\"334.8\" x=\"50.14375\" y=\"7.2\"/>\n  </clipPath>\n </defs>\n</svg>\n",
      "text/plain": [
       "<Figure size 432x324 with 1 Axes>"
      ]
     },
     "metadata": {
      "needs_background": "light"
     },
     "output_type": "display_data"
    }
   ],
   "source": [
    "counts = multinomial.Multinomial(10, fair_probs).sample((500,))\n",
    "cum_counts = counts.cumsum(dim=0)\n",
    "estimates = cum_counts / cum_counts.sum(dim=1, keepdims=True)\n",
    "\n",
    "d2l.set_figsize((6, 4.5))\n",
    "for i in range(6):\n",
    "    d2l.plt.plot(estimates[:, i].numpy(),\n",
    "                 label=(\"P(die=\" + str(i + 1) + \")\"))\n",
    "d2l.plt.axhline(y=0.167, color='black', linestyle='dashed')\n",
    "d2l.plt.gca().set_xlabel('Groups of experiments')\n",
    "d2l.plt.gca().set_ylabel('Estimated probability')\n",
    "d2l.plt.legend();"
   ]
  },
  {
   "cell_type": "code",
   "execution_count": null,
   "metadata": {},
   "outputs": [],
   "source": []
  },
  {
   "cell_type": "code",
   "execution_count": null,
   "metadata": {},
   "outputs": [],
   "source": []
  },
  {
   "cell_type": "code",
   "execution_count": null,
   "metadata": {},
   "outputs": [],
   "source": []
  },
  {
   "cell_type": "code",
   "execution_count": null,
   "metadata": {},
   "outputs": [],
   "source": []
  },
  {
   "cell_type": "code",
   "execution_count": null,
   "metadata": {},
   "outputs": [],
   "source": []
  },
  {
   "cell_type": "code",
   "execution_count": null,
   "metadata": {},
   "outputs": [],
   "source": []
  },
  {
   "cell_type": "code",
   "execution_count": null,
   "metadata": {},
   "outputs": [],
   "source": []
  },
  {
   "cell_type": "code",
   "execution_count": null,
   "metadata": {},
   "outputs": [],
   "source": []
  },
  {
   "cell_type": "code",
   "execution_count": null,
   "metadata": {},
   "outputs": [],
   "source": []
  },
  {
   "cell_type": "code",
   "execution_count": null,
   "metadata": {},
   "outputs": [],
   "source": []
  },
  {
   "cell_type": "code",
   "execution_count": null,
   "metadata": {},
   "outputs": [],
   "source": []
  },
  {
   "cell_type": "code",
   "execution_count": null,
   "metadata": {},
   "outputs": [],
   "source": []
  },
  {
   "cell_type": "code",
   "execution_count": null,
   "metadata": {},
   "outputs": [],
   "source": []
  },
  {
   "cell_type": "code",
   "execution_count": null,
   "metadata": {},
   "outputs": [],
   "source": []
  },
  {
   "cell_type": "code",
   "execution_count": null,
   "metadata": {},
   "outputs": [],
   "source": []
  }
 ],
 "metadata": {
  "interpreter": {
   "hash": "531856777f2a1c59e3917960fb1cf0b4387b71528465a90c037674f0400b65fb"
  },
  "kernelspec": {
   "display_name": "Python 3.7.2 64-bit ('base': conda)",
   "language": "python",
   "name": "python3"
  },
  "language_info": {
   "codemirror_mode": {
    "name": "ipython",
    "version": 3
   },
   "file_extension": ".py",
   "mimetype": "text/x-python",
   "name": "python",
   "nbconvert_exporter": "python",
   "pygments_lexer": "ipython3",
   "version": "3.8.12"
  },
  "orig_nbformat": 4
 },
 "nbformat": 4,
 "nbformat_minor": 2
}
